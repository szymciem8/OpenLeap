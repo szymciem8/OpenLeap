{
 "cells": [
  {
   "cell_type": "code",
   "execution_count": 3,
   "id": "62c72f38",
   "metadata": {
    "collapsed": true
   },
   "outputs": [
    {
     "name": "stdout",
     "output_type": "stream",
     "text": [
      "Defaulting to user installation because normal site-packages is not writeable"
     ]
    },
    {
     "name": "stderr",
     "output_type": "stream",
     "text": [
      "WARNING: You are using pip version 21.2.3; however, version 21.2.4 is available."
     ]
    },
    {
     "name": "stdout",
     "output_type": "stream",
     "text": [
      "\n",
      "Requirement already satisfied: mediapipe in c:\\users\\szymon\\appdata\\roaming\\python\\python39\\site-packages (0.8.7.3)\n",
      "Requirement already satisfied: opencv-python in c:\\users\\szymon\\appdata\\roaming\\python\\python39\\site-packages (4.5.3.56)\n",
      "Requirement already satisfied: opencv-contrib-python in c:\\users\\szymon\\appdata\\roaming\\python\\python39\\site-packages (from mediapipe) (4.5.3.56)\n",
      "Requirement already satisfied: matplotlib in c:\\users\\szymon\\appdata\\roaming\\python\\python39\\site-packages (from mediapipe) (3.4.3)\n",
      "Requirement already satisfied: protobuf>=3.11.4 in c:\\users\\szymon\\appdata\\roaming\\python\\python39\\site-packages (from mediapipe) (3.18.0)\n",
      "Requirement already satisfied: attrs>=19.1.0 in c:\\users\\szymon\\appdata\\roaming\\python\\python39\\site-packages (from mediapipe) (21.2.0)\n",
      "Requirement already satisfied: wheel in c:\\users\\szymon\\appdata\\roaming\\python\\python39\\site-packages (from mediapipe) (0.37.0)\n",
      "Requirement already satisfied: numpy in c:\\users\\szymon\\appdata\\roaming\\python\\python39\\site-packages (from mediapipe) (1.21.2)\n",
      "Requirement already satisfied: absl-py in c:\\users\\szymon\\appdata\\roaming\\python\\python39\\site-packages (from mediapipe) (0.14.0)\n",
      "Requirement already satisfied: six in c:\\users\\szymon\\appdata\\roaming\\python\\python39\\site-packages (from mediapipe) (1.16.0)\n",
      "Requirement already satisfied: python-dateutil>=2.7 in c:\\users\\szymon\\appdata\\roaming\\python\\python39\\site-packages (from matplotlib->mediapipe) (2.8.2)\n",
      "Requirement already satisfied: cycler>=0.10 in c:\\users\\szymon\\appdata\\roaming\\python\\python39\\site-packages (from matplotlib->mediapipe) (0.10.0)\n",
      "Requirement already satisfied: kiwisolver>=1.0.1 in c:\\users\\szymon\\appdata\\roaming\\python\\python39\\site-packages (from matplotlib->mediapipe) (1.3.2)\n",
      "Requirement already satisfied: pillow>=6.2.0 in c:\\users\\szymon\\appdata\\roaming\\python\\python39\\site-packages (from matplotlib->mediapipe) (8.3.2)\n",
      "Requirement already satisfied: pyparsing>=2.2.1 in c:\\users\\szymon\\appdata\\roaming\\python\\python39\\site-packages (from matplotlib->mediapipe) (2.4.7)\n"
     ]
    },
    {
     "name": "stderr",
     "output_type": "stream",
     "text": [
      "\n",
      "You should consider upgrading via the 'C:\\Program Files\\Python39\\python.exe -m pip install --upgrade pip' command.\n"
     ]
    }
   ],
   "source": [
    "!pip install mediapipe opencv-python"
   ]
  },
  {
   "cell_type": "code",
   "execution_count": 1,
   "id": "33d5808f",
   "metadata": {},
   "outputs": [],
   "source": [
    "import mediapipe as mp\n",
    "import cv2\n",
    "import numpy as np\n",
    "import uuid\n",
    "import os"
   ]
  },
  {
   "cell_type": "code",
   "execution_count": 2,
   "id": "3c46d7f7",
   "metadata": {},
   "outputs": [],
   "source": [
    "mp_drawing = mp.solutions.drawing_utils\n",
    "mp_hands = mp.solutions.hands"
   ]
  },
  {
   "cell_type": "markdown",
   "id": "f9665cad",
   "metadata": {},
   "source": [
    "# 2. Draw Hands\n",
    "<img src=https://i.imgur.com/qpRACer.png />"
   ]
  },
  {
   "cell_type": "code",
   "execution_count": 5,
   "id": "f7afdaca",
   "metadata": {},
   "outputs": [
    {
     "name": "stdout",
     "output_type": "stream",
     "text": [
      "(480, 640, 3)\n"
     ]
    }
   ],
   "source": [
    "cap = cv2.VideoCapture(0)\n",
    "\n",
    "with mp_hands.Hands(min_detection_confidence=0.8, min_tracking_confidence=0.5) as hands:\n",
    "    while cap.isOpened():\n",
    "        ret, frame = cap.read()\n",
    "        \n",
    "        #BGR to RGB\n",
    "        image = cv2.cvtColor(frame, cv2.COLOR_BGR2RGB)\n",
    "        \n",
    "        #Flip horizontal\n",
    "        image = cv2.flip(image, 1)\n",
    "        \n",
    "        #Set flag\n",
    "        image.flags.writeable = False\n",
    "        \n",
    "        #Detections\n",
    "        results = hands.process(image)\n",
    "        \n",
    "        #Set flag back to True\n",
    "        image.flags.writeable = True\n",
    "        \n",
    "        #RGB to BGR\n",
    "        image = cv2.cvtColor(image, cv2.COLOR_RGB2BGR)\n",
    "        \n",
    "        #print(results)\n",
    "        \n",
    "        #Rendering results\n",
    "        if results.multi_hand_landmarks:\n",
    "            for num, hand in enumerate(results.multi_hand_landmarks):\n",
    "                mp_drawing.draw_landmarks(image, hand, mp_hands.HAND_CONNECTIONS, \n",
    "                                         mp_drawing.DrawingSpec(color=(0,255,0), thickness=2, circle_radius=4), \n",
    "                                         mp_drawing.DrawingSpec(color=(0,0,255), thickness=2, circle_radius=4))\n",
    "\n",
    "        #image = cv2.flip(image, 0)\n",
    "        cv2.imshow(\"Hand Tracking\", image)\n",
    "\n",
    "        if cv2.waitKey(10) & 0xFF == ord('q'):\n",
    "            break\n",
    "    print(image.shape)\n",
    "\n",
    "    cap.release()\n",
    "    cv2.destroyAllWindows()"
   ]
  },
  {
   "cell_type": "code",
   "execution_count": 15,
   "id": "d35fc357",
   "metadata": {},
   "outputs": [
    {
     "data": {
      "text/plain": [
       "[landmark {\n",
       "   x: 0.1204281598329544\n",
       "   y: 0.680406391620636\n",
       "   z: 0.0\n",
       " }\n",
       " landmark {\n",
       "   x: 0.22263863682746887\n",
       "   y: 0.6174689531326294\n",
       "   z: -0.04750192165374756\n",
       " }\n",
       " landmark {\n",
       "   x: 0.3030247986316681\n",
       "   y: 0.5117108225822449\n",
       "   z: -0.06817018985748291\n",
       " }\n",
       " landmark {\n",
       "   x: 0.35664963722229004\n",
       "   y: 0.4073064625263214\n",
       "   z: -0.08916173130273819\n",
       " }\n",
       " landmark {\n",
       "   x: 0.401302695274353\n",
       "   y: 0.3241441249847412\n",
       "   z: -0.11012090742588043\n",
       " }\n",
       " landmark {\n",
       "   x: 0.20998145639896393\n",
       "   y: 0.2994726896286011\n",
       "   z: -0.008263284340500832\n",
       " }\n",
       " landmark {\n",
       "   x: 0.2416376918554306\n",
       "   y: 0.1559467911720276\n",
       "   z: -0.0366806834936142\n",
       " }\n",
       " landmark {\n",
       "   x: 0.26589083671569824\n",
       "   y: 0.06693273782730103\n",
       "   z: -0.060824859887361526\n",
       " }\n",
       " landmark {\n",
       "   x: 0.29197004437446594\n",
       "   y: -0.00497359037399292\n",
       "   z: -0.0774669200181961\n",
       " }\n",
       " landmark {\n",
       "   x: 0.13469147682189941\n",
       "   y: 0.27844271063804626\n",
       "   z: -0.014230594970285892\n",
       " }\n",
       " landmark {\n",
       "   x: 0.13003697991371155\n",
       "   y: 0.11188454926013947\n",
       "   z: -0.034049682319164276\n",
       " }\n",
       " landmark {\n",
       "   x: 0.13841795921325684\n",
       "   y: 0.001416712999343872\n",
       "   z: -0.05821830779314041\n",
       " }\n",
       " landmark {\n",
       "   x: 0.15649430453777313\n",
       "   y: -0.08678555488586426\n",
       "   z: -0.07882101088762283\n",
       " }\n",
       " landmark {\n",
       "   x: 0.068557009100914\n",
       "   y: 0.30084913969039917\n",
       "   z: -0.030929608270525932\n",
       " }\n",
       " landmark {\n",
       "   x: 0.040436193346977234\n",
       "   y: 0.1476696878671646\n",
       "   z: -0.0613446906208992\n",
       " }\n",
       " landmark {\n",
       "   x: 0.04252677410840988\n",
       "   y: 0.043882012367248535\n",
       "   z: -0.0909467488527298\n",
       " }\n",
       " landmark {\n",
       "   x: 0.05906883627176285\n",
       "   y: -0.03911483287811279\n",
       "   z: -0.11111578345298767\n",
       " }\n",
       " landmark {\n",
       "   x: 0.011116400361061096\n",
       "   y: 0.3561485707759857\n",
       "   z: -0.05445380508899689\n",
       " }\n",
       " landmark {\n",
       "   x: -0.0325654000043869\n",
       "   y: 0.2514975070953369\n",
       "   z: -0.08326026052236557\n",
       " }\n",
       " landmark {\n",
       "   x: -0.042857810854911804\n",
       "   y: 0.1787019520998001\n",
       "   z: -0.1034804955124855\n",
       " }\n",
       " landmark {\n",
       "   x: -0.035589754581451416\n",
       "   y: 0.11275875568389893\n",
       "   z: -0.1174544245004654\n",
       " },\n",
       " landmark {\n",
       "   x: 0.7342785000801086\n",
       "   y: 0.7525222301483154\n",
       "   z: 0.0\n",
       " }\n",
       " landmark {\n",
       "   x: 0.6594852209091187\n",
       "   y: 0.6978799700737\n",
       "   z: -0.02734958566725254\n",
       " }\n",
       " landmark {\n",
       "   x: 0.5925662517547607\n",
       "   y: 0.6201003789901733\n",
       "   z: -0.05682731419801712\n",
       " }\n",
       " landmark {\n",
       "   x: 0.5293545126914978\n",
       "   y: 0.5678743124008179\n",
       "   z: -0.09071946889162064\n",
       " }\n",
       " landmark {\n",
       "   x: 0.4629611372947693\n",
       "   y: 0.5450667142868042\n",
       "   z: -0.1265604943037033\n",
       " }\n",
       " landmark {\n",
       "   x: 0.6381360292434692\n",
       "   y: 0.4166967570781708\n",
       "   z: -0.03236813843250275\n",
       " }\n",
       " landmark {\n",
       "   x: 0.6022060513496399\n",
       "   y: 0.2798523008823395\n",
       "   z: -0.0691545158624649\n",
       " }\n",
       " landmark {\n",
       "   x: 0.5805593132972717\n",
       "   y: 0.19814862310886383\n",
       "   z: -0.09623237699270248\n",
       " }\n",
       " landmark {\n",
       "   x: 0.561972975730896\n",
       "   y: 0.12594667077064514\n",
       "   z: -0.116545170545578\n",
       " }\n",
       " landmark {\n",
       "   x: 0.6947457790374756\n",
       "   y: 0.4020324945449829\n",
       "   z: -0.05549538508057594\n",
       " }\n",
       " landmark {\n",
       "   x: 0.6878806352615356\n",
       "   y: 0.24188807606697083\n",
       "   z: -0.08706509321928024\n",
       " }\n",
       " landmark {\n",
       "   x: 0.6764047145843506\n",
       "   y: 0.150751531124115\n",
       "   z: -0.11123625189065933\n",
       " }\n",
       " landmark {\n",
       "   x: 0.6633085012435913\n",
       "   y: 0.07045421004295349\n",
       "   z: -0.13208234310150146\n",
       " }\n",
       " landmark {\n",
       "   x: 0.7508451342582703\n",
       "   y: 0.42649638652801514\n",
       "   z: -0.08458570390939713\n",
       " }\n",
       " landmark {\n",
       "   x: 0.7723863124847412\n",
       "   y: 0.274969220161438\n",
       "   z: -0.12315386533737183\n",
       " }\n",
       " landmark {\n",
       "   x: 0.7767225503921509\n",
       "   y: 0.1819242537021637\n",
       "   z: -0.14980052411556244\n",
       " }\n",
       " landmark {\n",
       "   x: 0.7755316495895386\n",
       "   y: 0.10035336017608643\n",
       "   z: -0.16892662644386292\n",
       " }\n",
       " landmark {\n",
       "   x: 0.8028391003608704\n",
       "   y: 0.4830193519592285\n",
       "   z: -0.11726460605859756\n",
       " }\n",
       " landmark {\n",
       "   x: 0.8528043031692505\n",
       "   y: 0.38374191522598267\n",
       "   z: -0.1509433388710022\n",
       " }\n",
       " landmark {\n",
       "   x: 0.8857622146606445\n",
       "   y: 0.3143041431903839\n",
       "   z: -0.16793373227119446\n",
       " }\n",
       " landmark {\n",
       "   x: 0.9113636016845703\n",
       "   y: 0.24834123253822327\n",
       "   z: -0.18100297451019287\n",
       " }]"
      ]
     },
     "execution_count": 15,
     "metadata": {},
     "output_type": "execute_result"
    }
   ],
   "source": [
    "results.multi_hand_landmarks"
   ]
  },
  {
   "cell_type": "markdown",
   "id": "16fb7533",
   "metadata": {},
   "source": [
    "# Detect Left and Right Hand"
   ]
  },
  {
   "cell_type": "code",
   "execution_count": 20,
   "id": "135be071",
   "metadata": {
    "scrolled": true
   },
   "outputs": [
    {
     "data": {
      "text/plain": [
       "x: 0.7342785000801086\n",
       "y: 0.7525222301483154\n",
       "z: 0.0"
      ]
     },
     "execution_count": 20,
     "metadata": {},
     "output_type": "execute_result"
    }
   ],
   "source": [
    "results.multi_hand_landmarks[1].landmark[mp_hands.HandLandmark.WRIST]"
   ]
  },
  {
   "cell_type": "code",
   "execution_count": 17,
   "id": "bf24286f",
   "metadata": {},
   "outputs": [
    {
     "data": {
      "text/plain": [
       "index: 0\n",
       "score: 0.976839005947113\n",
       "label: \"Left\""
      ]
     },
     "execution_count": 17,
     "metadata": {},
     "output_type": "execute_result"
    }
   ],
   "source": [
    "results.multi_handedness[0].classification[0]"
   ]
  },
  {
   "cell_type": "code",
   "execution_count": 3,
   "id": "5b39f572",
   "metadata": {},
   "outputs": [],
   "source": [
    "def get_label(index, hand, results):\n",
    "    output=None\n",
    "    for idx, classification in enumerate(results.multi_handedness):\n",
    "        if classification.classification[0].index == index:\n",
    "            \n",
    "            label = classification.classification[0].label\n",
    "            score = classification.classification[0].score\n",
    "            text = '{} {}'.format(label, round(score, 2))\n",
    "            \n",
    "            coords = tuple(np.multiply(\n",
    "                np.array((hand.landmark[mp_hands.HandLandmark.THUMB_TIP].x, hand.landmark[mp_hands.HandLandmark.THUMB_TIP].y)),\n",
    "                         [640, 480]).astype(int))\n",
    "            \n",
    "            output = text, coords\n",
    "        \n",
    "    return output"
   ]
  },
  {
   "cell_type": "code",
   "execution_count": 11,
   "id": "4f263ea1",
   "metadata": {},
   "outputs": [
    {
     "data": {
      "text/plain": [
       "('Left 0.97', (210, 121))"
      ]
     },
     "execution_count": 11,
     "metadata": {},
     "output_type": "execute_result"
    }
   ],
   "source": [
    "get_label(num, hand, results)"
   ]
  },
  {
   "cell_type": "code",
   "execution_count": 18,
   "id": "9245a8d0",
   "metadata": {},
   "outputs": [],
   "source": [
    "cap = cv2.VideoCapture(0)\n",
    "\n",
    "with mp_hands.Hands(min_detection_confidence=0.8, min_tracking_confidence=0.5) as hands:\n",
    "    while cap.isOpened():\n",
    "        ret, frame = cap.read()\n",
    "        \n",
    "        #BGR to RGB\n",
    "        image = cv2.cvtColor(frame, cv2.COLOR_BGR2RGB)\n",
    "        \n",
    "        #Flip horizontal\n",
    "        image = cv2.flip(image, 1)\n",
    "        \n",
    "        #Set flag\n",
    "        image.flags.writeable = False\n",
    "        \n",
    "        #Detections\n",
    "        results = hands.process(image)\n",
    "        \n",
    "        #Set flag back to True\n",
    "        image.flags.writeable = True\n",
    "        \n",
    "        #RGB to BGR\n",
    "        image = cv2.cvtColor(image, cv2.COLOR_RGB2BGR)\n",
    "        \n",
    "        #print(results)\n",
    "        \n",
    "        #Rendering results\n",
    "        if results.multi_hand_landmarks:\n",
    "            for num, hand in enumerate(results.multi_hand_landmarks):\n",
    "                mp_drawing.draw_landmarks(image, hand, mp_hands.HAND_CONNECTIONS, \n",
    "                                         mp_drawing.DrawingSpec(color=(0,255,0), thickness=2, circle_radius=4), \n",
    "                                         mp_drawing.DrawingSpec(color=(0,0,255), thickness=2, circle_radius=4))\n",
    "                \n",
    "                if get_label(num, hand, results):\n",
    "                    text, coord = get_label(num, hand, results)\n",
    "                    cv2.putText(image, text, coord, cv2.FONT_HERSHEY_SIMPLEX, 1, (255, 0, 0), 2, cv2.LINE_AA)\n",
    "\n",
    "        #image = cv2.flip(image, 0)\n",
    "        cv2.imshow(\"Hand Tracking\", image)\n",
    "\n",
    "        if cv2.waitKey(10) & 0xFF == ord('q'):\n",
    "            break\n",
    "\n",
    "    cap.release()\n",
    "    cv2.destroyAllWindows()"
   ]
  },
  {
   "cell_type": "markdown",
   "id": "93e3376b",
   "metadata": {},
   "source": [
    "# Line Between Fingers"
   ]
  },
  {
   "cell_type": "code",
   "execution_count": 23,
   "id": "0461c930",
   "metadata": {},
   "outputs": [
    {
     "data": {
      "text/plain": [
       "0.4825209379196167"
      ]
     },
     "execution_count": 23,
     "metadata": {},
     "output_type": "execute_result"
    }
   ],
   "source": [
    "x_index_finger = results.multi_hand_landmarks[0].landmark[mp_hands.HandLandmark.INDEX_FINGER_TIP].x\n",
    "y_index_finger = results.multi_hand_landmarks[0].landmark[mp_hands.HandLandmark.INDEX_FINGER_DIP].y\n",
    "\n",
    "x_thumb_finger = results.multi_hand_landmarks[0].landmark[mp_hands.HandLandmark.THUMB_TIP].x\n",
    "y_thumb_finger = results.multi_hand_landmarks[0].landmark[mp_hands.HandLandmark.THUMB_TIP].y"
   ]
  },
  {
   "cell_type": "code",
   "execution_count": 4,
   "id": "defa97e3",
   "metadata": {},
   "outputs": [],
   "source": [
    "def get_position(landmark_idx = mp_hands.HandLandmark.INDEX_FINGER_TIP):\n",
    "    x = int(results.multi_hand_landmarks[0].landmark[landmark_idx].x * 640)\n",
    "    y = int(results.multi_hand_landmarks[0].landmark[landmark_idx].y * 480)\n",
    "    z = results.multi_hand_landmarks[0].landmark[landmark_idx].y\n",
    "    \n",
    "    return x, y, z\n",
    "\n",
    "def get_distance(x1, y1, x2, y2):\n",
    "    distance = ((x1-x2)**2 + (y1-y2)**2)**0.5\n",
    "    return distance\n",
    "    "
   ]
  },
  {
   "cell_type": "code",
   "execution_count": 36,
   "id": "d4f1128a",
   "metadata": {},
   "outputs": [
    {
     "data": {
      "text/plain": [
       "array([3, 3])"
      ]
     },
     "execution_count": 36,
     "metadata": {},
     "output_type": "execute_result"
    }
   ],
   "source": [
    "np.array([3, 3])"
   ]
  },
  {
   "cell_type": "code",
   "execution_count": 5,
   "id": "c87ea422",
   "metadata": {},
   "outputs": [],
   "source": [
    "cap = cv2.VideoCapture(0)\n",
    "\n",
    "with mp_hands.Hands(min_detection_confidence=0.8, min_tracking_confidence=0.5) as hands:\n",
    "    while cap.isOpened():\n",
    "        ret, frame = cap.read()\n",
    "        \n",
    "        #BGR to RGB\n",
    "        image = cv2.cvtColor(frame, cv2.COLOR_BGR2RGB)\n",
    "        \n",
    "        #Flip horizontal\n",
    "        image = cv2.flip(image, 1)\n",
    "        \n",
    "        #Set flag\n",
    "        image.flags.writeable = False\n",
    "        \n",
    "        #Detections\n",
    "        results = hands.process(image)\n",
    "        \n",
    "        #Set flag back to True\n",
    "        image.flags.writeable = True\n",
    "        \n",
    "        #RGB to BGR\n",
    "        image = cv2.cvtColor(image, cv2.COLOR_RGB2BGR)\n",
    "        \n",
    "\n",
    "        #Rendering results\n",
    "        if results.multi_hand_landmarks:\n",
    "            for num, hand in enumerate(results.multi_hand_landmarks):\n",
    "                mp_drawing.draw_landmarks(image, hand, mp_hands.HAND_CONNECTIONS, \n",
    "                                         mp_drawing.DrawingSpec(color=(0,255,0), thickness=2, circle_radius=4), \n",
    "                                         mp_drawing.DrawingSpec(color=(0,0,255), thickness=2, circle_radius=4))\n",
    "                \n",
    "                \n",
    "            x1, y1, z1 = get_position(mp_hands.HandLandmark.INDEX_FINGER_MCP)\n",
    "            x2, y2, z2 = get_position(mp_hands.HandLandmark.WRIST)\n",
    "            base = int(get_distance(x1, y1, x2, y2))\n",
    "                \n",
    "            x1, y1, z1 = get_position(mp_hands.HandLandmark.INDEX_FINGER_TIP)\n",
    "            #cv2.putText(image, 'INDEX', (x1, y1), cv2.FONT_HERSHEY_SIMPLEX, 1, (255, 0, 0), 2, cv2.LINE_AA)\n",
    "            \n",
    "            x2, y2, z2 = get_position(mp_hands.HandLandmark.THUMB_TIP)\n",
    "            #cv2.putText(image, 'THUMB', (x2, y2), cv2.FONT_HERSHEY_SIMPLEX, 1, (255, 0, 0), 2, cv2.LINE_AA)\n",
    "            \n",
    "            cv2.line(image, (x1, y1), (x2, y2), (255, 125, 100), 2)\n",
    "            \n",
    "            dist = str(int(100*get_distance(x1, y1, x2, y2)/base)) \n",
    "            cv2.putText(image, dist, (x2, y2), cv2.FONT_HERSHEY_SIMPLEX, 1, (255, 0, 0), 2, cv2.LINE_AA)\n",
    "            #cv2.putText(image, str(z1), (x1, y1), cv2.FONT_HERSHEY_SIMPLEX, 1, (255, 0, 0), 2, cv2.LINE_AA)\n",
    "            \n",
    "        #image = cv2.flip(image, 0)\n",
    "        cv2.imshow(\"Hand Tracking\", image)\n",
    "\n",
    "        if cv2.waitKey(10) & 0xFF == ord('q'):\n",
    "            break\n",
    "\n",
    "    cap.release()\n",
    "    cv2.destroyAllWindows()"
   ]
  }
 ],
 "metadata": {
  "interpreter": {
   "hash": "ac59ebe37160ed0dfa835113d9b8498d9f09ceb179beaac4002f036b9467c963"
  },
  "kernelspec": {
   "display_name": "Python 3 (ipykernel)",
   "language": "python",
   "name": "python3"
  },
  "language_info": {
   "codemirror_mode": {
    "name": "ipython",
    "version": 3
   },
   "file_extension": ".py",
   "mimetype": "text/x-python",
   "name": "python",
   "nbconvert_exporter": "python",
   "pygments_lexer": "ipython3",
   "version": "3.8.10"
  }
 },
 "nbformat": 4,
 "nbformat_minor": 5
}
