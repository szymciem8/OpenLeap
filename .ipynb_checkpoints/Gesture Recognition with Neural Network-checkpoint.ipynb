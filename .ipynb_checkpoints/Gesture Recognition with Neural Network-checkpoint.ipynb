{
 "cells": [
  {
   "cell_type": "code",
   "execution_count": 14,
   "id": "fd83a330",
   "metadata": {},
   "outputs": [],
   "source": [
    "import mediapipe as mp\n",
    "import cv2\n",
    "import numpy as np"
   ]
  },
  {
   "cell_type": "markdown",
   "id": "016097b7",
   "metadata": {},
   "source": [
    "# Draw Hands\n",
    "<img src=https://i.imgur.com/qpRACer.png />"
   ]
  },
  {
   "cell_type": "code",
   "execution_count": 15,
   "id": "343f92b2",
   "metadata": {},
   "outputs": [],
   "source": [
    "mp_drawing = mp.solutions.drawing_utils\n",
    "mp_hands = mp.solutions.hands"
   ]
  },
  {
   "cell_type": "code",
   "execution_count": 16,
   "id": "0823b2d6",
   "metadata": {},
   "outputs": [
    {
     "name": "stderr",
     "output_type": "stream",
     "text": [
      "INFO: Created TensorFlow Lite XNNPACK delegate for CPU.\n"
     ]
    },
    {
     "name": "stdout",
     "output_type": "stream",
     "text": [
      "(480, 640, 3)\n"
     ]
    }
   ],
   "source": [
    "cap = cv2.VideoCapture(0)\n",
    "\n",
    "with mp_hands.Hands(min_detection_confidence=0.8, min_tracking_confidence=0.5) as hands:\n",
    "    while cap.isOpened():\n",
    "        ret, frame = cap.read()\n",
    "        \n",
    "        #BGR to RGB\n",
    "        image = cv2.cvtColor(frame, cv2.COLOR_BGR2RGB)\n",
    "        \n",
    "        #Flip horizontal\n",
    "        image = cv2.flip(image, 1)\n",
    "        \n",
    "        #Set flag\n",
    "        image.flags.writeable = False\n",
    "        \n",
    "        #Detections\n",
    "        results = hands.process(image)\n",
    "        \n",
    "        #Set flag back to True\n",
    "        image.flags.writeable = True\n",
    "        \n",
    "        #RGB to BGR\n",
    "        image = cv2.cvtColor(image, cv2.COLOR_RGB2BGR)\n",
    "        \n",
    "        #print(results)\n",
    "        \n",
    "        #Rendering results\n",
    "        if results.multi_hand_landmarks:\n",
    "            for num, hand in enumerate(results.multi_hand_landmarks):\n",
    "                mp_drawing.draw_landmarks(image, hand, mp_hands.HAND_CONNECTIONS, \n",
    "                                         mp_drawing.DrawingSpec(color=(0,255,0), thickness=2, circle_radius=4), \n",
    "                                         mp_drawing.DrawingSpec(color=(0,0,255), thickness=2, circle_radius=4))\n",
    "\n",
    "        #image = cv2.flip(image, 0)\n",
    "        cv2.imshow(\"Hand Tracking\", image)\n",
    "\n",
    "        if cv2.waitKey(10) & 0xFF == ord('q'):\n",
    "            break\n",
    "    print(image.shape)\n",
    "\n",
    "    cap.release()\n",
    "    cv2.destroyAllWindows()"
   ]
  },
  {
   "cell_type": "code",
   "execution_count": 17,
   "id": "9513d239",
   "metadata": {
    "scrolled": true
   },
   "outputs": [
    {
     "data": {
      "text/plain": [
       "[x: 0.313675194978714\n",
       "y: 0.5741285681724548\n",
       "z: 0.0\n",
       ", x: 0.4029574692249298\n",
       "y: 0.5436909794807434\n",
       "z: -0.026419242843985558\n",
       ", x: 0.480121374130249\n",
       "y: 0.47662732005119324\n",
       "z: -0.037511758506298065\n",
       ", x: 0.5375069379806519\n",
       "y: 0.41631564497947693\n",
       "z: -0.05002018064260483\n",
       ", x: 0.5907394289970398\n",
       "y: 0.38055795431137085\n",
       "z: -0.06286533176898956\n",
       ", x: 0.43221890926361084\n",
       "y: 0.3094707131385803\n",
       "z: -0.0003019394353032112\n",
       ", x: 0.4783933758735657\n",
       "y: 0.20868521928787231\n",
       "z: -0.01714002899825573\n",
       ", x: 0.5056679844856262\n",
       "y: 0.14399197697639465\n",
       "z: -0.032333437353372574\n",
       ", x: 0.5285094380378723\n",
       "y: 0.08548034727573395\n",
       "z: -0.04517500847578049\n",
       ", x: 0.3811388909816742\n",
       "y: 0.27976295351982117\n",
       "z: -0.011618446558713913\n",
       ", x: 0.40771621465682983\n",
       "y: 0.1643926501274109\n",
       "z: -0.02500271424651146\n",
       ", x: 0.4248923659324646\n",
       "y: 0.09670032560825348\n",
       "z: -0.040496524423360825\n",
       ", x: 0.43640992045402527\n",
       "y: 0.03594920039176941\n",
       "z: -0.054917797446250916\n",
       ", x: 0.32878172397613525\n",
       "y: 0.28085842728614807\n",
       "z: -0.030325982719659805\n",
       ", x: 0.333834171295166\n",
       "y: 0.163303941488266\n",
       "z: -0.05540970712900162\n",
       ", x: 0.34472188353538513\n",
       "y: 0.09074606001377106\n",
       "z: -0.07857871055603027\n",
       ", x: 0.3557114899158478\n",
       "y: 0.028187930583953857\n",
       "z: -0.09498182684183121\n",
       ", x: 0.2735987901687622\n",
       "y: 0.3078641891479492\n",
       "z: -0.05313951149582863\n",
       ", x: 0.23253799974918365\n",
       "y: 0.22098177671432495\n",
       "z: -0.07948917150497437\n",
       ", x: 0.20593462884426117\n",
       "y: 0.16200977563858032\n",
       "z: -0.09720685333013535\n",
       ", x: 0.18691515922546387\n",
       "y: 0.10623645782470703\n",
       "z: -0.10975935310125351\n",
       "]"
      ]
     },
     "execution_count": 17,
     "metadata": {},
     "output_type": "execute_result"
    }
   ],
   "source": [
    "results.multi_hand_landmarks[0].landmark"
   ]
  },
  {
   "cell_type": "markdown",
   "id": "5f0fbdb3",
   "metadata": {},
   "source": [
    "# Capturing Landmarks & Export to CSV"
   ]
  },
  {
   "cell_type": "code",
   "execution_count": 18,
   "id": "e359df88",
   "metadata": {},
   "outputs": [],
   "source": [
    "import csv\n",
    "import os\n",
    "import numpy as np"
   ]
  },
  {
   "cell_type": "code",
   "execution_count": 19,
   "id": "51dab1c9",
   "metadata": {},
   "outputs": [],
   "source": [
    "num_coords = len(results.multi_hand_landmarks[0].landmark)"
   ]
  },
  {
   "cell_type": "code",
   "execution_count": 20,
   "id": "9e8f2374",
   "metadata": {},
   "outputs": [],
   "source": [
    "landmarks = ['class']\n",
    "for val in range(0, num_coords):\n",
    "    landmarks += ['x{}'.format(val), 'y{}'.format(val), 'z{}'.format(val)]"
   ]
  },
  {
   "cell_type": "code",
   "execution_count": 21,
   "id": "68a47fb0",
   "metadata": {
    "collapsed": true
   },
   "outputs": [
    {
     "data": {
      "text/plain": [
       "['class',\n",
       " 'x0',\n",
       " 'y0',\n",
       " 'z0',\n",
       " 'x1',\n",
       " 'y1',\n",
       " 'z1',\n",
       " 'x2',\n",
       " 'y2',\n",
       " 'z2',\n",
       " 'x3',\n",
       " 'y3',\n",
       " 'z3',\n",
       " 'x4',\n",
       " 'y4',\n",
       " 'z4',\n",
       " 'x5',\n",
       " 'y5',\n",
       " 'z5',\n",
       " 'x6',\n",
       " 'y6',\n",
       " 'z6',\n",
       " 'x7',\n",
       " 'y7',\n",
       " 'z7',\n",
       " 'x8',\n",
       " 'y8',\n",
       " 'z8',\n",
       " 'x9',\n",
       " 'y9',\n",
       " 'z9',\n",
       " 'x10',\n",
       " 'y10',\n",
       " 'z10',\n",
       " 'x11',\n",
       " 'y11',\n",
       " 'z11',\n",
       " 'x12',\n",
       " 'y12',\n",
       " 'z12',\n",
       " 'x13',\n",
       " 'y13',\n",
       " 'z13',\n",
       " 'x14',\n",
       " 'y14',\n",
       " 'z14',\n",
       " 'x15',\n",
       " 'y15',\n",
       " 'z15',\n",
       " 'x16',\n",
       " 'y16',\n",
       " 'z16',\n",
       " 'x17',\n",
       " 'y17',\n",
       " 'z17',\n",
       " 'x18',\n",
       " 'y18',\n",
       " 'z18',\n",
       " 'x19',\n",
       " 'y19',\n",
       " 'z19',\n",
       " 'x20',\n",
       " 'y20',\n",
       " 'z20']"
      ]
     },
     "execution_count": 21,
     "metadata": {},
     "output_type": "execute_result"
    }
   ],
   "source": [
    "landmarks"
   ]
  },
  {
   "cell_type": "code",
   "execution_count": 30,
   "id": "943b1e11",
   "metadata": {},
   "outputs": [],
   "source": [
    "with open('coords.csv', mode='w', newline='') as f:\n",
    "    csv_writer = csv.writer(f, delimiter=',', quotechar='\"', quoting=csv.QUOTE_MINIMAL)\n",
    "    csv_writer.writerow(landmarks)"
   ]
  },
  {
   "cell_type": "code",
   "execution_count": 150,
   "id": "3b474a3f",
   "metadata": {},
   "outputs": [],
   "source": [
    "class_name = \"OK\""
   ]
  },
  {
   "cell_type": "code",
   "execution_count": 135,
   "id": "4da282a8",
   "metadata": {},
   "outputs": [
    {
     "name": "stdout",
     "output_type": "stream",
     "text": [
      "(480, 640, 3)\n"
     ]
    }
   ],
   "source": [
    "cap = cv2.VideoCapture(0)\n",
    "\n",
    "detections = 0\n",
    "with mp_hands.Hands(min_detection_confidence=0.8, min_tracking_confidence=0.5) as hands:\n",
    "    while cap.isOpened():\n",
    "        ret, frame = cap.read()\n",
    "        \n",
    "        #BGR to RGB\n",
    "        image = cv2.cvtColor(frame, cv2.COLOR_BGR2RGB)\n",
    "        \n",
    "        #Flip horizontal\n",
    "        image = cv2.flip(image, 1)\n",
    "        \n",
    "        #Set flag\n",
    "        image.flags.writeable = False\n",
    "        \n",
    "        #Detections\n",
    "        results = hands.process(image)\n",
    "        \n",
    "        #Set flag back to True\n",
    "        image.flags.writeable = True\n",
    "        \n",
    "        #RGB to BGR\n",
    "        image = cv2.cvtColor(image, cv2.COLOR_RGB2BGR)\n",
    "        \n",
    "        #print(results)\n",
    "        \n",
    "        #Rendering results\n",
    "        if results.multi_hand_landmarks:\n",
    "            for num, hand in enumerate(results.multi_hand_landmarks):\n",
    "                mp_drawing.draw_landmarks(image, hand, mp_hands.HAND_CONNECTIONS, \n",
    "                                         mp_drawing.DrawingSpec(color=(0,255,0), thickness=2, circle_radius=4), \n",
    "                                         mp_drawing.DrawingSpec(color=(0,0,255), thickness=2, circle_radius=4))\n",
    "                \n",
    "        try:\n",
    "            hand_landmarks = results.multi_hand_landmarks[0].landmark\n",
    "            hand_landmarks_row = list(np.array([[landmark.x, landmark.y, landmark.z] for landmark in hand_landmarks]).flatten())\n",
    "            hand_landmarks_row.insert(0, class_name)\n",
    "            \n",
    "            with open('coords.csv', mode='a', newline='') as f:\n",
    "                csv_writer = csv.writer(f, delimiter=',', quotechar='\"', quoting=csv.QUOTE_MINIMAL)\n",
    "                csv_writer.writerow(hand_landmarks_row)\n",
    "                detections += 1\n",
    "        except:\n",
    "            pass\n",
    "        \n",
    "        if detections == 1500:\n",
    "            break\n",
    "\n",
    "        #image = cv2.flip(image, 0)\n",
    "        cv2.imshow(\"Hand Tracking\", image)\n",
    "\n",
    "        if cv2.waitKey(10) & 0xFF == ord('q'):\n",
    "            break\n",
    "    print(image.shape)\n",
    "\n",
    "    cap.release()\n",
    "    cv2.destroyAllWindows()"
   ]
  },
  {
   "cell_type": "code",
   "execution_count": 23,
   "id": "07a42d06",
   "metadata": {},
   "outputs": [
    {
     "ename": "NameError",
     "evalue": "name 'hand_landmarks_row' is not defined",
     "output_type": "error",
     "traceback": [
      "\u001b[0;31m---------------------------------------------------------------------------\u001b[0m",
      "\u001b[0;31mNameError\u001b[0m                                 Traceback (most recent call last)",
      "\u001b[0;32m/tmp/ipykernel_5539/1574853745.py\u001b[0m in \u001b[0;36m<module>\u001b[0;34m\u001b[0m\n\u001b[0;32m----> 1\u001b[0;31m \u001b[0mlen\u001b[0m\u001b[0;34m(\u001b[0m\u001b[0mhand_landmarks_row\u001b[0m\u001b[0;34m)\u001b[0m\u001b[0;34m\u001b[0m\u001b[0;34m\u001b[0m\u001b[0m\n\u001b[0m",
      "\u001b[0;31mNameError\u001b[0m: name 'hand_landmarks_row' is not defined"
     ]
    }
   ],
   "source": [
    "len(hand_landmarks_row)"
   ]
  },
  {
   "cell_type": "markdown",
   "id": "f2b093c7",
   "metadata": {},
   "source": [
    "# Training Custom Model using Scikit Learn"
   ]
  },
  {
   "cell_type": "code",
   "execution_count": 24,
   "id": "5834cca8",
   "metadata": {},
   "outputs": [],
   "source": [
    "import pandas as pd\n",
    "from sklearn.model_selection import train_test_split"
   ]
  },
  {
   "cell_type": "code",
   "execution_count": 136,
   "id": "cd54e12f",
   "metadata": {},
   "outputs": [],
   "source": [
    "df = pd.read_csv('coords.csv')"
   ]
  },
  {
   "cell_type": "code",
   "execution_count": 26,
   "id": "c9f02874",
   "metadata": {},
   "outputs": [
    {
     "data": {
      "text/html": [
       "<div>\n",
       "<style scoped>\n",
       "    .dataframe tbody tr th:only-of-type {\n",
       "        vertical-align: middle;\n",
       "    }\n",
       "\n",
       "    .dataframe tbody tr th {\n",
       "        vertical-align: top;\n",
       "    }\n",
       "\n",
       "    .dataframe thead th {\n",
       "        text-align: right;\n",
       "    }\n",
       "</style>\n",
       "<table border=\"1\" class=\"dataframe\">\n",
       "  <thead>\n",
       "    <tr style=\"text-align: right;\">\n",
       "      <th></th>\n",
       "      <th>class</th>\n",
       "      <th>x0</th>\n",
       "      <th>y0</th>\n",
       "      <th>z0</th>\n",
       "      <th>x1</th>\n",
       "      <th>y1</th>\n",
       "      <th>z1</th>\n",
       "      <th>x2</th>\n",
       "      <th>y2</th>\n",
       "      <th>z2</th>\n",
       "      <th>...</th>\n",
       "      <th>z17</th>\n",
       "      <th>x18</th>\n",
       "      <th>y18</th>\n",
       "      <th>z18</th>\n",
       "      <th>x19</th>\n",
       "      <th>y19</th>\n",
       "      <th>z19</th>\n",
       "      <th>x20</th>\n",
       "      <th>y20</th>\n",
       "      <th>z20</th>\n",
       "    </tr>\n",
       "  </thead>\n",
       "  <tbody>\n",
       "    <tr>\n",
       "      <th>0</th>\n",
       "      <td>Open</td>\n",
       "      <td>0.573203</td>\n",
       "      <td>0.640560</td>\n",
       "      <td>0.0</td>\n",
       "      <td>0.499717</td>\n",
       "      <td>0.596618</td>\n",
       "      <td>-0.023945</td>\n",
       "      <td>0.447070</td>\n",
       "      <td>0.513179</td>\n",
       "      <td>-0.038492</td>\n",
       "      <td>...</td>\n",
       "      <td>-0.057663</td>\n",
       "      <td>0.682798</td>\n",
       "      <td>0.355524</td>\n",
       "      <td>-0.083973</td>\n",
       "      <td>0.697056</td>\n",
       "      <td>0.304105</td>\n",
       "      <td>-0.098364</td>\n",
       "      <td>0.707266</td>\n",
       "      <td>0.256017</td>\n",
       "      <td>-0.107347</td>\n",
       "    </tr>\n",
       "    <tr>\n",
       "      <th>1</th>\n",
       "      <td>Open</td>\n",
       "      <td>0.576247</td>\n",
       "      <td>0.646744</td>\n",
       "      <td>0.0</td>\n",
       "      <td>0.501655</td>\n",
       "      <td>0.600668</td>\n",
       "      <td>-0.019519</td>\n",
       "      <td>0.446323</td>\n",
       "      <td>0.514822</td>\n",
       "      <td>-0.030754</td>\n",
       "      <td>...</td>\n",
       "      <td>-0.044279</td>\n",
       "      <td>0.686625</td>\n",
       "      <td>0.355156</td>\n",
       "      <td>-0.063872</td>\n",
       "      <td>0.701243</td>\n",
       "      <td>0.304934</td>\n",
       "      <td>-0.076318</td>\n",
       "      <td>0.708923</td>\n",
       "      <td>0.257824</td>\n",
       "      <td>-0.084473</td>\n",
       "    </tr>\n",
       "    <tr>\n",
       "      <th>2</th>\n",
       "      <td>Open</td>\n",
       "      <td>0.577344</td>\n",
       "      <td>0.648723</td>\n",
       "      <td>0.0</td>\n",
       "      <td>0.502655</td>\n",
       "      <td>0.602043</td>\n",
       "      <td>-0.017698</td>\n",
       "      <td>0.447916</td>\n",
       "      <td>0.515996</td>\n",
       "      <td>-0.028837</td>\n",
       "      <td>...</td>\n",
       "      <td>-0.048054</td>\n",
       "      <td>0.688223</td>\n",
       "      <td>0.357956</td>\n",
       "      <td>-0.068268</td>\n",
       "      <td>0.703907</td>\n",
       "      <td>0.307465</td>\n",
       "      <td>-0.080551</td>\n",
       "      <td>0.713025</td>\n",
       "      <td>0.260750</td>\n",
       "      <td>-0.088573</td>\n",
       "    </tr>\n",
       "    <tr>\n",
       "      <th>3</th>\n",
       "      <td>Open</td>\n",
       "      <td>0.578213</td>\n",
       "      <td>0.651113</td>\n",
       "      <td>0.0</td>\n",
       "      <td>0.502575</td>\n",
       "      <td>0.603344</td>\n",
       "      <td>-0.018102</td>\n",
       "      <td>0.447733</td>\n",
       "      <td>0.515504</td>\n",
       "      <td>-0.029073</td>\n",
       "      <td>...</td>\n",
       "      <td>-0.047166</td>\n",
       "      <td>0.689426</td>\n",
       "      <td>0.358991</td>\n",
       "      <td>-0.067121</td>\n",
       "      <td>0.704428</td>\n",
       "      <td>0.309513</td>\n",
       "      <td>-0.079505</td>\n",
       "      <td>0.712927</td>\n",
       "      <td>0.263294</td>\n",
       "      <td>-0.087619</td>\n",
       "    </tr>\n",
       "    <tr>\n",
       "      <th>4</th>\n",
       "      <td>Open</td>\n",
       "      <td>0.579336</td>\n",
       "      <td>0.651718</td>\n",
       "      <td>0.0</td>\n",
       "      <td>0.503827</td>\n",
       "      <td>0.602943</td>\n",
       "      <td>-0.018932</td>\n",
       "      <td>0.448960</td>\n",
       "      <td>0.517329</td>\n",
       "      <td>-0.030490</td>\n",
       "      <td>...</td>\n",
       "      <td>-0.048345</td>\n",
       "      <td>0.690076</td>\n",
       "      <td>0.356923</td>\n",
       "      <td>-0.068354</td>\n",
       "      <td>0.704977</td>\n",
       "      <td>0.306609</td>\n",
       "      <td>-0.080476</td>\n",
       "      <td>0.713523</td>\n",
       "      <td>0.260047</td>\n",
       "      <td>-0.088444</td>\n",
       "    </tr>\n",
       "  </tbody>\n",
       "</table>\n",
       "<p>5 rows × 64 columns</p>\n",
       "</div>"
      ],
      "text/plain": [
       "  class        x0        y0   z0        x1        y1        z1        x2  \\\n",
       "0  Open  0.573203  0.640560  0.0  0.499717  0.596618 -0.023945  0.447070   \n",
       "1  Open  0.576247  0.646744  0.0  0.501655  0.600668 -0.019519  0.446323   \n",
       "2  Open  0.577344  0.648723  0.0  0.502655  0.602043 -0.017698  0.447916   \n",
       "3  Open  0.578213  0.651113  0.0  0.502575  0.603344 -0.018102  0.447733   \n",
       "4  Open  0.579336  0.651718  0.0  0.503827  0.602943 -0.018932  0.448960   \n",
       "\n",
       "         y2        z2  ...       z17       x18       y18       z18       x19  \\\n",
       "0  0.513179 -0.038492  ... -0.057663  0.682798  0.355524 -0.083973  0.697056   \n",
       "1  0.514822 -0.030754  ... -0.044279  0.686625  0.355156 -0.063872  0.701243   \n",
       "2  0.515996 -0.028837  ... -0.048054  0.688223  0.357956 -0.068268  0.703907   \n",
       "3  0.515504 -0.029073  ... -0.047166  0.689426  0.358991 -0.067121  0.704428   \n",
       "4  0.517329 -0.030490  ... -0.048345  0.690076  0.356923 -0.068354  0.704977   \n",
       "\n",
       "        y19       z19       x20       y20       z20  \n",
       "0  0.304105 -0.098364  0.707266  0.256017 -0.107347  \n",
       "1  0.304934 -0.076318  0.708923  0.257824 -0.084473  \n",
       "2  0.307465 -0.080551  0.713025  0.260750 -0.088573  \n",
       "3  0.309513 -0.079505  0.712927  0.263294 -0.087619  \n",
       "4  0.306609 -0.080476  0.713523  0.260047 -0.088444  \n",
       "\n",
       "[5 rows x 64 columns]"
      ]
     },
     "execution_count": 26,
     "metadata": {},
     "output_type": "execute_result"
    }
   ],
   "source": [
    "df.head()"
   ]
  },
  {
   "cell_type": "code",
   "execution_count": 137,
   "id": "851a0dd1",
   "metadata": {},
   "outputs": [
    {
     "data": {
      "text/html": [
       "<div>\n",
       "<style scoped>\n",
       "    .dataframe tbody tr th:only-of-type {\n",
       "        vertical-align: middle;\n",
       "    }\n",
       "\n",
       "    .dataframe tbody tr th {\n",
       "        vertical-align: top;\n",
       "    }\n",
       "\n",
       "    .dataframe thead th {\n",
       "        text-align: right;\n",
       "    }\n",
       "</style>\n",
       "<table border=\"1\" class=\"dataframe\">\n",
       "  <thead>\n",
       "    <tr style=\"text-align: right;\">\n",
       "      <th></th>\n",
       "      <th>class</th>\n",
       "      <th>x0</th>\n",
       "      <th>y0</th>\n",
       "      <th>z0</th>\n",
       "      <th>x1</th>\n",
       "      <th>y1</th>\n",
       "      <th>z1</th>\n",
       "      <th>x2</th>\n",
       "      <th>y2</th>\n",
       "      <th>z2</th>\n",
       "      <th>...</th>\n",
       "      <th>z17</th>\n",
       "      <th>x18</th>\n",
       "      <th>y18</th>\n",
       "      <th>z18</th>\n",
       "      <th>x19</th>\n",
       "      <th>y19</th>\n",
       "      <th>z19</th>\n",
       "      <th>x20</th>\n",
       "      <th>y20</th>\n",
       "      <th>z20</th>\n",
       "    </tr>\n",
       "  </thead>\n",
       "  <tbody>\n",
       "    <tr>\n",
       "      <th>11406</th>\n",
       "      <td>Peace</td>\n",
       "      <td>0.360520</td>\n",
       "      <td>0.664921</td>\n",
       "      <td>0.0</td>\n",
       "      <td>0.397527</td>\n",
       "      <td>0.645317</td>\n",
       "      <td>-0.021000</td>\n",
       "      <td>0.418419</td>\n",
       "      <td>0.601552</td>\n",
       "      <td>-0.037968</td>\n",
       "      <td>...</td>\n",
       "      <td>-0.058423</td>\n",
       "      <td>0.332503</td>\n",
       "      <td>0.508488</td>\n",
       "      <td>-0.082742</td>\n",
       "      <td>0.355514</td>\n",
       "      <td>0.532283</td>\n",
       "      <td>-0.084371</td>\n",
       "      <td>0.372511</td>\n",
       "      <td>0.558507</td>\n",
       "      <td>-0.079698</td>\n",
       "    </tr>\n",
       "    <tr>\n",
       "      <th>11407</th>\n",
       "      <td>Peace</td>\n",
       "      <td>0.353696</td>\n",
       "      <td>0.662988</td>\n",
       "      <td>0.0</td>\n",
       "      <td>0.394031</td>\n",
       "      <td>0.641605</td>\n",
       "      <td>-0.021622</td>\n",
       "      <td>0.415918</td>\n",
       "      <td>0.592980</td>\n",
       "      <td>-0.038578</td>\n",
       "      <td>...</td>\n",
       "      <td>-0.055902</td>\n",
       "      <td>0.326599</td>\n",
       "      <td>0.505381</td>\n",
       "      <td>-0.078689</td>\n",
       "      <td>0.349639</td>\n",
       "      <td>0.529765</td>\n",
       "      <td>-0.080201</td>\n",
       "      <td>0.367085</td>\n",
       "      <td>0.556475</td>\n",
       "      <td>-0.075625</td>\n",
       "    </tr>\n",
       "    <tr>\n",
       "      <th>11408</th>\n",
       "      <td>Peace</td>\n",
       "      <td>0.350438</td>\n",
       "      <td>0.656094</td>\n",
       "      <td>0.0</td>\n",
       "      <td>0.392877</td>\n",
       "      <td>0.631678</td>\n",
       "      <td>-0.022126</td>\n",
       "      <td>0.413900</td>\n",
       "      <td>0.582727</td>\n",
       "      <td>-0.039762</td>\n",
       "      <td>...</td>\n",
       "      <td>-0.056869</td>\n",
       "      <td>0.317624</td>\n",
       "      <td>0.498981</td>\n",
       "      <td>-0.079652</td>\n",
       "      <td>0.341278</td>\n",
       "      <td>0.524640</td>\n",
       "      <td>-0.080952</td>\n",
       "      <td>0.359813</td>\n",
       "      <td>0.551638</td>\n",
       "      <td>-0.076154</td>\n",
       "    </tr>\n",
       "    <tr>\n",
       "      <th>11409</th>\n",
       "      <td>Peace</td>\n",
       "      <td>0.347944</td>\n",
       "      <td>0.650834</td>\n",
       "      <td>0.0</td>\n",
       "      <td>0.389947</td>\n",
       "      <td>0.625720</td>\n",
       "      <td>-0.022133</td>\n",
       "      <td>0.410182</td>\n",
       "      <td>0.576061</td>\n",
       "      <td>-0.040255</td>\n",
       "      <td>...</td>\n",
       "      <td>-0.057498</td>\n",
       "      <td>0.312563</td>\n",
       "      <td>0.492811</td>\n",
       "      <td>-0.080774</td>\n",
       "      <td>0.336157</td>\n",
       "      <td>0.519507</td>\n",
       "      <td>-0.081719</td>\n",
       "      <td>0.353928</td>\n",
       "      <td>0.547141</td>\n",
       "      <td>-0.076472</td>\n",
       "    </tr>\n",
       "    <tr>\n",
       "      <th>11410</th>\n",
       "      <td>Peace</td>\n",
       "      <td>0.343714</td>\n",
       "      <td>0.648824</td>\n",
       "      <td>0.0</td>\n",
       "      <td>0.387635</td>\n",
       "      <td>0.623973</td>\n",
       "      <td>-0.023562</td>\n",
       "      <td>0.409147</td>\n",
       "      <td>0.574899</td>\n",
       "      <td>-0.041974</td>\n",
       "      <td>...</td>\n",
       "      <td>-0.055590</td>\n",
       "      <td>0.308872</td>\n",
       "      <td>0.489953</td>\n",
       "      <td>-0.078801</td>\n",
       "      <td>0.335044</td>\n",
       "      <td>0.517065</td>\n",
       "      <td>-0.080722</td>\n",
       "      <td>0.355761</td>\n",
       "      <td>0.543090</td>\n",
       "      <td>-0.076290</td>\n",
       "    </tr>\n",
       "  </tbody>\n",
       "</table>\n",
       "<p>5 rows × 64 columns</p>\n",
       "</div>"
      ],
      "text/plain": [
       "       class        x0        y0   z0        x1        y1        z1        x2  \\\n",
       "11406  Peace  0.360520  0.664921  0.0  0.397527  0.645317 -0.021000  0.418419   \n",
       "11407  Peace  0.353696  0.662988  0.0  0.394031  0.641605 -0.021622  0.415918   \n",
       "11408  Peace  0.350438  0.656094  0.0  0.392877  0.631678 -0.022126  0.413900   \n",
       "11409  Peace  0.347944  0.650834  0.0  0.389947  0.625720 -0.022133  0.410182   \n",
       "11410  Peace  0.343714  0.648824  0.0  0.387635  0.623973 -0.023562  0.409147   \n",
       "\n",
       "             y2        z2  ...       z17       x18       y18       z18  \\\n",
       "11406  0.601552 -0.037968  ... -0.058423  0.332503  0.508488 -0.082742   \n",
       "11407  0.592980 -0.038578  ... -0.055902  0.326599  0.505381 -0.078689   \n",
       "11408  0.582727 -0.039762  ... -0.056869  0.317624  0.498981 -0.079652   \n",
       "11409  0.576061 -0.040255  ... -0.057498  0.312563  0.492811 -0.080774   \n",
       "11410  0.574899 -0.041974  ... -0.055590  0.308872  0.489953 -0.078801   \n",
       "\n",
       "            x19       y19       z19       x20       y20       z20  \n",
       "11406  0.355514  0.532283 -0.084371  0.372511  0.558507 -0.079698  \n",
       "11407  0.349639  0.529765 -0.080201  0.367085  0.556475 -0.075625  \n",
       "11408  0.341278  0.524640 -0.080952  0.359813  0.551638 -0.076154  \n",
       "11409  0.336157  0.519507 -0.081719  0.353928  0.547141 -0.076472  \n",
       "11410  0.335044  0.517065 -0.080722  0.355761  0.543090 -0.076290  \n",
       "\n",
       "[5 rows x 64 columns]"
      ]
     },
     "execution_count": 137,
     "metadata": {},
     "output_type": "execute_result"
    }
   ],
   "source": [
    "df.tail()"
   ]
  },
  {
   "cell_type": "code",
   "execution_count": 28,
   "id": "e580ebc8",
   "metadata": {},
   "outputs": [
    {
     "data": {
      "text/html": [
       "<div>\n",
       "<style scoped>\n",
       "    .dataframe tbody tr th:only-of-type {\n",
       "        vertical-align: middle;\n",
       "    }\n",
       "\n",
       "    .dataframe tbody tr th {\n",
       "        vertical-align: top;\n",
       "    }\n",
       "\n",
       "    .dataframe thead th {\n",
       "        text-align: right;\n",
       "    }\n",
       "</style>\n",
       "<table border=\"1\" class=\"dataframe\">\n",
       "  <thead>\n",
       "    <tr style=\"text-align: right;\">\n",
       "      <th></th>\n",
       "      <th>class</th>\n",
       "      <th>x0</th>\n",
       "      <th>y0</th>\n",
       "      <th>z0</th>\n",
       "      <th>x1</th>\n",
       "      <th>y1</th>\n",
       "      <th>z1</th>\n",
       "      <th>x2</th>\n",
       "      <th>y2</th>\n",
       "      <th>z2</th>\n",
       "      <th>...</th>\n",
       "      <th>z17</th>\n",
       "      <th>x18</th>\n",
       "      <th>y18</th>\n",
       "      <th>z18</th>\n",
       "      <th>x19</th>\n",
       "      <th>y19</th>\n",
       "      <th>z19</th>\n",
       "      <th>x20</th>\n",
       "      <th>y20</th>\n",
       "      <th>z20</th>\n",
       "    </tr>\n",
       "  </thead>\n",
       "  <tbody>\n",
       "    <tr>\n",
       "      <th>893</th>\n",
       "      <td>Fist</td>\n",
       "      <td>0.656125</td>\n",
       "      <td>0.654117</td>\n",
       "      <td>0.0</td>\n",
       "      <td>0.569530</td>\n",
       "      <td>0.638938</td>\n",
       "      <td>-0.026891</td>\n",
       "      <td>0.483274</td>\n",
       "      <td>0.555184</td>\n",
       "      <td>-0.044985</td>\n",
       "      <td>...</td>\n",
       "      <td>-0.076638</td>\n",
       "      <td>0.654862</td>\n",
       "      <td>0.389905</td>\n",
       "      <td>-0.103299</td>\n",
       "      <td>0.656953</td>\n",
       "      <td>0.464484</td>\n",
       "      <td>-0.090600</td>\n",
       "      <td>0.678349</td>\n",
       "      <td>0.483450</td>\n",
       "      <td>-0.071660</td>\n",
       "    </tr>\n",
       "    <tr>\n",
       "      <th>894</th>\n",
       "      <td>Fist</td>\n",
       "      <td>0.650962</td>\n",
       "      <td>0.655531</td>\n",
       "      <td>0.0</td>\n",
       "      <td>0.567307</td>\n",
       "      <td>0.649745</td>\n",
       "      <td>-0.037093</td>\n",
       "      <td>0.476494</td>\n",
       "      <td>0.562160</td>\n",
       "      <td>-0.052693</td>\n",
       "      <td>...</td>\n",
       "      <td>-0.039232</td>\n",
       "      <td>0.660754</td>\n",
       "      <td>0.378976</td>\n",
       "      <td>-0.061604</td>\n",
       "      <td>0.658466</td>\n",
       "      <td>0.457000</td>\n",
       "      <td>-0.050921</td>\n",
       "      <td>0.677963</td>\n",
       "      <td>0.469749</td>\n",
       "      <td>-0.032807</td>\n",
       "    </tr>\n",
       "    <tr>\n",
       "      <th>895</th>\n",
       "      <td>Fist</td>\n",
       "      <td>0.642972</td>\n",
       "      <td>0.647645</td>\n",
       "      <td>0.0</td>\n",
       "      <td>0.563097</td>\n",
       "      <td>0.642524</td>\n",
       "      <td>-0.038610</td>\n",
       "      <td>0.475390</td>\n",
       "      <td>0.553085</td>\n",
       "      <td>-0.056490</td>\n",
       "      <td>...</td>\n",
       "      <td>-0.037658</td>\n",
       "      <td>0.658460</td>\n",
       "      <td>0.379504</td>\n",
       "      <td>-0.060410</td>\n",
       "      <td>0.655274</td>\n",
       "      <td>0.453308</td>\n",
       "      <td>-0.050536</td>\n",
       "      <td>0.673471</td>\n",
       "      <td>0.466329</td>\n",
       "      <td>-0.032854</td>\n",
       "    </tr>\n",
       "    <tr>\n",
       "      <th>896</th>\n",
       "      <td>Fist</td>\n",
       "      <td>0.641329</td>\n",
       "      <td>0.645809</td>\n",
       "      <td>0.0</td>\n",
       "      <td>0.561098</td>\n",
       "      <td>0.641453</td>\n",
       "      <td>-0.040462</td>\n",
       "      <td>0.474805</td>\n",
       "      <td>0.554611</td>\n",
       "      <td>-0.059773</td>\n",
       "      <td>...</td>\n",
       "      <td>-0.037179</td>\n",
       "      <td>0.656818</td>\n",
       "      <td>0.380161</td>\n",
       "      <td>-0.060614</td>\n",
       "      <td>0.656590</td>\n",
       "      <td>0.452866</td>\n",
       "      <td>-0.051575</td>\n",
       "      <td>0.673701</td>\n",
       "      <td>0.465277</td>\n",
       "      <td>-0.034630</td>\n",
       "    </tr>\n",
       "    <tr>\n",
       "      <th>897</th>\n",
       "      <td>Fist</td>\n",
       "      <td>0.643294</td>\n",
       "      <td>0.654593</td>\n",
       "      <td>0.0</td>\n",
       "      <td>0.562677</td>\n",
       "      <td>0.645861</td>\n",
       "      <td>-0.035969</td>\n",
       "      <td>0.477000</td>\n",
       "      <td>0.560907</td>\n",
       "      <td>-0.051397</td>\n",
       "      <td>...</td>\n",
       "      <td>-0.034409</td>\n",
       "      <td>0.659196</td>\n",
       "      <td>0.386266</td>\n",
       "      <td>-0.055901</td>\n",
       "      <td>0.655459</td>\n",
       "      <td>0.458902</td>\n",
       "      <td>-0.046396</td>\n",
       "      <td>0.673958</td>\n",
       "      <td>0.472202</td>\n",
       "      <td>-0.029651</td>\n",
       "    </tr>\n",
       "    <tr>\n",
       "      <th>...</th>\n",
       "      <td>...</td>\n",
       "      <td>...</td>\n",
       "      <td>...</td>\n",
       "      <td>...</td>\n",
       "      <td>...</td>\n",
       "      <td>...</td>\n",
       "      <td>...</td>\n",
       "      <td>...</td>\n",
       "      <td>...</td>\n",
       "      <td>...</td>\n",
       "      <td>...</td>\n",
       "      <td>...</td>\n",
       "      <td>...</td>\n",
       "      <td>...</td>\n",
       "      <td>...</td>\n",
       "      <td>...</td>\n",
       "      <td>...</td>\n",
       "      <td>...</td>\n",
       "      <td>...</td>\n",
       "      <td>...</td>\n",
       "      <td>...</td>\n",
       "    </tr>\n",
       "    <tr>\n",
       "      <th>1906</th>\n",
       "      <td>Fist</td>\n",
       "      <td>0.514012</td>\n",
       "      <td>0.670150</td>\n",
       "      <td>0.0</td>\n",
       "      <td>0.461114</td>\n",
       "      <td>0.667731</td>\n",
       "      <td>-0.053673</td>\n",
       "      <td>0.408660</td>\n",
       "      <td>0.572198</td>\n",
       "      <td>-0.067336</td>\n",
       "      <td>...</td>\n",
       "      <td>0.019788</td>\n",
       "      <td>0.562468</td>\n",
       "      <td>0.519497</td>\n",
       "      <td>0.007169</td>\n",
       "      <td>0.554653</td>\n",
       "      <td>0.570491</td>\n",
       "      <td>0.011422</td>\n",
       "      <td>0.548681</td>\n",
       "      <td>0.581310</td>\n",
       "      <td>0.022205</td>\n",
       "    </tr>\n",
       "    <tr>\n",
       "      <th>1907</th>\n",
       "      <td>Fist</td>\n",
       "      <td>0.518104</td>\n",
       "      <td>0.671333</td>\n",
       "      <td>0.0</td>\n",
       "      <td>0.466812</td>\n",
       "      <td>0.673552</td>\n",
       "      <td>-0.055450</td>\n",
       "      <td>0.409951</td>\n",
       "      <td>0.581823</td>\n",
       "      <td>-0.072567</td>\n",
       "      <td>...</td>\n",
       "      <td>0.014662</td>\n",
       "      <td>0.557191</td>\n",
       "      <td>0.515485</td>\n",
       "      <td>0.000930</td>\n",
       "      <td>0.553464</td>\n",
       "      <td>0.566828</td>\n",
       "      <td>0.005282</td>\n",
       "      <td>0.546811</td>\n",
       "      <td>0.578291</td>\n",
       "      <td>0.016223</td>\n",
       "    </tr>\n",
       "    <tr>\n",
       "      <th>1908</th>\n",
       "      <td>Fist</td>\n",
       "      <td>0.514992</td>\n",
       "      <td>0.670746</td>\n",
       "      <td>0.0</td>\n",
       "      <td>0.461545</td>\n",
       "      <td>0.673954</td>\n",
       "      <td>-0.055229</td>\n",
       "      <td>0.404527</td>\n",
       "      <td>0.586260</td>\n",
       "      <td>-0.069416</td>\n",
       "      <td>...</td>\n",
       "      <td>0.020782</td>\n",
       "      <td>0.553623</td>\n",
       "      <td>0.514514</td>\n",
       "      <td>0.008476</td>\n",
       "      <td>0.548133</td>\n",
       "      <td>0.566736</td>\n",
       "      <td>0.011861</td>\n",
       "      <td>0.543659</td>\n",
       "      <td>0.577689</td>\n",
       "      <td>0.021550</td>\n",
       "    </tr>\n",
       "    <tr>\n",
       "      <th>1909</th>\n",
       "      <td>Fist</td>\n",
       "      <td>0.512707</td>\n",
       "      <td>0.670258</td>\n",
       "      <td>0.0</td>\n",
       "      <td>0.461396</td>\n",
       "      <td>0.674756</td>\n",
       "      <td>-0.054628</td>\n",
       "      <td>0.402083</td>\n",
       "      <td>0.588620</td>\n",
       "      <td>-0.069039</td>\n",
       "      <td>...</td>\n",
       "      <td>0.015266</td>\n",
       "      <td>0.549906</td>\n",
       "      <td>0.511515</td>\n",
       "      <td>0.000996</td>\n",
       "      <td>0.547419</td>\n",
       "      <td>0.564309</td>\n",
       "      <td>0.004810</td>\n",
       "      <td>0.538694</td>\n",
       "      <td>0.578710</td>\n",
       "      <td>0.015185</td>\n",
       "    </tr>\n",
       "    <tr>\n",
       "      <th>1910</th>\n",
       "      <td>Fist</td>\n",
       "      <td>0.511636</td>\n",
       "      <td>0.670876</td>\n",
       "      <td>0.0</td>\n",
       "      <td>0.457815</td>\n",
       "      <td>0.678124</td>\n",
       "      <td>-0.059594</td>\n",
       "      <td>0.396422</td>\n",
       "      <td>0.592345</td>\n",
       "      <td>-0.074017</td>\n",
       "      <td>...</td>\n",
       "      <td>0.023552</td>\n",
       "      <td>0.543351</td>\n",
       "      <td>0.508073</td>\n",
       "      <td>0.008669</td>\n",
       "      <td>0.542432</td>\n",
       "      <td>0.560858</td>\n",
       "      <td>0.010441</td>\n",
       "      <td>0.536254</td>\n",
       "      <td>0.574238</td>\n",
       "      <td>0.019450</td>\n",
       "    </tr>\n",
       "  </tbody>\n",
       "</table>\n",
       "<p>518 rows × 64 columns</p>\n",
       "</div>"
      ],
      "text/plain": [
       "     class        x0        y0   z0        x1        y1        z1        x2  \\\n",
       "893   Fist  0.656125  0.654117  0.0  0.569530  0.638938 -0.026891  0.483274   \n",
       "894   Fist  0.650962  0.655531  0.0  0.567307  0.649745 -0.037093  0.476494   \n",
       "895   Fist  0.642972  0.647645  0.0  0.563097  0.642524 -0.038610  0.475390   \n",
       "896   Fist  0.641329  0.645809  0.0  0.561098  0.641453 -0.040462  0.474805   \n",
       "897   Fist  0.643294  0.654593  0.0  0.562677  0.645861 -0.035969  0.477000   \n",
       "...    ...       ...       ...  ...       ...       ...       ...       ...   \n",
       "1906  Fist  0.514012  0.670150  0.0  0.461114  0.667731 -0.053673  0.408660   \n",
       "1907  Fist  0.518104  0.671333  0.0  0.466812  0.673552 -0.055450  0.409951   \n",
       "1908  Fist  0.514992  0.670746  0.0  0.461545  0.673954 -0.055229  0.404527   \n",
       "1909  Fist  0.512707  0.670258  0.0  0.461396  0.674756 -0.054628  0.402083   \n",
       "1910  Fist  0.511636  0.670876  0.0  0.457815  0.678124 -0.059594  0.396422   \n",
       "\n",
       "            y2        z2  ...       z17       x18       y18       z18  \\\n",
       "893   0.555184 -0.044985  ... -0.076638  0.654862  0.389905 -0.103299   \n",
       "894   0.562160 -0.052693  ... -0.039232  0.660754  0.378976 -0.061604   \n",
       "895   0.553085 -0.056490  ... -0.037658  0.658460  0.379504 -0.060410   \n",
       "896   0.554611 -0.059773  ... -0.037179  0.656818  0.380161 -0.060614   \n",
       "897   0.560907 -0.051397  ... -0.034409  0.659196  0.386266 -0.055901   \n",
       "...        ...       ...  ...       ...       ...       ...       ...   \n",
       "1906  0.572198 -0.067336  ...  0.019788  0.562468  0.519497  0.007169   \n",
       "1907  0.581823 -0.072567  ...  0.014662  0.557191  0.515485  0.000930   \n",
       "1908  0.586260 -0.069416  ...  0.020782  0.553623  0.514514  0.008476   \n",
       "1909  0.588620 -0.069039  ...  0.015266  0.549906  0.511515  0.000996   \n",
       "1910  0.592345 -0.074017  ...  0.023552  0.543351  0.508073  0.008669   \n",
       "\n",
       "           x19       y19       z19       x20       y20       z20  \n",
       "893   0.656953  0.464484 -0.090600  0.678349  0.483450 -0.071660  \n",
       "894   0.658466  0.457000 -0.050921  0.677963  0.469749 -0.032807  \n",
       "895   0.655274  0.453308 -0.050536  0.673471  0.466329 -0.032854  \n",
       "896   0.656590  0.452866 -0.051575  0.673701  0.465277 -0.034630  \n",
       "897   0.655459  0.458902 -0.046396  0.673958  0.472202 -0.029651  \n",
       "...        ...       ...       ...       ...       ...       ...  \n",
       "1906  0.554653  0.570491  0.011422  0.548681  0.581310  0.022205  \n",
       "1907  0.553464  0.566828  0.005282  0.546811  0.578291  0.016223  \n",
       "1908  0.548133  0.566736  0.011861  0.543659  0.577689  0.021550  \n",
       "1909  0.547419  0.564309  0.004810  0.538694  0.578710  0.015185  \n",
       "1910  0.542432  0.560858  0.010441  0.536254  0.574238  0.019450  \n",
       "\n",
       "[518 rows x 64 columns]"
      ]
     },
     "execution_count": 28,
     "metadata": {},
     "output_type": "execute_result"
    }
   ],
   "source": [
    "df[df['class']=='Fist']"
   ]
  },
  {
   "cell_type": "code",
   "execution_count": 138,
   "id": "51abe069",
   "metadata": {},
   "outputs": [],
   "source": [
    "x = df.drop('class', axis=1)\n",
    "y = df['class']"
   ]
  },
  {
   "cell_type": "code",
   "execution_count": 30,
   "id": "de7876da",
   "metadata": {},
   "outputs": [
    {
     "data": {
      "text/plain": [
       "0       Open\n",
       "1       Open\n",
       "2       Open\n",
       "3       Open\n",
       "4       Open\n",
       "        ... \n",
       "1906    Fist\n",
       "1907    Fist\n",
       "1908    Fist\n",
       "1909    Fist\n",
       "1910    Fist\n",
       "Name: class, Length: 1911, dtype: object"
      ]
     },
     "execution_count": 30,
     "metadata": {},
     "output_type": "execute_result"
    }
   ],
   "source": [
    "y"
   ]
  },
  {
   "cell_type": "code",
   "execution_count": 139,
   "id": "5d305bad",
   "metadata": {},
   "outputs": [],
   "source": [
    "x_train, x_test, y_train, y_test = train_test_split(x, y, test_size=0.3, random_state=3451)"
   ]
  },
  {
   "cell_type": "code",
   "execution_count": 32,
   "id": "bbfb8852",
   "metadata": {},
   "outputs": [
    {
     "data": {
      "text/html": [
       "<div>\n",
       "<style scoped>\n",
       "    .dataframe tbody tr th:only-of-type {\n",
       "        vertical-align: middle;\n",
       "    }\n",
       "\n",
       "    .dataframe tbody tr th {\n",
       "        vertical-align: top;\n",
       "    }\n",
       "\n",
       "    .dataframe thead th {\n",
       "        text-align: right;\n",
       "    }\n",
       "</style>\n",
       "<table border=\"1\" class=\"dataframe\">\n",
       "  <thead>\n",
       "    <tr style=\"text-align: right;\">\n",
       "      <th></th>\n",
       "      <th>x0</th>\n",
       "      <th>y0</th>\n",
       "      <th>z0</th>\n",
       "      <th>x1</th>\n",
       "      <th>y1</th>\n",
       "      <th>z1</th>\n",
       "      <th>x2</th>\n",
       "      <th>y2</th>\n",
       "      <th>z2</th>\n",
       "      <th>x3</th>\n",
       "      <th>...</th>\n",
       "      <th>z17</th>\n",
       "      <th>x18</th>\n",
       "      <th>y18</th>\n",
       "      <th>z18</th>\n",
       "      <th>x19</th>\n",
       "      <th>y19</th>\n",
       "      <th>z19</th>\n",
       "      <th>x20</th>\n",
       "      <th>y20</th>\n",
       "      <th>z20</th>\n",
       "    </tr>\n",
       "  </thead>\n",
       "  <tbody>\n",
       "    <tr>\n",
       "      <th>1345</th>\n",
       "      <td>0.465400</td>\n",
       "      <td>0.783820</td>\n",
       "      <td>0.0</td>\n",
       "      <td>0.419626</td>\n",
       "      <td>0.725773</td>\n",
       "      <td>0.005636</td>\n",
       "      <td>0.406443</td>\n",
       "      <td>0.634978</td>\n",
       "      <td>0.011865</td>\n",
       "      <td>0.401143</td>\n",
       "      <td>...</td>\n",
       "      <td>-0.013429</td>\n",
       "      <td>0.598507</td>\n",
       "      <td>0.549675</td>\n",
       "      <td>-0.018950</td>\n",
       "      <td>0.613287</td>\n",
       "      <td>0.504097</td>\n",
       "      <td>-0.021583</td>\n",
       "      <td>0.625129</td>\n",
       "      <td>0.463032</td>\n",
       "      <td>-0.022780</td>\n",
       "    </tr>\n",
       "    <tr>\n",
       "      <th>58</th>\n",
       "      <td>0.630881</td>\n",
       "      <td>0.768105</td>\n",
       "      <td>0.0</td>\n",
       "      <td>0.554496</td>\n",
       "      <td>0.732718</td>\n",
       "      <td>-0.027066</td>\n",
       "      <td>0.497615</td>\n",
       "      <td>0.651469</td>\n",
       "      <td>-0.046332</td>\n",
       "      <td>0.466417</td>\n",
       "      <td>...</td>\n",
       "      <td>-0.067274</td>\n",
       "      <td>0.689220</td>\n",
       "      <td>0.401643</td>\n",
       "      <td>-0.090244</td>\n",
       "      <td>0.686327</td>\n",
       "      <td>0.342605</td>\n",
       "      <td>-0.102670</td>\n",
       "      <td>0.682270</td>\n",
       "      <td>0.286988</td>\n",
       "      <td>-0.111396</td>\n",
       "    </tr>\n",
       "    <tr>\n",
       "      <th>18</th>\n",
       "      <td>0.583198</td>\n",
       "      <td>0.651116</td>\n",
       "      <td>0.0</td>\n",
       "      <td>0.506768</td>\n",
       "      <td>0.602046</td>\n",
       "      <td>-0.019704</td>\n",
       "      <td>0.452193</td>\n",
       "      <td>0.517213</td>\n",
       "      <td>-0.031547</td>\n",
       "      <td>0.422014</td>\n",
       "      <td>...</td>\n",
       "      <td>-0.047874</td>\n",
       "      <td>0.691761</td>\n",
       "      <td>0.356966</td>\n",
       "      <td>-0.067988</td>\n",
       "      <td>0.706709</td>\n",
       "      <td>0.309133</td>\n",
       "      <td>-0.080244</td>\n",
       "      <td>0.715944</td>\n",
       "      <td>0.264240</td>\n",
       "      <td>-0.088316</td>\n",
       "    </tr>\n",
       "    <tr>\n",
       "      <th>879</th>\n",
       "      <td>0.517971</td>\n",
       "      <td>0.590123</td>\n",
       "      <td>0.0</td>\n",
       "      <td>0.450480</td>\n",
       "      <td>0.614456</td>\n",
       "      <td>-0.043569</td>\n",
       "      <td>0.356964</td>\n",
       "      <td>0.562324</td>\n",
       "      <td>-0.061811</td>\n",
       "      <td>0.313782</td>\n",
       "      <td>...</td>\n",
       "      <td>-0.016205</td>\n",
       "      <td>0.498542</td>\n",
       "      <td>0.357190</td>\n",
       "      <td>-0.033322</td>\n",
       "      <td>0.511246</td>\n",
       "      <td>0.422597</td>\n",
       "      <td>-0.022383</td>\n",
       "      <td>0.525671</td>\n",
       "      <td>0.437326</td>\n",
       "      <td>-0.004886</td>\n",
       "    </tr>\n",
       "    <tr>\n",
       "      <th>218</th>\n",
       "      <td>0.545663</td>\n",
       "      <td>0.768348</td>\n",
       "      <td>0.0</td>\n",
       "      <td>0.485033</td>\n",
       "      <td>0.661237</td>\n",
       "      <td>-0.018611</td>\n",
       "      <td>0.453270</td>\n",
       "      <td>0.538200</td>\n",
       "      <td>-0.034416</td>\n",
       "      <td>0.438043</td>\n",
       "      <td>...</td>\n",
       "      <td>-0.068350</td>\n",
       "      <td>0.770197</td>\n",
       "      <td>0.516902</td>\n",
       "      <td>-0.091035</td>\n",
       "      <td>0.802227</td>\n",
       "      <td>0.465095</td>\n",
       "      <td>-0.102252</td>\n",
       "      <td>0.829583</td>\n",
       "      <td>0.414506</td>\n",
       "      <td>-0.109456</td>\n",
       "    </tr>\n",
       "    <tr>\n",
       "      <th>...</th>\n",
       "      <td>...</td>\n",
       "      <td>...</td>\n",
       "      <td>...</td>\n",
       "      <td>...</td>\n",
       "      <td>...</td>\n",
       "      <td>...</td>\n",
       "      <td>...</td>\n",
       "      <td>...</td>\n",
       "      <td>...</td>\n",
       "      <td>...</td>\n",
       "      <td>...</td>\n",
       "      <td>...</td>\n",
       "      <td>...</td>\n",
       "      <td>...</td>\n",
       "      <td>...</td>\n",
       "      <td>...</td>\n",
       "      <td>...</td>\n",
       "      <td>...</td>\n",
       "      <td>...</td>\n",
       "      <td>...</td>\n",
       "      <td>...</td>\n",
       "    </tr>\n",
       "    <tr>\n",
       "      <th>456</th>\n",
       "      <td>0.589513</td>\n",
       "      <td>0.603915</td>\n",
       "      <td>0.0</td>\n",
       "      <td>0.522088</td>\n",
       "      <td>0.612685</td>\n",
       "      <td>-0.050875</td>\n",
       "      <td>0.448414</td>\n",
       "      <td>0.518088</td>\n",
       "      <td>-0.069755</td>\n",
       "      <td>0.433749</td>\n",
       "      <td>...</td>\n",
       "      <td>0.004761</td>\n",
       "      <td>0.624733</td>\n",
       "      <td>0.409022</td>\n",
       "      <td>-0.010557</td>\n",
       "      <td>0.619908</td>\n",
       "      <td>0.470356</td>\n",
       "      <td>-0.000153</td>\n",
       "      <td>0.618398</td>\n",
       "      <td>0.474849</td>\n",
       "      <td>0.016956</td>\n",
       "    </tr>\n",
       "    <tr>\n",
       "      <th>97</th>\n",
       "      <td>0.584932</td>\n",
       "      <td>0.829672</td>\n",
       "      <td>0.0</td>\n",
       "      <td>0.506017</td>\n",
       "      <td>0.777443</td>\n",
       "      <td>-0.012528</td>\n",
       "      <td>0.443875</td>\n",
       "      <td>0.687414</td>\n",
       "      <td>-0.025460</td>\n",
       "      <td>0.403639</td>\n",
       "      <td>...</td>\n",
       "      <td>-0.077655</td>\n",
       "      <td>0.655377</td>\n",
       "      <td>0.468950</td>\n",
       "      <td>-0.101690</td>\n",
       "      <td>0.665445</td>\n",
       "      <td>0.399856</td>\n",
       "      <td>-0.113557</td>\n",
       "      <td>0.671922</td>\n",
       "      <td>0.333693</td>\n",
       "      <td>-0.121819</td>\n",
       "    </tr>\n",
       "    <tr>\n",
       "      <th>150</th>\n",
       "      <td>0.541068</td>\n",
       "      <td>0.802093</td>\n",
       "      <td>0.0</td>\n",
       "      <td>0.466830</td>\n",
       "      <td>0.744344</td>\n",
       "      <td>-0.027450</td>\n",
       "      <td>0.408323</td>\n",
       "      <td>0.655540</td>\n",
       "      <td>-0.052183</td>\n",
       "      <td>0.362618</td>\n",
       "      <td>...</td>\n",
       "      <td>-0.096465</td>\n",
       "      <td>0.676434</td>\n",
       "      <td>0.481402</td>\n",
       "      <td>-0.126191</td>\n",
       "      <td>0.690217</td>\n",
       "      <td>0.414829</td>\n",
       "      <td>-0.140410</td>\n",
       "      <td>0.699869</td>\n",
       "      <td>0.351685</td>\n",
       "      <td>-0.150662</td>\n",
       "    </tr>\n",
       "    <tr>\n",
       "      <th>1678</th>\n",
       "      <td>0.587220</td>\n",
       "      <td>0.625992</td>\n",
       "      <td>0.0</td>\n",
       "      <td>0.532028</td>\n",
       "      <td>0.625811</td>\n",
       "      <td>-0.033769</td>\n",
       "      <td>0.474485</td>\n",
       "      <td>0.550747</td>\n",
       "      <td>-0.045636</td>\n",
       "      <td>0.462319</td>\n",
       "      <td>...</td>\n",
       "      <td>-0.013946</td>\n",
       "      <td>0.623005</td>\n",
       "      <td>0.445850</td>\n",
       "      <td>-0.032645</td>\n",
       "      <td>0.622955</td>\n",
       "      <td>0.497096</td>\n",
       "      <td>-0.027715</td>\n",
       "      <td>0.626989</td>\n",
       "      <td>0.516968</td>\n",
       "      <td>-0.015955</td>\n",
       "    </tr>\n",
       "    <tr>\n",
       "      <th>95</th>\n",
       "      <td>0.583249</td>\n",
       "      <td>0.832254</td>\n",
       "      <td>0.0</td>\n",
       "      <td>0.502357</td>\n",
       "      <td>0.771982</td>\n",
       "      <td>-0.015762</td>\n",
       "      <td>0.441410</td>\n",
       "      <td>0.680234</td>\n",
       "      <td>-0.032554</td>\n",
       "      <td>0.402029</td>\n",
       "      <td>...</td>\n",
       "      <td>-0.086765</td>\n",
       "      <td>0.674850</td>\n",
       "      <td>0.482474</td>\n",
       "      <td>-0.113052</td>\n",
       "      <td>0.684453</td>\n",
       "      <td>0.417238</td>\n",
       "      <td>-0.125753</td>\n",
       "      <td>0.688300</td>\n",
       "      <td>0.355089</td>\n",
       "      <td>-0.134794</td>\n",
       "    </tr>\n",
       "  </tbody>\n",
       "</table>\n",
       "<p>1337 rows × 63 columns</p>\n",
       "</div>"
      ],
      "text/plain": [
       "            x0        y0   z0        x1        y1        z1        x2  \\\n",
       "1345  0.465400  0.783820  0.0  0.419626  0.725773  0.005636  0.406443   \n",
       "58    0.630881  0.768105  0.0  0.554496  0.732718 -0.027066  0.497615   \n",
       "18    0.583198  0.651116  0.0  0.506768  0.602046 -0.019704  0.452193   \n",
       "879   0.517971  0.590123  0.0  0.450480  0.614456 -0.043569  0.356964   \n",
       "218   0.545663  0.768348  0.0  0.485033  0.661237 -0.018611  0.453270   \n",
       "...        ...       ...  ...       ...       ...       ...       ...   \n",
       "456   0.589513  0.603915  0.0  0.522088  0.612685 -0.050875  0.448414   \n",
       "97    0.584932  0.829672  0.0  0.506017  0.777443 -0.012528  0.443875   \n",
       "150   0.541068  0.802093  0.0  0.466830  0.744344 -0.027450  0.408323   \n",
       "1678  0.587220  0.625992  0.0  0.532028  0.625811 -0.033769  0.474485   \n",
       "95    0.583249  0.832254  0.0  0.502357  0.771982 -0.015762  0.441410   \n",
       "\n",
       "            y2        z2        x3  ...       z17       x18       y18  \\\n",
       "1345  0.634978  0.011865  0.401143  ... -0.013429  0.598507  0.549675   \n",
       "58    0.651469 -0.046332  0.466417  ... -0.067274  0.689220  0.401643   \n",
       "18    0.517213 -0.031547  0.422014  ... -0.047874  0.691761  0.356966   \n",
       "879   0.562324 -0.061811  0.313782  ... -0.016205  0.498542  0.357190   \n",
       "218   0.538200 -0.034416  0.438043  ... -0.068350  0.770197  0.516902   \n",
       "...        ...       ...       ...  ...       ...       ...       ...   \n",
       "456   0.518088 -0.069755  0.433749  ...  0.004761  0.624733  0.409022   \n",
       "97    0.687414 -0.025460  0.403639  ... -0.077655  0.655377  0.468950   \n",
       "150   0.655540 -0.052183  0.362618  ... -0.096465  0.676434  0.481402   \n",
       "1678  0.550747 -0.045636  0.462319  ... -0.013946  0.623005  0.445850   \n",
       "95    0.680234 -0.032554  0.402029  ... -0.086765  0.674850  0.482474   \n",
       "\n",
       "           z18       x19       y19       z19       x20       y20       z20  \n",
       "1345 -0.018950  0.613287  0.504097 -0.021583  0.625129  0.463032 -0.022780  \n",
       "58   -0.090244  0.686327  0.342605 -0.102670  0.682270  0.286988 -0.111396  \n",
       "18   -0.067988  0.706709  0.309133 -0.080244  0.715944  0.264240 -0.088316  \n",
       "879  -0.033322  0.511246  0.422597 -0.022383  0.525671  0.437326 -0.004886  \n",
       "218  -0.091035  0.802227  0.465095 -0.102252  0.829583  0.414506 -0.109456  \n",
       "...        ...       ...       ...       ...       ...       ...       ...  \n",
       "456  -0.010557  0.619908  0.470356 -0.000153  0.618398  0.474849  0.016956  \n",
       "97   -0.101690  0.665445  0.399856 -0.113557  0.671922  0.333693 -0.121819  \n",
       "150  -0.126191  0.690217  0.414829 -0.140410  0.699869  0.351685 -0.150662  \n",
       "1678 -0.032645  0.622955  0.497096 -0.027715  0.626989  0.516968 -0.015955  \n",
       "95   -0.113052  0.684453  0.417238 -0.125753  0.688300  0.355089 -0.134794  \n",
       "\n",
       "[1337 rows x 63 columns]"
      ]
     },
     "execution_count": 32,
     "metadata": {},
     "output_type": "execute_result"
    }
   ],
   "source": [
    "x_train"
   ]
  },
  {
   "cell_type": "markdown",
   "id": "1d68c6b5",
   "metadata": {},
   "source": [
    "# Training Machine Learning Classification Model"
   ]
  },
  {
   "cell_type": "code",
   "execution_count": 33,
   "id": "b6088838",
   "metadata": {},
   "outputs": [],
   "source": [
    "from sklearn.pipeline import make_pipeline\n",
    "from sklearn.preprocessing import StandardScaler\n",
    "\n",
    "from sklearn.linear_model import LogisticRegression, RidgeClassifier\n",
    "from sklearn.ensemble import RandomForestClassifier, GradientBoostingClassifier"
   ]
  },
  {
   "cell_type": "code",
   "execution_count": 140,
   "id": "1dadbdc3",
   "metadata": {},
   "outputs": [],
   "source": [
    "pipelines = {\n",
    "    'lr':make_pipeline(StandardScaler(), LogisticRegression()),\n",
    "    'rd':make_pipeline(StandardScaler(), RidgeClassifier()),\n",
    "    'rf':make_pipeline(StandardScaler(), RandomForestClassifier()),\n",
    "    'gb':make_pipeline(StandardScaler(), GradientBoostingClassifier()),\n",
    "}"
   ]
  },
  {
   "cell_type": "code",
   "execution_count": 141,
   "id": "b50af32a",
   "metadata": {},
   "outputs": [
    {
     "name": "stderr",
     "output_type": "stream",
     "text": [
      "/home/ubuntu/.local/lib/python3.8/site-packages/sklearn/linear_model/_logistic.py:814: ConvergenceWarning: lbfgs failed to converge (status=1):\n",
      "STOP: TOTAL NO. of ITERATIONS REACHED LIMIT.\n",
      "\n",
      "Increase the number of iterations (max_iter) or scale the data as shown in:\n",
      "    https://scikit-learn.org/stable/modules/preprocessing.html\n",
      "Please also refer to the documentation for alternative solver options:\n",
      "    https://scikit-learn.org/stable/modules/linear_model.html#logistic-regression\n",
      "  n_iter_i = _check_optimize_result(\n"
     ]
    }
   ],
   "source": [
    "fit_models = {}\n",
    "\n",
    "for algo, pipeline in pipelines.items():\n",
    "    model = pipeline.fit(x_train, y_train)\n",
    "    fit_models[algo] = model"
   ]
  },
  {
   "cell_type": "code",
   "execution_count": 110,
   "id": "983ba501",
   "metadata": {},
   "outputs": [
    {
     "data": {
      "text/plain": [
       "array(['Fist', 'Peace', 'Love', ..., 'Peace', 'Love', 'Open'],\n",
       "      dtype=object)"
      ]
     },
     "execution_count": 110,
     "metadata": {},
     "output_type": "execute_result"
    }
   ],
   "source": [
    "fit_models['rf'].predict(x_test)"
   ]
  },
  {
   "cell_type": "markdown",
   "id": "1c7922e1",
   "metadata": {},
   "source": [
    "# Evaluate Model"
   ]
  },
  {
   "cell_type": "code",
   "execution_count": 142,
   "id": "9dc468fb",
   "metadata": {},
   "outputs": [],
   "source": [
    "from sklearn.metrics import accuracy_score\n",
    "import pickle"
   ]
  },
  {
   "cell_type": "code",
   "execution_count": 143,
   "id": "0cd921c5",
   "metadata": {},
   "outputs": [
    {
     "name": "stdout",
     "output_type": "stream",
     "text": [
      "lr 0.9775116822429907\n",
      "rd 0.9526869158878505\n",
      "rf 0.9915303738317757\n",
      "gb 0.9880257009345794\n"
     ]
    }
   ],
   "source": [
    "for algo, model in fit_models.items():\n",
    "    yhat = model.predict(x_test)\n",
    "    print(algo, accuracy_score(y_test, yhat))"
   ]
  },
  {
   "cell_type": "code",
   "execution_count": 39,
   "id": "81fc9b77",
   "metadata": {
    "collapsed": true
   },
   "outputs": [
    {
     "data": {
      "text/plain": [
       "array(['Open', 'Fist', 'Fist', 'Open', 'Open', 'Open', 'Open', 'Fist',\n",
       "       'Open', 'Open', 'Open', 'Open', 'Open', 'Open', 'Fist', 'Open',\n",
       "       'Fist', 'Open', 'Open', 'Open', 'Open', 'Open', 'Open', 'Open',\n",
       "       'Open', 'Open', 'Fist', 'Fist', 'Open', 'Open', 'Fist', 'Open',\n",
       "       'Open', 'Fist', 'Fist', 'Fist', 'Open', 'Open', 'Open', 'Fist',\n",
       "       'Open', 'Fist', 'Open', 'Open', 'Open', 'Fist', 'Open', 'Fist',\n",
       "       'Open', 'Open', 'Open', 'Open', 'Fist', 'Open', 'Fist', 'Open',\n",
       "       'Open', 'Open', 'Fist', 'Open', 'Open', 'Open', 'Open', 'Open',\n",
       "       'Fist', 'Fist', 'Open', 'Open', 'Fist', 'Open', 'Open', 'Open',\n",
       "       'Open', 'Fist', 'Fist', 'Open', 'Open', 'Open', 'Open', 'Fist',\n",
       "       'Fist', 'Open', 'Open', 'Open', 'Fist', 'Open', 'Fist', 'Open',\n",
       "       'Open', 'Open', 'Open', 'Fist', 'Fist', 'Open', 'Open', 'Open',\n",
       "       'Open', 'Open', 'Open', 'Open', 'Fist', 'Open', 'Open', 'Fist',\n",
       "       'Open', 'Open', 'Fist', 'Open', 'Fist', 'Fist', 'Open', 'Open',\n",
       "       'Open', 'Open', 'Open', 'Fist', 'Open', 'Fist', 'Open', 'Open',\n",
       "       'Open', 'Fist', 'Fist', 'Open', 'Open', 'Open', 'Open', 'Open',\n",
       "       'Fist', 'Open', 'Fist', 'Open', 'Open', 'Fist', 'Fist', 'Open',\n",
       "       'Fist', 'Open', 'Open', 'Fist', 'Open', 'Fist', 'Open', 'Open',\n",
       "       'Fist', 'Open', 'Open', 'Fist', 'Fist', 'Open', 'Fist', 'Fist',\n",
       "       'Open', 'Open', 'Open', 'Fist', 'Open', 'Fist', 'Open', 'Open',\n",
       "       'Open', 'Open', 'Open', 'Open', 'Open', 'Open', 'Open', 'Open',\n",
       "       'Fist', 'Open', 'Fist', 'Open', 'Open', 'Open', 'Open', 'Open',\n",
       "       'Fist', 'Fist', 'Open', 'Open', 'Open', 'Open', 'Fist', 'Open',\n",
       "       'Open', 'Open', 'Fist', 'Open', 'Open', 'Open', 'Open', 'Open',\n",
       "       'Fist', 'Open', 'Fist', 'Open', 'Open', 'Open', 'Open', 'Open',\n",
       "       'Open', 'Open', 'Fist', 'Open', 'Open', 'Open', 'Fist', 'Fist',\n",
       "       'Open', 'Open', 'Open', 'Fist', 'Open', 'Open', 'Fist', 'Open',\n",
       "       'Open', 'Open', 'Open', 'Open', 'Open', 'Fist', 'Fist', 'Open',\n",
       "       'Open', 'Open', 'Open', 'Fist', 'Open', 'Open', 'Fist', 'Open',\n",
       "       'Open', 'Open', 'Open', 'Fist', 'Open', 'Open', 'Open', 'Open',\n",
       "       'Open', 'Open', 'Fist', 'Open', 'Open', 'Open', 'Open', 'Open',\n",
       "       'Open', 'Open', 'Open', 'Open', 'Open', 'Open', 'Fist', 'Open',\n",
       "       'Open', 'Fist', 'Open', 'Fist', 'Open', 'Open', 'Open', 'Open',\n",
       "       'Fist', 'Fist', 'Open', 'Open', 'Fist', 'Open', 'Open', 'Open',\n",
       "       'Open', 'Open', 'Fist', 'Open', 'Fist', 'Fist', 'Open', 'Open',\n",
       "       'Open', 'Open', 'Fist', 'Open', 'Fist', 'Fist', 'Open', 'Open',\n",
       "       'Fist', 'Open', 'Open', 'Fist', 'Open', 'Open', 'Open', 'Open',\n",
       "       'Open', 'Fist', 'Open', 'Fist', 'Fist', 'Open', 'Fist', 'Open',\n",
       "       'Open', 'Open', 'Open', 'Open', 'Open', 'Open', 'Open', 'Open',\n",
       "       'Open', 'Open', 'Open', 'Open', 'Open', 'Fist', 'Open', 'Fist',\n",
       "       'Fist', 'Open', 'Fist', 'Open', 'Open', 'Open', 'Fist', 'Open',\n",
       "       'Open', 'Open', 'Open', 'Fist', 'Open', 'Open', 'Open', 'Open',\n",
       "       'Open', 'Open', 'Fist', 'Open', 'Open', 'Fist', 'Open', 'Fist',\n",
       "       'Open', 'Open', 'Open', 'Open', 'Open', 'Fist', 'Open', 'Open',\n",
       "       'Open', 'Fist', 'Open', 'Open', 'Open', 'Open', 'Open', 'Open',\n",
       "       'Fist', 'Open', 'Fist', 'Open', 'Open', 'Open', 'Open', 'Open',\n",
       "       'Fist', 'Open', 'Open', 'Open', 'Open', 'Open', 'Open', 'Open',\n",
       "       'Open', 'Open', 'Fist', 'Open', 'Open', 'Open', 'Open', 'Open',\n",
       "       'Open', 'Open', 'Fist', 'Open', 'Open', 'Fist', 'Open', 'Open',\n",
       "       'Open', 'Fist', 'Fist', 'Fist', 'Open', 'Fist', 'Fist', 'Open',\n",
       "       'Open', 'Open', 'Open', 'Open', 'Open', 'Open', 'Open', 'Open',\n",
       "       'Open', 'Open', 'Fist', 'Open', 'Open', 'Open', 'Open', 'Fist',\n",
       "       'Open', 'Open', 'Open', 'Open', 'Open', 'Open', 'Open', 'Open',\n",
       "       'Open', 'Open', 'Open', 'Open', 'Open', 'Open', 'Open', 'Open',\n",
       "       'Fist', 'Open', 'Open', 'Open', 'Fist', 'Open', 'Open', 'Open',\n",
       "       'Fist', 'Open', 'Open', 'Open', 'Open', 'Fist', 'Fist', 'Open',\n",
       "       'Open', 'Open', 'Open', 'Open', 'Open', 'Open', 'Fist', 'Fist',\n",
       "       'Open', 'Open', 'Open', 'Fist', 'Open', 'Fist', 'Open', 'Open',\n",
       "       'Open', 'Fist', 'Open', 'Open', 'Fist', 'Open', 'Fist', 'Open',\n",
       "       'Fist', 'Open', 'Open', 'Fist', 'Open', 'Open', 'Open', 'Open',\n",
       "       'Open', 'Open', 'Open', 'Fist', 'Open', 'Open', 'Open', 'Open',\n",
       "       'Open', 'Open', 'Open', 'Fist', 'Fist', 'Open', 'Open', 'Fist',\n",
       "       'Open', 'Open', 'Open', 'Open', 'Fist', 'Open', 'Fist', 'Fist',\n",
       "       'Open', 'Open', 'Open', 'Open', 'Fist', 'Open', 'Open', 'Open',\n",
       "       'Open', 'Open', 'Open', 'Open', 'Fist', 'Open', 'Fist', 'Open',\n",
       "       'Open', 'Open', 'Fist', 'Fist', 'Fist', 'Open', 'Open', 'Open',\n",
       "       'Open', 'Open', 'Open', 'Open', 'Open', 'Open', 'Open', 'Open',\n",
       "       'Fist', 'Open', 'Open', 'Open', 'Open', 'Fist', 'Open', 'Open',\n",
       "       'Open', 'Fist', 'Open', 'Fist', 'Open', 'Open', 'Open', 'Open',\n",
       "       'Open', 'Open', 'Fist', 'Open', 'Open', 'Open', 'Fist', 'Open',\n",
       "       'Open', 'Fist', 'Open', 'Open', 'Open', 'Open', 'Fist', 'Open',\n",
       "       'Fist', 'Open', 'Open', 'Open', 'Open', 'Open'], dtype=object)"
      ]
     },
     "execution_count": 39,
     "metadata": {},
     "output_type": "execute_result"
    }
   ],
   "source": [
    "fit_models['rf'].predict(x_test)"
   ]
  },
  {
   "cell_type": "code",
   "execution_count": 18,
   "id": "cb11f49b",
   "metadata": {
    "scrolled": true
   },
   "outputs": [
    {
     "data": {
      "text/plain": [
       "102     Open\n",
       "1547    Fist\n",
       "1840    Fist\n",
       "1359    Open\n",
       "1092    Open\n",
       "        ... \n",
       "732     Open\n",
       "793     Open\n",
       "833     Open\n",
       "953     Open\n",
       "777     Open\n",
       "Name: class, Length: 574, dtype: object"
      ]
     },
     "execution_count": 18,
     "metadata": {},
     "output_type": "execute_result"
    }
   ],
   "source": [
    "y_test"
   ]
  },
  {
   "cell_type": "code",
   "execution_count": 144,
   "id": "9a2a3a98",
   "metadata": {},
   "outputs": [],
   "source": [
    "with open('gesture_recognition.pkl', 'wb') as f:\n",
    "    pickle.dump(fit_models['rf'], f)"
   ]
  },
  {
   "cell_type": "markdown",
   "id": "3dd9b80b",
   "metadata": {},
   "source": [
    "# Make Detections"
   ]
  },
  {
   "cell_type": "code",
   "execution_count": 145,
   "id": "525e7e2e",
   "metadata": {},
   "outputs": [],
   "source": [
    "with open('gesture_recognition.pkl', 'rb') as f:\n",
    "    model = pickle.load(f)"
   ]
  },
  {
   "cell_type": "code",
   "execution_count": 42,
   "id": "e8c8817a",
   "metadata": {},
   "outputs": [
    {
     "data": {
      "text/plain": [
       "Pipeline(steps=[('standardscaler', StandardScaler()),\n",
       "                ('randomforestclassifier', RandomForestClassifier())])"
      ]
     },
     "execution_count": 42,
     "metadata": {},
     "output_type": "execute_result"
    }
   ],
   "source": [
    "model"
   ]
  },
  {
   "cell_type": "code",
   "execution_count": 43,
   "id": "ed0a3817",
   "metadata": {
    "collapsed": true
   },
   "outputs": [
    {
     "data": {
      "text/plain": [
       "array(['Open', 'Fist', 'Fist', 'Open', 'Open', 'Open', 'Open', 'Fist',\n",
       "       'Open', 'Open', 'Open', 'Open', 'Open', 'Open', 'Fist', 'Open',\n",
       "       'Fist', 'Open', 'Open', 'Open', 'Open', 'Open', 'Open', 'Open',\n",
       "       'Open', 'Open', 'Fist', 'Fist', 'Open', 'Open', 'Fist', 'Open',\n",
       "       'Open', 'Fist', 'Fist', 'Fist', 'Open', 'Open', 'Open', 'Fist',\n",
       "       'Open', 'Fist', 'Open', 'Open', 'Open', 'Fist', 'Open', 'Fist',\n",
       "       'Open', 'Open', 'Open', 'Open', 'Fist', 'Open', 'Fist', 'Open',\n",
       "       'Open', 'Open', 'Fist', 'Open', 'Open', 'Open', 'Open', 'Open',\n",
       "       'Fist', 'Fist', 'Open', 'Open', 'Fist', 'Open', 'Open', 'Open',\n",
       "       'Open', 'Fist', 'Fist', 'Open', 'Open', 'Open', 'Open', 'Fist',\n",
       "       'Fist', 'Open', 'Open', 'Open', 'Fist', 'Open', 'Fist', 'Open',\n",
       "       'Open', 'Open', 'Open', 'Fist', 'Fist', 'Open', 'Open', 'Open',\n",
       "       'Open', 'Open', 'Open', 'Open', 'Fist', 'Open', 'Open', 'Fist',\n",
       "       'Open', 'Open', 'Fist', 'Open', 'Fist', 'Fist', 'Open', 'Open',\n",
       "       'Open', 'Open', 'Open', 'Fist', 'Open', 'Fist', 'Open', 'Open',\n",
       "       'Open', 'Fist', 'Fist', 'Open', 'Open', 'Open', 'Open', 'Open',\n",
       "       'Fist', 'Open', 'Fist', 'Open', 'Open', 'Fist', 'Fist', 'Open',\n",
       "       'Fist', 'Open', 'Open', 'Fist', 'Open', 'Fist', 'Open', 'Open',\n",
       "       'Fist', 'Open', 'Open', 'Fist', 'Fist', 'Open', 'Fist', 'Fist',\n",
       "       'Open', 'Open', 'Open', 'Fist', 'Open', 'Fist', 'Open', 'Open',\n",
       "       'Open', 'Open', 'Open', 'Open', 'Open', 'Open', 'Open', 'Open',\n",
       "       'Fist', 'Open', 'Fist', 'Open', 'Open', 'Open', 'Open', 'Open',\n",
       "       'Fist', 'Fist', 'Open', 'Open', 'Open', 'Open', 'Fist', 'Open',\n",
       "       'Open', 'Open', 'Fist', 'Open', 'Open', 'Open', 'Open', 'Open',\n",
       "       'Fist', 'Open', 'Fist', 'Open', 'Open', 'Open', 'Open', 'Open',\n",
       "       'Open', 'Open', 'Fist', 'Open', 'Open', 'Open', 'Fist', 'Fist',\n",
       "       'Open', 'Open', 'Open', 'Fist', 'Open', 'Open', 'Fist', 'Open',\n",
       "       'Open', 'Open', 'Open', 'Open', 'Open', 'Fist', 'Fist', 'Open',\n",
       "       'Open', 'Open', 'Open', 'Fist', 'Open', 'Open', 'Fist', 'Open',\n",
       "       'Open', 'Open', 'Open', 'Fist', 'Open', 'Open', 'Open', 'Open',\n",
       "       'Open', 'Open', 'Fist', 'Open', 'Open', 'Open', 'Open', 'Open',\n",
       "       'Open', 'Open', 'Open', 'Open', 'Open', 'Open', 'Fist', 'Open',\n",
       "       'Open', 'Fist', 'Open', 'Fist', 'Open', 'Open', 'Open', 'Open',\n",
       "       'Fist', 'Fist', 'Open', 'Open', 'Fist', 'Open', 'Open', 'Open',\n",
       "       'Open', 'Open', 'Fist', 'Open', 'Fist', 'Fist', 'Open', 'Open',\n",
       "       'Open', 'Open', 'Fist', 'Open', 'Fist', 'Fist', 'Open', 'Open',\n",
       "       'Fist', 'Open', 'Open', 'Fist', 'Open', 'Open', 'Open', 'Open',\n",
       "       'Open', 'Fist', 'Open', 'Fist', 'Fist', 'Open', 'Fist', 'Open',\n",
       "       'Open', 'Open', 'Open', 'Open', 'Open', 'Open', 'Open', 'Open',\n",
       "       'Open', 'Open', 'Open', 'Open', 'Open', 'Fist', 'Open', 'Fist',\n",
       "       'Fist', 'Open', 'Fist', 'Open', 'Open', 'Open', 'Fist', 'Open',\n",
       "       'Open', 'Open', 'Open', 'Fist', 'Open', 'Open', 'Open', 'Open',\n",
       "       'Open', 'Open', 'Fist', 'Open', 'Open', 'Fist', 'Open', 'Fist',\n",
       "       'Open', 'Open', 'Open', 'Open', 'Open', 'Fist', 'Open', 'Open',\n",
       "       'Open', 'Fist', 'Open', 'Open', 'Open', 'Open', 'Open', 'Open',\n",
       "       'Fist', 'Open', 'Fist', 'Open', 'Open', 'Open', 'Open', 'Open',\n",
       "       'Fist', 'Open', 'Open', 'Open', 'Open', 'Open', 'Open', 'Open',\n",
       "       'Open', 'Open', 'Fist', 'Open', 'Open', 'Open', 'Open', 'Open',\n",
       "       'Open', 'Open', 'Fist', 'Open', 'Open', 'Fist', 'Open', 'Open',\n",
       "       'Open', 'Fist', 'Fist', 'Fist', 'Open', 'Fist', 'Fist', 'Open',\n",
       "       'Open', 'Open', 'Open', 'Open', 'Open', 'Open', 'Open', 'Open',\n",
       "       'Open', 'Open', 'Fist', 'Open', 'Open', 'Open', 'Open', 'Fist',\n",
       "       'Open', 'Open', 'Open', 'Open', 'Open', 'Open', 'Open', 'Open',\n",
       "       'Open', 'Open', 'Open', 'Open', 'Open', 'Open', 'Open', 'Open',\n",
       "       'Fist', 'Open', 'Open', 'Open', 'Fist', 'Open', 'Open', 'Open',\n",
       "       'Fist', 'Open', 'Open', 'Open', 'Open', 'Fist', 'Fist', 'Open',\n",
       "       'Open', 'Open', 'Open', 'Open', 'Open', 'Open', 'Fist', 'Fist',\n",
       "       'Open', 'Open', 'Open', 'Fist', 'Open', 'Fist', 'Open', 'Open',\n",
       "       'Open', 'Fist', 'Open', 'Open', 'Fist', 'Open', 'Fist', 'Open',\n",
       "       'Fist', 'Open', 'Open', 'Fist', 'Open', 'Open', 'Open', 'Open',\n",
       "       'Open', 'Open', 'Open', 'Fist', 'Open', 'Open', 'Open', 'Open',\n",
       "       'Open', 'Open', 'Open', 'Fist', 'Fist', 'Open', 'Open', 'Fist',\n",
       "       'Open', 'Open', 'Open', 'Open', 'Fist', 'Open', 'Fist', 'Fist',\n",
       "       'Open', 'Open', 'Open', 'Open', 'Fist', 'Open', 'Open', 'Open',\n",
       "       'Open', 'Open', 'Open', 'Open', 'Fist', 'Open', 'Fist', 'Open',\n",
       "       'Open', 'Open', 'Fist', 'Fist', 'Fist', 'Open', 'Open', 'Open',\n",
       "       'Open', 'Open', 'Open', 'Open', 'Open', 'Open', 'Open', 'Open',\n",
       "       'Fist', 'Open', 'Open', 'Open', 'Open', 'Fist', 'Open', 'Open',\n",
       "       'Open', 'Fist', 'Open', 'Fist', 'Open', 'Open', 'Open', 'Open',\n",
       "       'Open', 'Open', 'Fist', 'Open', 'Open', 'Open', 'Fist', 'Open',\n",
       "       'Open', 'Fist', 'Open', 'Open', 'Open', 'Open', 'Fist', 'Open',\n",
       "       'Fist', 'Open', 'Open', 'Open', 'Open', 'Open'], dtype=object)"
      ]
     },
     "execution_count": 43,
     "metadata": {},
     "output_type": "execute_result"
    }
   ],
   "source": [
    "model.predict(x_test)"
   ]
  },
  {
   "cell_type": "code",
   "execution_count": 48,
   "id": "ef4abb97",
   "metadata": {},
   "outputs": [
    {
     "data": {
      "text/plain": [
       "0.313675194978714"
      ]
     },
     "execution_count": 48,
     "metadata": {},
     "output_type": "execute_result"
    }
   ],
   "source": [
    "results.multi_hand_landmarks[0].landmark[0].x"
   ]
  },
  {
   "cell_type": "code",
   "execution_count": 147,
   "id": "356cf2ea",
   "metadata": {},
   "outputs": [
    {
     "name": "stderr",
     "output_type": "stream",
     "text": [
      "/home/ubuntu/.local/lib/python3.8/site-packages/sklearn/base.py:441: UserWarning: X does not have valid feature names, but StandardScaler was fitted with feature names\n",
      "  warnings.warn(\n",
      "/home/ubuntu/.local/lib/python3.8/site-packages/sklearn/base.py:441: UserWarning: X does not have valid feature names, but StandardScaler was fitted with feature names\n",
      "  warnings.warn(\n",
      "/home/ubuntu/.local/lib/python3.8/site-packages/sklearn/base.py:441: UserWarning: X does not have valid feature names, but StandardScaler was fitted with feature names\n",
      "  warnings.warn(\n",
      "/home/ubuntu/.local/lib/python3.8/site-packages/sklearn/base.py:441: UserWarning: X does not have valid feature names, but StandardScaler was fitted with feature names\n",
      "  warnings.warn(\n"
     ]
    },
    {
     "name": "stdout",
     "output_type": "stream",
     "text": [
      "Open\n",
      "Open\n",
      "Open\n",
      "Open\n"
     ]
    },
    {
     "name": "stderr",
     "output_type": "stream",
     "text": [
      "/home/ubuntu/.local/lib/python3.8/site-packages/sklearn/base.py:441: UserWarning: X does not have valid feature names, but StandardScaler was fitted with feature names\n",
      "  warnings.warn(\n",
      "/home/ubuntu/.local/lib/python3.8/site-packages/sklearn/base.py:441: UserWarning: X does not have valid feature names, but StandardScaler was fitted with feature names\n",
      "  warnings.warn(\n",
      "/home/ubuntu/.local/lib/python3.8/site-packages/sklearn/base.py:441: UserWarning: X does not have valid feature names, but StandardScaler was fitted with feature names\n",
      "  warnings.warn(\n",
      "/home/ubuntu/.local/lib/python3.8/site-packages/sklearn/base.py:441: UserWarning: X does not have valid feature names, but StandardScaler was fitted with feature names\n",
      "  warnings.warn(\n"
     ]
    },
    {
     "name": "stdout",
     "output_type": "stream",
     "text": [
      "Open\n",
      "Open\n",
      "Open\n",
      "Open\n"
     ]
    },
    {
     "name": "stderr",
     "output_type": "stream",
     "text": [
      "/home/ubuntu/.local/lib/python3.8/site-packages/sklearn/base.py:441: UserWarning: X does not have valid feature names, but StandardScaler was fitted with feature names\n",
      "  warnings.warn(\n",
      "/home/ubuntu/.local/lib/python3.8/site-packages/sklearn/base.py:441: UserWarning: X does not have valid feature names, but StandardScaler was fitted with feature names\n",
      "  warnings.warn(\n",
      "/home/ubuntu/.local/lib/python3.8/site-packages/sklearn/base.py:441: UserWarning: X does not have valid feature names, but StandardScaler was fitted with feature names\n",
      "  warnings.warn(\n",
      "/home/ubuntu/.local/lib/python3.8/site-packages/sklearn/base.py:441: UserWarning: X does not have valid feature names, but StandardScaler was fitted with feature names\n",
      "  warnings.warn(\n"
     ]
    },
    {
     "name": "stdout",
     "output_type": "stream",
     "text": [
      "Open\n",
      "Open\n",
      "Open\n",
      "Open\n"
     ]
    },
    {
     "name": "stderr",
     "output_type": "stream",
     "text": [
      "/home/ubuntu/.local/lib/python3.8/site-packages/sklearn/base.py:441: UserWarning: X does not have valid feature names, but StandardScaler was fitted with feature names\n",
      "  warnings.warn(\n",
      "/home/ubuntu/.local/lib/python3.8/site-packages/sklearn/base.py:441: UserWarning: X does not have valid feature names, but StandardScaler was fitted with feature names\n",
      "  warnings.warn(\n",
      "/home/ubuntu/.local/lib/python3.8/site-packages/sklearn/base.py:441: UserWarning: X does not have valid feature names, but StandardScaler was fitted with feature names\n",
      "  warnings.warn(\n",
      "/home/ubuntu/.local/lib/python3.8/site-packages/sklearn/base.py:441: UserWarning: X does not have valid feature names, but StandardScaler was fitted with feature names\n",
      "  warnings.warn(\n"
     ]
    },
    {
     "name": "stdout",
     "output_type": "stream",
     "text": [
      "Open\n",
      "Open\n",
      "Open\n",
      "Open\n"
     ]
    },
    {
     "name": "stderr",
     "output_type": "stream",
     "text": [
      "/home/ubuntu/.local/lib/python3.8/site-packages/sklearn/base.py:441: UserWarning: X does not have valid feature names, but StandardScaler was fitted with feature names\n",
      "  warnings.warn(\n",
      "/home/ubuntu/.local/lib/python3.8/site-packages/sklearn/base.py:441: UserWarning: X does not have valid feature names, but StandardScaler was fitted with feature names\n",
      "  warnings.warn(\n",
      "/home/ubuntu/.local/lib/python3.8/site-packages/sklearn/base.py:441: UserWarning: X does not have valid feature names, but StandardScaler was fitted with feature names\n",
      "  warnings.warn(\n",
      "/home/ubuntu/.local/lib/python3.8/site-packages/sklearn/base.py:441: UserWarning: X does not have valid feature names, but StandardScaler was fitted with feature names\n",
      "  warnings.warn(\n"
     ]
    },
    {
     "name": "stdout",
     "output_type": "stream",
     "text": [
      "Open\n",
      "Open\n",
      "Open\n",
      "Open\n"
     ]
    },
    {
     "name": "stderr",
     "output_type": "stream",
     "text": [
      "/home/ubuntu/.local/lib/python3.8/site-packages/sklearn/base.py:441: UserWarning: X does not have valid feature names, but StandardScaler was fitted with feature names\n",
      "  warnings.warn(\n",
      "/home/ubuntu/.local/lib/python3.8/site-packages/sklearn/base.py:441: UserWarning: X does not have valid feature names, but StandardScaler was fitted with feature names\n",
      "  warnings.warn(\n",
      "/home/ubuntu/.local/lib/python3.8/site-packages/sklearn/base.py:441: UserWarning: X does not have valid feature names, but StandardScaler was fitted with feature names\n",
      "  warnings.warn(\n",
      "/home/ubuntu/.local/lib/python3.8/site-packages/sklearn/base.py:441: UserWarning: X does not have valid feature names, but StandardScaler was fitted with feature names\n",
      "  warnings.warn(\n"
     ]
    },
    {
     "name": "stdout",
     "output_type": "stream",
     "text": [
      "Open\n",
      "Open\n",
      "Open\n",
      "Open\n"
     ]
    },
    {
     "name": "stderr",
     "output_type": "stream",
     "text": [
      "/home/ubuntu/.local/lib/python3.8/site-packages/sklearn/base.py:441: UserWarning: X does not have valid feature names, but StandardScaler was fitted with feature names\n",
      "  warnings.warn(\n",
      "/home/ubuntu/.local/lib/python3.8/site-packages/sklearn/base.py:441: UserWarning: X does not have valid feature names, but StandardScaler was fitted with feature names\n",
      "  warnings.warn(\n",
      "/home/ubuntu/.local/lib/python3.8/site-packages/sklearn/base.py:441: UserWarning: X does not have valid feature names, but StandardScaler was fitted with feature names\n",
      "  warnings.warn(\n",
      "/home/ubuntu/.local/lib/python3.8/site-packages/sklearn/base.py:441: UserWarning: X does not have valid feature names, but StandardScaler was fitted with feature names\n",
      "  warnings.warn(\n"
     ]
    },
    {
     "name": "stdout",
     "output_type": "stream",
     "text": [
      "Open\n",
      "Open\n",
      "Open\n",
      "Fist\n"
     ]
    },
    {
     "name": "stderr",
     "output_type": "stream",
     "text": [
      "/home/ubuntu/.local/lib/python3.8/site-packages/sklearn/base.py:441: UserWarning: X does not have valid feature names, but StandardScaler was fitted with feature names\n",
      "  warnings.warn(\n",
      "/home/ubuntu/.local/lib/python3.8/site-packages/sklearn/base.py:441: UserWarning: X does not have valid feature names, but StandardScaler was fitted with feature names\n",
      "  warnings.warn(\n",
      "/home/ubuntu/.local/lib/python3.8/site-packages/sklearn/base.py:441: UserWarning: X does not have valid feature names, but StandardScaler was fitted with feature names\n",
      "  warnings.warn(\n",
      "/home/ubuntu/.local/lib/python3.8/site-packages/sklearn/base.py:441: UserWarning: X does not have valid feature names, but StandardScaler was fitted with feature names\n",
      "  warnings.warn(\n"
     ]
    },
    {
     "name": "stdout",
     "output_type": "stream",
     "text": [
      "Fist\n",
      "Fist\n",
      "Fist\n",
      "Fist\n"
     ]
    },
    {
     "name": "stderr",
     "output_type": "stream",
     "text": [
      "/home/ubuntu/.local/lib/python3.8/site-packages/sklearn/base.py:441: UserWarning: X does not have valid feature names, but StandardScaler was fitted with feature names\n",
      "  warnings.warn(\n",
      "/home/ubuntu/.local/lib/python3.8/site-packages/sklearn/base.py:441: UserWarning: X does not have valid feature names, but StandardScaler was fitted with feature names\n",
      "  warnings.warn(\n",
      "/home/ubuntu/.local/lib/python3.8/site-packages/sklearn/base.py:441: UserWarning: X does not have valid feature names, but StandardScaler was fitted with feature names\n",
      "  warnings.warn(\n",
      "/home/ubuntu/.local/lib/python3.8/site-packages/sklearn/base.py:441: UserWarning: X does not have valid feature names, but StandardScaler was fitted with feature names\n",
      "  warnings.warn(\n"
     ]
    },
    {
     "name": "stdout",
     "output_type": "stream",
     "text": [
      "Fist\n",
      "Fist\n",
      "Fist\n",
      "Fist\n"
     ]
    },
    {
     "name": "stderr",
     "output_type": "stream",
     "text": [
      "/home/ubuntu/.local/lib/python3.8/site-packages/sklearn/base.py:441: UserWarning: X does not have valid feature names, but StandardScaler was fitted with feature names\n",
      "  warnings.warn(\n",
      "/home/ubuntu/.local/lib/python3.8/site-packages/sklearn/base.py:441: UserWarning: X does not have valid feature names, but StandardScaler was fitted with feature names\n",
      "  warnings.warn(\n",
      "/home/ubuntu/.local/lib/python3.8/site-packages/sklearn/base.py:441: UserWarning: X does not have valid feature names, but StandardScaler was fitted with feature names\n",
      "  warnings.warn(\n",
      "/home/ubuntu/.local/lib/python3.8/site-packages/sklearn/base.py:441: UserWarning: X does not have valid feature names, but StandardScaler was fitted with feature names\n",
      "  warnings.warn(\n"
     ]
    },
    {
     "name": "stdout",
     "output_type": "stream",
     "text": [
      "Fist\n",
      "Fist\n",
      "Fist\n",
      "Fist\n"
     ]
    },
    {
     "name": "stderr",
     "output_type": "stream",
     "text": [
      "/home/ubuntu/.local/lib/python3.8/site-packages/sklearn/base.py:441: UserWarning: X does not have valid feature names, but StandardScaler was fitted with feature names\n",
      "  warnings.warn(\n",
      "/home/ubuntu/.local/lib/python3.8/site-packages/sklearn/base.py:441: UserWarning: X does not have valid feature names, but StandardScaler was fitted with feature names\n",
      "  warnings.warn(\n",
      "/home/ubuntu/.local/lib/python3.8/site-packages/sklearn/base.py:441: UserWarning: X does not have valid feature names, but StandardScaler was fitted with feature names\n",
      "  warnings.warn(\n",
      "/home/ubuntu/.local/lib/python3.8/site-packages/sklearn/base.py:441: UserWarning: X does not have valid feature names, but StandardScaler was fitted with feature names\n",
      "  warnings.warn(\n"
     ]
    },
    {
     "name": "stdout",
     "output_type": "stream",
     "text": [
      "Fist\n",
      "Fist\n",
      "Fist\n",
      "Fist\n"
     ]
    },
    {
     "name": "stderr",
     "output_type": "stream",
     "text": [
      "/home/ubuntu/.local/lib/python3.8/site-packages/sklearn/base.py:441: UserWarning: X does not have valid feature names, but StandardScaler was fitted with feature names\n",
      "  warnings.warn(\n",
      "/home/ubuntu/.local/lib/python3.8/site-packages/sklearn/base.py:441: UserWarning: X does not have valid feature names, but StandardScaler was fitted with feature names\n",
      "  warnings.warn(\n",
      "/home/ubuntu/.local/lib/python3.8/site-packages/sklearn/base.py:441: UserWarning: X does not have valid feature names, but StandardScaler was fitted with feature names\n",
      "  warnings.warn(\n",
      "/home/ubuntu/.local/lib/python3.8/site-packages/sklearn/base.py:441: UserWarning: X does not have valid feature names, but StandardScaler was fitted with feature names\n",
      "  warnings.warn(\n"
     ]
    },
    {
     "name": "stdout",
     "output_type": "stream",
     "text": [
      "Fist\n",
      "Fist\n",
      "Fist\n",
      "Fist\n"
     ]
    },
    {
     "name": "stderr",
     "output_type": "stream",
     "text": [
      "/home/ubuntu/.local/lib/python3.8/site-packages/sklearn/base.py:441: UserWarning: X does not have valid feature names, but StandardScaler was fitted with feature names\n",
      "  warnings.warn(\n",
      "/home/ubuntu/.local/lib/python3.8/site-packages/sklearn/base.py:441: UserWarning: X does not have valid feature names, but StandardScaler was fitted with feature names\n",
      "  warnings.warn(\n",
      "/home/ubuntu/.local/lib/python3.8/site-packages/sklearn/base.py:441: UserWarning: X does not have valid feature names, but StandardScaler was fitted with feature names\n",
      "  warnings.warn(\n",
      "/home/ubuntu/.local/lib/python3.8/site-packages/sklearn/base.py:441: UserWarning: X does not have valid feature names, but StandardScaler was fitted with feature names\n",
      "  warnings.warn(\n"
     ]
    },
    {
     "name": "stdout",
     "output_type": "stream",
     "text": [
      "Fist\n",
      "Fist\n",
      "Fist\n",
      "Fist\n"
     ]
    },
    {
     "name": "stderr",
     "output_type": "stream",
     "text": [
      "/home/ubuntu/.local/lib/python3.8/site-packages/sklearn/base.py:441: UserWarning: X does not have valid feature names, but StandardScaler was fitted with feature names\n",
      "  warnings.warn(\n",
      "/home/ubuntu/.local/lib/python3.8/site-packages/sklearn/base.py:441: UserWarning: X does not have valid feature names, but StandardScaler was fitted with feature names\n",
      "  warnings.warn(\n",
      "/home/ubuntu/.local/lib/python3.8/site-packages/sklearn/base.py:441: UserWarning: X does not have valid feature names, but StandardScaler was fitted with feature names\n",
      "  warnings.warn(\n",
      "/home/ubuntu/.local/lib/python3.8/site-packages/sklearn/base.py:441: UserWarning: X does not have valid feature names, but StandardScaler was fitted with feature names\n",
      "  warnings.warn(\n"
     ]
    },
    {
     "name": "stdout",
     "output_type": "stream",
     "text": [
      "Fist\n",
      "Fist\n",
      "Fist\n",
      "Fist\n"
     ]
    },
    {
     "name": "stderr",
     "output_type": "stream",
     "text": [
      "/home/ubuntu/.local/lib/python3.8/site-packages/sklearn/base.py:441: UserWarning: X does not have valid feature names, but StandardScaler was fitted with feature names\n",
      "  warnings.warn(\n",
      "/home/ubuntu/.local/lib/python3.8/site-packages/sklearn/base.py:441: UserWarning: X does not have valid feature names, but StandardScaler was fitted with feature names\n",
      "  warnings.warn(\n",
      "/home/ubuntu/.local/lib/python3.8/site-packages/sklearn/base.py:441: UserWarning: X does not have valid feature names, but StandardScaler was fitted with feature names\n",
      "  warnings.warn(\n",
      "/home/ubuntu/.local/lib/python3.8/site-packages/sklearn/base.py:441: UserWarning: X does not have valid feature names, but StandardScaler was fitted with feature names\n",
      "  warnings.warn(\n"
     ]
    },
    {
     "name": "stdout",
     "output_type": "stream",
     "text": [
      "Fist\n",
      "Fist\n",
      "Fist\n",
      "Fist\n"
     ]
    },
    {
     "name": "stderr",
     "output_type": "stream",
     "text": [
      "/home/ubuntu/.local/lib/python3.8/site-packages/sklearn/base.py:441: UserWarning: X does not have valid feature names, but StandardScaler was fitted with feature names\n",
      "  warnings.warn(\n",
      "/home/ubuntu/.local/lib/python3.8/site-packages/sklearn/base.py:441: UserWarning: X does not have valid feature names, but StandardScaler was fitted with feature names\n",
      "  warnings.warn(\n",
      "/home/ubuntu/.local/lib/python3.8/site-packages/sklearn/base.py:441: UserWarning: X does not have valid feature names, but StandardScaler was fitted with feature names\n",
      "  warnings.warn(\n",
      "/home/ubuntu/.local/lib/python3.8/site-packages/sklearn/base.py:441: UserWarning: X does not have valid feature names, but StandardScaler was fitted with feature names\n",
      "  warnings.warn(\n"
     ]
    },
    {
     "name": "stdout",
     "output_type": "stream",
     "text": [
      "Fist\n",
      "Fist\n",
      "Fist\n",
      "Fist\n"
     ]
    },
    {
     "name": "stderr",
     "output_type": "stream",
     "text": [
      "/home/ubuntu/.local/lib/python3.8/site-packages/sklearn/base.py:441: UserWarning: X does not have valid feature names, but StandardScaler was fitted with feature names\n",
      "  warnings.warn(\n",
      "/home/ubuntu/.local/lib/python3.8/site-packages/sklearn/base.py:441: UserWarning: X does not have valid feature names, but StandardScaler was fitted with feature names\n",
      "  warnings.warn(\n",
      "/home/ubuntu/.local/lib/python3.8/site-packages/sklearn/base.py:441: UserWarning: X does not have valid feature names, but StandardScaler was fitted with feature names\n",
      "  warnings.warn(\n",
      "/home/ubuntu/.local/lib/python3.8/site-packages/sklearn/base.py:441: UserWarning: X does not have valid feature names, but StandardScaler was fitted with feature names\n",
      "  warnings.warn(\n"
     ]
    },
    {
     "name": "stdout",
     "output_type": "stream",
     "text": [
      "Open\n",
      "Fist\n",
      "Fist\n",
      "Fist\n"
     ]
    },
    {
     "name": "stderr",
     "output_type": "stream",
     "text": [
      "/home/ubuntu/.local/lib/python3.8/site-packages/sklearn/base.py:441: UserWarning: X does not have valid feature names, but StandardScaler was fitted with feature names\n",
      "  warnings.warn(\n",
      "/home/ubuntu/.local/lib/python3.8/site-packages/sklearn/base.py:441: UserWarning: X does not have valid feature names, but StandardScaler was fitted with feature names\n",
      "  warnings.warn(\n",
      "/home/ubuntu/.local/lib/python3.8/site-packages/sklearn/base.py:441: UserWarning: X does not have valid feature names, but StandardScaler was fitted with feature names\n",
      "  warnings.warn(\n",
      "/home/ubuntu/.local/lib/python3.8/site-packages/sklearn/base.py:441: UserWarning: X does not have valid feature names, but StandardScaler was fitted with feature names\n",
      "  warnings.warn(\n"
     ]
    },
    {
     "name": "stdout",
     "output_type": "stream",
     "text": [
      "Fist\n",
      "Fist\n",
      "Fist\n",
      "Fist\n"
     ]
    },
    {
     "name": "stderr",
     "output_type": "stream",
     "text": [
      "/home/ubuntu/.local/lib/python3.8/site-packages/sklearn/base.py:441: UserWarning: X does not have valid feature names, but StandardScaler was fitted with feature names\n",
      "  warnings.warn(\n",
      "/home/ubuntu/.local/lib/python3.8/site-packages/sklearn/base.py:441: UserWarning: X does not have valid feature names, but StandardScaler was fitted with feature names\n",
      "  warnings.warn(\n",
      "/home/ubuntu/.local/lib/python3.8/site-packages/sklearn/base.py:441: UserWarning: X does not have valid feature names, but StandardScaler was fitted with feature names\n",
      "  warnings.warn(\n",
      "/home/ubuntu/.local/lib/python3.8/site-packages/sklearn/base.py:441: UserWarning: X does not have valid feature names, but StandardScaler was fitted with feature names\n",
      "  warnings.warn(\n"
     ]
    },
    {
     "name": "stdout",
     "output_type": "stream",
     "text": [
      "Fist\n",
      "Fist\n",
      "Peace\n",
      "Peace\n"
     ]
    },
    {
     "name": "stderr",
     "output_type": "stream",
     "text": [
      "/home/ubuntu/.local/lib/python3.8/site-packages/sklearn/base.py:441: UserWarning: X does not have valid feature names, but StandardScaler was fitted with feature names\n",
      "  warnings.warn(\n",
      "/home/ubuntu/.local/lib/python3.8/site-packages/sklearn/base.py:441: UserWarning: X does not have valid feature names, but StandardScaler was fitted with feature names\n",
      "  warnings.warn(\n",
      "/home/ubuntu/.local/lib/python3.8/site-packages/sklearn/base.py:441: UserWarning: X does not have valid feature names, but StandardScaler was fitted with feature names\n",
      "  warnings.warn(\n",
      "/home/ubuntu/.local/lib/python3.8/site-packages/sklearn/base.py:441: UserWarning: X does not have valid feature names, but StandardScaler was fitted with feature names\n",
      "  warnings.warn(\n"
     ]
    },
    {
     "name": "stdout",
     "output_type": "stream",
     "text": [
      "Peace\n",
      "Peace\n",
      "Peace\n",
      "Peace\n"
     ]
    },
    {
     "name": "stderr",
     "output_type": "stream",
     "text": [
      "/home/ubuntu/.local/lib/python3.8/site-packages/sklearn/base.py:441: UserWarning: X does not have valid feature names, but StandardScaler was fitted with feature names\n",
      "  warnings.warn(\n",
      "/home/ubuntu/.local/lib/python3.8/site-packages/sklearn/base.py:441: UserWarning: X does not have valid feature names, but StandardScaler was fitted with feature names\n",
      "  warnings.warn(\n",
      "/home/ubuntu/.local/lib/python3.8/site-packages/sklearn/base.py:441: UserWarning: X does not have valid feature names, but StandardScaler was fitted with feature names\n",
      "  warnings.warn(\n",
      "/home/ubuntu/.local/lib/python3.8/site-packages/sklearn/base.py:441: UserWarning: X does not have valid feature names, but StandardScaler was fitted with feature names\n",
      "  warnings.warn(\n"
     ]
    },
    {
     "name": "stdout",
     "output_type": "stream",
     "text": [
      "Peace\n",
      "Peace\n",
      "Peace\n",
      "Peace\n"
     ]
    },
    {
     "name": "stderr",
     "output_type": "stream",
     "text": [
      "/home/ubuntu/.local/lib/python3.8/site-packages/sklearn/base.py:441: UserWarning: X does not have valid feature names, but StandardScaler was fitted with feature names\n",
      "  warnings.warn(\n",
      "/home/ubuntu/.local/lib/python3.8/site-packages/sklearn/base.py:441: UserWarning: X does not have valid feature names, but StandardScaler was fitted with feature names\n",
      "  warnings.warn(\n",
      "/home/ubuntu/.local/lib/python3.8/site-packages/sklearn/base.py:441: UserWarning: X does not have valid feature names, but StandardScaler was fitted with feature names\n",
      "  warnings.warn(\n",
      "/home/ubuntu/.local/lib/python3.8/site-packages/sklearn/base.py:441: UserWarning: X does not have valid feature names, but StandardScaler was fitted with feature names\n",
      "  warnings.warn(\n"
     ]
    },
    {
     "name": "stdout",
     "output_type": "stream",
     "text": [
      "Peace\n",
      "Peace\n",
      "Peace\n",
      "Peace\n"
     ]
    },
    {
     "name": "stderr",
     "output_type": "stream",
     "text": [
      "/home/ubuntu/.local/lib/python3.8/site-packages/sklearn/base.py:441: UserWarning: X does not have valid feature names, but StandardScaler was fitted with feature names\n",
      "  warnings.warn(\n",
      "/home/ubuntu/.local/lib/python3.8/site-packages/sklearn/base.py:441: UserWarning: X does not have valid feature names, but StandardScaler was fitted with feature names\n",
      "  warnings.warn(\n",
      "/home/ubuntu/.local/lib/python3.8/site-packages/sklearn/base.py:441: UserWarning: X does not have valid feature names, but StandardScaler was fitted with feature names\n",
      "  warnings.warn(\n",
      "/home/ubuntu/.local/lib/python3.8/site-packages/sklearn/base.py:441: UserWarning: X does not have valid feature names, but StandardScaler was fitted with feature names\n",
      "  warnings.warn(\n"
     ]
    },
    {
     "name": "stdout",
     "output_type": "stream",
     "text": [
      "Peace\n",
      "Peace\n",
      "Peace\n",
      "Peace\n"
     ]
    },
    {
     "name": "stderr",
     "output_type": "stream",
     "text": [
      "/home/ubuntu/.local/lib/python3.8/site-packages/sklearn/base.py:441: UserWarning: X does not have valid feature names, but StandardScaler was fitted with feature names\n",
      "  warnings.warn(\n",
      "/home/ubuntu/.local/lib/python3.8/site-packages/sklearn/base.py:441: UserWarning: X does not have valid feature names, but StandardScaler was fitted with feature names\n",
      "  warnings.warn(\n",
      "/home/ubuntu/.local/lib/python3.8/site-packages/sklearn/base.py:441: UserWarning: X does not have valid feature names, but StandardScaler was fitted with feature names\n",
      "  warnings.warn(\n",
      "/home/ubuntu/.local/lib/python3.8/site-packages/sklearn/base.py:441: UserWarning: X does not have valid feature names, but StandardScaler was fitted with feature names\n",
      "  warnings.warn(\n"
     ]
    },
    {
     "name": "stdout",
     "output_type": "stream",
     "text": [
      "Peace\n",
      "Peace\n",
      "Peace\n",
      "Peace\n"
     ]
    },
    {
     "name": "stderr",
     "output_type": "stream",
     "text": [
      "/home/ubuntu/.local/lib/python3.8/site-packages/sklearn/base.py:441: UserWarning: X does not have valid feature names, but StandardScaler was fitted with feature names\n",
      "  warnings.warn(\n",
      "/home/ubuntu/.local/lib/python3.8/site-packages/sklearn/base.py:441: UserWarning: X does not have valid feature names, but StandardScaler was fitted with feature names\n",
      "  warnings.warn(\n",
      "/home/ubuntu/.local/lib/python3.8/site-packages/sklearn/base.py:441: UserWarning: X does not have valid feature names, but StandardScaler was fitted with feature names\n",
      "  warnings.warn(\n",
      "/home/ubuntu/.local/lib/python3.8/site-packages/sklearn/base.py:441: UserWarning: X does not have valid feature names, but StandardScaler was fitted with feature names\n",
      "  warnings.warn(\n"
     ]
    },
    {
     "name": "stdout",
     "output_type": "stream",
     "text": [
      "Love\n",
      "Love\n",
      "Love\n",
      "Love\n"
     ]
    },
    {
     "name": "stderr",
     "output_type": "stream",
     "text": [
      "/home/ubuntu/.local/lib/python3.8/site-packages/sklearn/base.py:441: UserWarning: X does not have valid feature names, but StandardScaler was fitted with feature names\n",
      "  warnings.warn(\n",
      "/home/ubuntu/.local/lib/python3.8/site-packages/sklearn/base.py:441: UserWarning: X does not have valid feature names, but StandardScaler was fitted with feature names\n",
      "  warnings.warn(\n",
      "/home/ubuntu/.local/lib/python3.8/site-packages/sklearn/base.py:441: UserWarning: X does not have valid feature names, but StandardScaler was fitted with feature names\n",
      "  warnings.warn(\n",
      "/home/ubuntu/.local/lib/python3.8/site-packages/sklearn/base.py:441: UserWarning: X does not have valid feature names, but StandardScaler was fitted with feature names\n",
      "  warnings.warn(\n"
     ]
    },
    {
     "name": "stdout",
     "output_type": "stream",
     "text": [
      "Love\n",
      "Love\n",
      "Love\n",
      "Love\n"
     ]
    },
    {
     "name": "stderr",
     "output_type": "stream",
     "text": [
      "/home/ubuntu/.local/lib/python3.8/site-packages/sklearn/base.py:441: UserWarning: X does not have valid feature names, but StandardScaler was fitted with feature names\n",
      "  warnings.warn(\n",
      "/home/ubuntu/.local/lib/python3.8/site-packages/sklearn/base.py:441: UserWarning: X does not have valid feature names, but StandardScaler was fitted with feature names\n",
      "  warnings.warn(\n",
      "/home/ubuntu/.local/lib/python3.8/site-packages/sklearn/base.py:441: UserWarning: X does not have valid feature names, but StandardScaler was fitted with feature names\n",
      "  warnings.warn(\n",
      "/home/ubuntu/.local/lib/python3.8/site-packages/sklearn/base.py:441: UserWarning: X does not have valid feature names, but StandardScaler was fitted with feature names\n",
      "  warnings.warn(\n"
     ]
    },
    {
     "name": "stdout",
     "output_type": "stream",
     "text": [
      "Love\n",
      "Love\n",
      "Love\n",
      "Love\n"
     ]
    },
    {
     "name": "stderr",
     "output_type": "stream",
     "text": [
      "/home/ubuntu/.local/lib/python3.8/site-packages/sklearn/base.py:441: UserWarning: X does not have valid feature names, but StandardScaler was fitted with feature names\n",
      "  warnings.warn(\n",
      "/home/ubuntu/.local/lib/python3.8/site-packages/sklearn/base.py:441: UserWarning: X does not have valid feature names, but StandardScaler was fitted with feature names\n",
      "  warnings.warn(\n",
      "/home/ubuntu/.local/lib/python3.8/site-packages/sklearn/base.py:441: UserWarning: X does not have valid feature names, but StandardScaler was fitted with feature names\n",
      "  warnings.warn(\n",
      "/home/ubuntu/.local/lib/python3.8/site-packages/sklearn/base.py:441: UserWarning: X does not have valid feature names, but StandardScaler was fitted with feature names\n",
      "  warnings.warn(\n"
     ]
    },
    {
     "name": "stdout",
     "output_type": "stream",
     "text": [
      "Love\n",
      "Love\n",
      "Love\n",
      "Love\n"
     ]
    },
    {
     "name": "stderr",
     "output_type": "stream",
     "text": [
      "/home/ubuntu/.local/lib/python3.8/site-packages/sklearn/base.py:441: UserWarning: X does not have valid feature names, but StandardScaler was fitted with feature names\n",
      "  warnings.warn(\n",
      "/home/ubuntu/.local/lib/python3.8/site-packages/sklearn/base.py:441: UserWarning: X does not have valid feature names, but StandardScaler was fitted with feature names\n",
      "  warnings.warn(\n",
      "/home/ubuntu/.local/lib/python3.8/site-packages/sklearn/base.py:441: UserWarning: X does not have valid feature names, but StandardScaler was fitted with feature names\n",
      "  warnings.warn(\n",
      "/home/ubuntu/.local/lib/python3.8/site-packages/sklearn/base.py:441: UserWarning: X does not have valid feature names, but StandardScaler was fitted with feature names\n",
      "  warnings.warn(\n"
     ]
    },
    {
     "name": "stdout",
     "output_type": "stream",
     "text": [
      "Love\n",
      "Love\n",
      "Love\n",
      "Love\n"
     ]
    },
    {
     "name": "stderr",
     "output_type": "stream",
     "text": [
      "/home/ubuntu/.local/lib/python3.8/site-packages/sklearn/base.py:441: UserWarning: X does not have valid feature names, but StandardScaler was fitted with feature names\n",
      "  warnings.warn(\n",
      "/home/ubuntu/.local/lib/python3.8/site-packages/sklearn/base.py:441: UserWarning: X does not have valid feature names, but StandardScaler was fitted with feature names\n",
      "  warnings.warn(\n",
      "/home/ubuntu/.local/lib/python3.8/site-packages/sklearn/base.py:441: UserWarning: X does not have valid feature names, but StandardScaler was fitted with feature names\n",
      "  warnings.warn(\n",
      "/home/ubuntu/.local/lib/python3.8/site-packages/sklearn/base.py:441: UserWarning: X does not have valid feature names, but StandardScaler was fitted with feature names\n",
      "  warnings.warn(\n"
     ]
    },
    {
     "name": "stdout",
     "output_type": "stream",
     "text": [
      "Love\n",
      "Love\n",
      "Love\n",
      "Love\n"
     ]
    },
    {
     "name": "stderr",
     "output_type": "stream",
     "text": [
      "/home/ubuntu/.local/lib/python3.8/site-packages/sklearn/base.py:441: UserWarning: X does not have valid feature names, but StandardScaler was fitted with feature names\n",
      "  warnings.warn(\n",
      "/home/ubuntu/.local/lib/python3.8/site-packages/sklearn/base.py:441: UserWarning: X does not have valid feature names, but StandardScaler was fitted with feature names\n",
      "  warnings.warn(\n",
      "/home/ubuntu/.local/lib/python3.8/site-packages/sklearn/base.py:441: UserWarning: X does not have valid feature names, but StandardScaler was fitted with feature names\n",
      "  warnings.warn(\n",
      "/home/ubuntu/.local/lib/python3.8/site-packages/sklearn/base.py:441: UserWarning: X does not have valid feature names, but StandardScaler was fitted with feature names\n",
      "  warnings.warn(\n"
     ]
    },
    {
     "name": "stdout",
     "output_type": "stream",
     "text": [
      "Love\n",
      "Love\n",
      "Love\n",
      "Love\n"
     ]
    },
    {
     "name": "stderr",
     "output_type": "stream",
     "text": [
      "/home/ubuntu/.local/lib/python3.8/site-packages/sklearn/base.py:441: UserWarning: X does not have valid feature names, but StandardScaler was fitted with feature names\n",
      "  warnings.warn(\n",
      "/home/ubuntu/.local/lib/python3.8/site-packages/sklearn/base.py:441: UserWarning: X does not have valid feature names, but StandardScaler was fitted with feature names\n",
      "  warnings.warn(\n",
      "/home/ubuntu/.local/lib/python3.8/site-packages/sklearn/base.py:441: UserWarning: X does not have valid feature names, but StandardScaler was fitted with feature names\n",
      "  warnings.warn(\n",
      "/home/ubuntu/.local/lib/python3.8/site-packages/sklearn/base.py:441: UserWarning: X does not have valid feature names, but StandardScaler was fitted with feature names\n",
      "  warnings.warn(\n"
     ]
    },
    {
     "name": "stdout",
     "output_type": "stream",
     "text": [
      "Open\n",
      "Open\n",
      "Open\n",
      "Open\n"
     ]
    },
    {
     "name": "stderr",
     "output_type": "stream",
     "text": [
      "/home/ubuntu/.local/lib/python3.8/site-packages/sklearn/base.py:441: UserWarning: X does not have valid feature names, but StandardScaler was fitted with feature names\n",
      "  warnings.warn(\n",
      "/home/ubuntu/.local/lib/python3.8/site-packages/sklearn/base.py:441: UserWarning: X does not have valid feature names, but StandardScaler was fitted with feature names\n",
      "  warnings.warn(\n",
      "/home/ubuntu/.local/lib/python3.8/site-packages/sklearn/base.py:441: UserWarning: X does not have valid feature names, but StandardScaler was fitted with feature names\n",
      "  warnings.warn(\n",
      "/home/ubuntu/.local/lib/python3.8/site-packages/sklearn/base.py:441: UserWarning: X does not have valid feature names, but StandardScaler was fitted with feature names\n",
      "  warnings.warn(\n"
     ]
    },
    {
     "name": "stdout",
     "output_type": "stream",
     "text": [
      "Open\n",
      "Open\n",
      "Open\n",
      "Open\n"
     ]
    },
    {
     "name": "stderr",
     "output_type": "stream",
     "text": [
      "/home/ubuntu/.local/lib/python3.8/site-packages/sklearn/base.py:441: UserWarning: X does not have valid feature names, but StandardScaler was fitted with feature names\n",
      "  warnings.warn(\n",
      "/home/ubuntu/.local/lib/python3.8/site-packages/sklearn/base.py:441: UserWarning: X does not have valid feature names, but StandardScaler was fitted with feature names\n",
      "  warnings.warn(\n",
      "/home/ubuntu/.local/lib/python3.8/site-packages/sklearn/base.py:441: UserWarning: X does not have valid feature names, but StandardScaler was fitted with feature names\n",
      "  warnings.warn(\n",
      "/home/ubuntu/.local/lib/python3.8/site-packages/sklearn/base.py:441: UserWarning: X does not have valid feature names, but StandardScaler was fitted with feature names\n",
      "  warnings.warn(\n"
     ]
    },
    {
     "name": "stdout",
     "output_type": "stream",
     "text": [
      "Open\n",
      "Open\n",
      "Open\n",
      "Open\n"
     ]
    },
    {
     "name": "stderr",
     "output_type": "stream",
     "text": [
      "/home/ubuntu/.local/lib/python3.8/site-packages/sklearn/base.py:441: UserWarning: X does not have valid feature names, but StandardScaler was fitted with feature names\n",
      "  warnings.warn(\n",
      "/home/ubuntu/.local/lib/python3.8/site-packages/sklearn/base.py:441: UserWarning: X does not have valid feature names, but StandardScaler was fitted with feature names\n",
      "  warnings.warn(\n",
      "/home/ubuntu/.local/lib/python3.8/site-packages/sklearn/base.py:441: UserWarning: X does not have valid feature names, but StandardScaler was fitted with feature names\n",
      "  warnings.warn(\n",
      "/home/ubuntu/.local/lib/python3.8/site-packages/sklearn/base.py:441: UserWarning: X does not have valid feature names, but StandardScaler was fitted with feature names\n",
      "  warnings.warn(\n"
     ]
    },
    {
     "name": "stdout",
     "output_type": "stream",
     "text": [
      "Open\n",
      "Open\n",
      "Open\n",
      "Open\n"
     ]
    },
    {
     "name": "stderr",
     "output_type": "stream",
     "text": [
      "/home/ubuntu/.local/lib/python3.8/site-packages/sklearn/base.py:441: UserWarning: X does not have valid feature names, but StandardScaler was fitted with feature names\n",
      "  warnings.warn(\n",
      "/home/ubuntu/.local/lib/python3.8/site-packages/sklearn/base.py:441: UserWarning: X does not have valid feature names, but StandardScaler was fitted with feature names\n",
      "  warnings.warn(\n",
      "/home/ubuntu/.local/lib/python3.8/site-packages/sklearn/base.py:441: UserWarning: X does not have valid feature names, but StandardScaler was fitted with feature names\n",
      "  warnings.warn(\n",
      "/home/ubuntu/.local/lib/python3.8/site-packages/sklearn/base.py:441: UserWarning: X does not have valid feature names, but StandardScaler was fitted with feature names\n",
      "  warnings.warn(\n"
     ]
    },
    {
     "name": "stdout",
     "output_type": "stream",
     "text": [
      "Open\n",
      "Open\n",
      "Open\n",
      "Open\n"
     ]
    },
    {
     "name": "stderr",
     "output_type": "stream",
     "text": [
      "/home/ubuntu/.local/lib/python3.8/site-packages/sklearn/base.py:441: UserWarning: X does not have valid feature names, but StandardScaler was fitted with feature names\n",
      "  warnings.warn(\n",
      "/home/ubuntu/.local/lib/python3.8/site-packages/sklearn/base.py:441: UserWarning: X does not have valid feature names, but StandardScaler was fitted with feature names\n",
      "  warnings.warn(\n",
      "/home/ubuntu/.local/lib/python3.8/site-packages/sklearn/base.py:441: UserWarning: X does not have valid feature names, but StandardScaler was fitted with feature names\n",
      "  warnings.warn(\n",
      "/home/ubuntu/.local/lib/python3.8/site-packages/sklearn/base.py:441: UserWarning: X does not have valid feature names, but StandardScaler was fitted with feature names\n",
      "  warnings.warn(\n"
     ]
    },
    {
     "name": "stdout",
     "output_type": "stream",
     "text": [
      "Open\n",
      "Open\n",
      "Open\n",
      "Open\n"
     ]
    },
    {
     "name": "stderr",
     "output_type": "stream",
     "text": [
      "/home/ubuntu/.local/lib/python3.8/site-packages/sklearn/base.py:441: UserWarning: X does not have valid feature names, but StandardScaler was fitted with feature names\n",
      "  warnings.warn(\n",
      "/home/ubuntu/.local/lib/python3.8/site-packages/sklearn/base.py:441: UserWarning: X does not have valid feature names, but StandardScaler was fitted with feature names\n",
      "  warnings.warn(\n",
      "/home/ubuntu/.local/lib/python3.8/site-packages/sklearn/base.py:441: UserWarning: X does not have valid feature names, but StandardScaler was fitted with feature names\n",
      "  warnings.warn(\n",
      "/home/ubuntu/.local/lib/python3.8/site-packages/sklearn/base.py:441: UserWarning: X does not have valid feature names, but StandardScaler was fitted with feature names\n",
      "  warnings.warn(\n"
     ]
    },
    {
     "name": "stdout",
     "output_type": "stream",
     "text": [
      "Open\n",
      "Open\n",
      "Open\n",
      "Open\n"
     ]
    },
    {
     "name": "stderr",
     "output_type": "stream",
     "text": [
      "/home/ubuntu/.local/lib/python3.8/site-packages/sklearn/base.py:441: UserWarning: X does not have valid feature names, but StandardScaler was fitted with feature names\n",
      "  warnings.warn(\n",
      "/home/ubuntu/.local/lib/python3.8/site-packages/sklearn/base.py:441: UserWarning: X does not have valid feature names, but StandardScaler was fitted with feature names\n",
      "  warnings.warn(\n",
      "/home/ubuntu/.local/lib/python3.8/site-packages/sklearn/base.py:441: UserWarning: X does not have valid feature names, but StandardScaler was fitted with feature names\n",
      "  warnings.warn(\n",
      "/home/ubuntu/.local/lib/python3.8/site-packages/sklearn/base.py:441: UserWarning: X does not have valid feature names, but StandardScaler was fitted with feature names\n",
      "  warnings.warn(\n"
     ]
    },
    {
     "name": "stdout",
     "output_type": "stream",
     "text": [
      "Open\n",
      "Open\n",
      "Open\n",
      "Open\n"
     ]
    },
    {
     "name": "stderr",
     "output_type": "stream",
     "text": [
      "/home/ubuntu/.local/lib/python3.8/site-packages/sklearn/base.py:441: UserWarning: X does not have valid feature names, but StandardScaler was fitted with feature names\n",
      "  warnings.warn(\n",
      "/home/ubuntu/.local/lib/python3.8/site-packages/sklearn/base.py:441: UserWarning: X does not have valid feature names, but StandardScaler was fitted with feature names\n",
      "  warnings.warn(\n",
      "/home/ubuntu/.local/lib/python3.8/site-packages/sklearn/base.py:441: UserWarning: X does not have valid feature names, but StandardScaler was fitted with feature names\n",
      "  warnings.warn(\n",
      "/home/ubuntu/.local/lib/python3.8/site-packages/sklearn/base.py:441: UserWarning: X does not have valid feature names, but StandardScaler was fitted with feature names\n",
      "  warnings.warn(\n"
     ]
    },
    {
     "name": "stdout",
     "output_type": "stream",
     "text": [
      "Open\n",
      "Open\n",
      "Open\n",
      "Open\n"
     ]
    },
    {
     "name": "stderr",
     "output_type": "stream",
     "text": [
      "/home/ubuntu/.local/lib/python3.8/site-packages/sklearn/base.py:441: UserWarning: X does not have valid feature names, but StandardScaler was fitted with feature names\n",
      "  warnings.warn(\n",
      "/home/ubuntu/.local/lib/python3.8/site-packages/sklearn/base.py:441: UserWarning: X does not have valid feature names, but StandardScaler was fitted with feature names\n",
      "  warnings.warn(\n",
      "/home/ubuntu/.local/lib/python3.8/site-packages/sklearn/base.py:441: UserWarning: X does not have valid feature names, but StandardScaler was fitted with feature names\n",
      "  warnings.warn(\n",
      "/home/ubuntu/.local/lib/python3.8/site-packages/sklearn/base.py:441: UserWarning: X does not have valid feature names, but StandardScaler was fitted with feature names\n",
      "  warnings.warn(\n"
     ]
    },
    {
     "name": "stdout",
     "output_type": "stream",
     "text": [
      "Open\n",
      "Open\n",
      "Open\n",
      "Open\n"
     ]
    },
    {
     "name": "stderr",
     "output_type": "stream",
     "text": [
      "/home/ubuntu/.local/lib/python3.8/site-packages/sklearn/base.py:441: UserWarning: X does not have valid feature names, but StandardScaler was fitted with feature names\n",
      "  warnings.warn(\n",
      "/home/ubuntu/.local/lib/python3.8/site-packages/sklearn/base.py:441: UserWarning: X does not have valid feature names, but StandardScaler was fitted with feature names\n",
      "  warnings.warn(\n",
      "/home/ubuntu/.local/lib/python3.8/site-packages/sklearn/base.py:441: UserWarning: X does not have valid feature names, but StandardScaler was fitted with feature names\n",
      "  warnings.warn(\n",
      "/home/ubuntu/.local/lib/python3.8/site-packages/sklearn/base.py:441: UserWarning: X does not have valid feature names, but StandardScaler was fitted with feature names\n",
      "  warnings.warn(\n"
     ]
    },
    {
     "name": "stdout",
     "output_type": "stream",
     "text": [
      "Open\n",
      "Open\n",
      "Open\n",
      "Open\n"
     ]
    },
    {
     "name": "stderr",
     "output_type": "stream",
     "text": [
      "/home/ubuntu/.local/lib/python3.8/site-packages/sklearn/base.py:441: UserWarning: X does not have valid feature names, but StandardScaler was fitted with feature names\n",
      "  warnings.warn(\n",
      "/home/ubuntu/.local/lib/python3.8/site-packages/sklearn/base.py:441: UserWarning: X does not have valid feature names, but StandardScaler was fitted with feature names\n",
      "  warnings.warn(\n",
      "/home/ubuntu/.local/lib/python3.8/site-packages/sklearn/base.py:441: UserWarning: X does not have valid feature names, but StandardScaler was fitted with feature names\n",
      "  warnings.warn(\n",
      "/home/ubuntu/.local/lib/python3.8/site-packages/sklearn/base.py:441: UserWarning: X does not have valid feature names, but StandardScaler was fitted with feature names\n",
      "  warnings.warn(\n"
     ]
    },
    {
     "name": "stdout",
     "output_type": "stream",
     "text": [
      "Open\n",
      "Open\n",
      "Open\n",
      "Open\n"
     ]
    },
    {
     "name": "stderr",
     "output_type": "stream",
     "text": [
      "/home/ubuntu/.local/lib/python3.8/site-packages/sklearn/base.py:441: UserWarning: X does not have valid feature names, but StandardScaler was fitted with feature names\n",
      "  warnings.warn(\n",
      "/home/ubuntu/.local/lib/python3.8/site-packages/sklearn/base.py:441: UserWarning: X does not have valid feature names, but StandardScaler was fitted with feature names\n",
      "  warnings.warn(\n",
      "/home/ubuntu/.local/lib/python3.8/site-packages/sklearn/base.py:441: UserWarning: X does not have valid feature names, but StandardScaler was fitted with feature names\n",
      "  warnings.warn(\n",
      "/home/ubuntu/.local/lib/python3.8/site-packages/sklearn/base.py:441: UserWarning: X does not have valid feature names, but StandardScaler was fitted with feature names\n",
      "  warnings.warn(\n"
     ]
    },
    {
     "name": "stdout",
     "output_type": "stream",
     "text": [
      "Open\n",
      "Open\n",
      "Open\n",
      "Open\n"
     ]
    },
    {
     "name": "stderr",
     "output_type": "stream",
     "text": [
      "/home/ubuntu/.local/lib/python3.8/site-packages/sklearn/base.py:441: UserWarning: X does not have valid feature names, but StandardScaler was fitted with feature names\n",
      "  warnings.warn(\n",
      "/home/ubuntu/.local/lib/python3.8/site-packages/sklearn/base.py:441: UserWarning: X does not have valid feature names, but StandardScaler was fitted with feature names\n",
      "  warnings.warn(\n",
      "/home/ubuntu/.local/lib/python3.8/site-packages/sklearn/base.py:441: UserWarning: X does not have valid feature names, but StandardScaler was fitted with feature names\n",
      "  warnings.warn(\n",
      "/home/ubuntu/.local/lib/python3.8/site-packages/sklearn/base.py:441: UserWarning: X does not have valid feature names, but StandardScaler was fitted with feature names\n",
      "  warnings.warn(\n"
     ]
    },
    {
     "name": "stdout",
     "output_type": "stream",
     "text": [
      "Open\n",
      "Open\n",
      "Open\n",
      "Open\n"
     ]
    },
    {
     "name": "stderr",
     "output_type": "stream",
     "text": [
      "/home/ubuntu/.local/lib/python3.8/site-packages/sklearn/base.py:441: UserWarning: X does not have valid feature names, but StandardScaler was fitted with feature names\n",
      "  warnings.warn(\n",
      "/home/ubuntu/.local/lib/python3.8/site-packages/sklearn/base.py:441: UserWarning: X does not have valid feature names, but StandardScaler was fitted with feature names\n",
      "  warnings.warn(\n",
      "/home/ubuntu/.local/lib/python3.8/site-packages/sklearn/base.py:441: UserWarning: X does not have valid feature names, but StandardScaler was fitted with feature names\n",
      "  warnings.warn(\n",
      "/home/ubuntu/.local/lib/python3.8/site-packages/sklearn/base.py:441: UserWarning: X does not have valid feature names, but StandardScaler was fitted with feature names\n",
      "  warnings.warn(\n"
     ]
    },
    {
     "name": "stdout",
     "output_type": "stream",
     "text": [
      "Open\n",
      "Open\n",
      "Open\n",
      "Open\n"
     ]
    },
    {
     "name": "stderr",
     "output_type": "stream",
     "text": [
      "/home/ubuntu/.local/lib/python3.8/site-packages/sklearn/base.py:441: UserWarning: X does not have valid feature names, but StandardScaler was fitted with feature names\n",
      "  warnings.warn(\n",
      "/home/ubuntu/.local/lib/python3.8/site-packages/sklearn/base.py:441: UserWarning: X does not have valid feature names, but StandardScaler was fitted with feature names\n",
      "  warnings.warn(\n",
      "/home/ubuntu/.local/lib/python3.8/site-packages/sklearn/base.py:441: UserWarning: X does not have valid feature names, but StandardScaler was fitted with feature names\n",
      "  warnings.warn(\n",
      "/home/ubuntu/.local/lib/python3.8/site-packages/sklearn/base.py:441: UserWarning: X does not have valid feature names, but StandardScaler was fitted with feature names\n",
      "  warnings.warn(\n"
     ]
    },
    {
     "name": "stdout",
     "output_type": "stream",
     "text": [
      "Open\n",
      "Open\n",
      "Open\n",
      "Open\n"
     ]
    },
    {
     "name": "stderr",
     "output_type": "stream",
     "text": [
      "/home/ubuntu/.local/lib/python3.8/site-packages/sklearn/base.py:441: UserWarning: X does not have valid feature names, but StandardScaler was fitted with feature names\n",
      "  warnings.warn(\n",
      "/home/ubuntu/.local/lib/python3.8/site-packages/sklearn/base.py:441: UserWarning: X does not have valid feature names, but StandardScaler was fitted with feature names\n",
      "  warnings.warn(\n",
      "/home/ubuntu/.local/lib/python3.8/site-packages/sklearn/base.py:441: UserWarning: X does not have valid feature names, but StandardScaler was fitted with feature names\n",
      "  warnings.warn(\n",
      "/home/ubuntu/.local/lib/python3.8/site-packages/sklearn/base.py:441: UserWarning: X does not have valid feature names, but StandardScaler was fitted with feature names\n",
      "  warnings.warn(\n"
     ]
    },
    {
     "name": "stdout",
     "output_type": "stream",
     "text": [
      "Open\n",
      "Open\n",
      "Open\n",
      "Open\n"
     ]
    },
    {
     "name": "stderr",
     "output_type": "stream",
     "text": [
      "/home/ubuntu/.local/lib/python3.8/site-packages/sklearn/base.py:441: UserWarning: X does not have valid feature names, but StandardScaler was fitted with feature names\n",
      "  warnings.warn(\n",
      "/home/ubuntu/.local/lib/python3.8/site-packages/sklearn/base.py:441: UserWarning: X does not have valid feature names, but StandardScaler was fitted with feature names\n",
      "  warnings.warn(\n",
      "/home/ubuntu/.local/lib/python3.8/site-packages/sklearn/base.py:441: UserWarning: X does not have valid feature names, but StandardScaler was fitted with feature names\n",
      "  warnings.warn(\n",
      "/home/ubuntu/.local/lib/python3.8/site-packages/sklearn/base.py:441: UserWarning: X does not have valid feature names, but StandardScaler was fitted with feature names\n",
      "  warnings.warn(\n"
     ]
    },
    {
     "name": "stdout",
     "output_type": "stream",
     "text": [
      "Open\n",
      "Open\n",
      "Open\n",
      "Open\n"
     ]
    },
    {
     "name": "stderr",
     "output_type": "stream",
     "text": [
      "/home/ubuntu/.local/lib/python3.8/site-packages/sklearn/base.py:441: UserWarning: X does not have valid feature names, but StandardScaler was fitted with feature names\n",
      "  warnings.warn(\n",
      "/home/ubuntu/.local/lib/python3.8/site-packages/sklearn/base.py:441: UserWarning: X does not have valid feature names, but StandardScaler was fitted with feature names\n",
      "  warnings.warn(\n",
      "/home/ubuntu/.local/lib/python3.8/site-packages/sklearn/base.py:441: UserWarning: X does not have valid feature names, but StandardScaler was fitted with feature names\n",
      "  warnings.warn(\n",
      "/home/ubuntu/.local/lib/python3.8/site-packages/sklearn/base.py:441: UserWarning: X does not have valid feature names, but StandardScaler was fitted with feature names\n",
      "  warnings.warn(\n"
     ]
    },
    {
     "name": "stdout",
     "output_type": "stream",
     "text": [
      "Open\n",
      "Open\n",
      "Open\n",
      "Open\n"
     ]
    },
    {
     "name": "stderr",
     "output_type": "stream",
     "text": [
      "/home/ubuntu/.local/lib/python3.8/site-packages/sklearn/base.py:441: UserWarning: X does not have valid feature names, but StandardScaler was fitted with feature names\n",
      "  warnings.warn(\n",
      "/home/ubuntu/.local/lib/python3.8/site-packages/sklearn/base.py:441: UserWarning: X does not have valid feature names, but StandardScaler was fitted with feature names\n",
      "  warnings.warn(\n",
      "/home/ubuntu/.local/lib/python3.8/site-packages/sklearn/base.py:441: UserWarning: X does not have valid feature names, but StandardScaler was fitted with feature names\n",
      "  warnings.warn(\n",
      "/home/ubuntu/.local/lib/python3.8/site-packages/sklearn/base.py:441: UserWarning: X does not have valid feature names, but StandardScaler was fitted with feature names\n",
      "  warnings.warn(\n"
     ]
    },
    {
     "name": "stdout",
     "output_type": "stream",
     "text": [
      "Open\n",
      "Open\n",
      "Open\n",
      "Open\n"
     ]
    },
    {
     "name": "stderr",
     "output_type": "stream",
     "text": [
      "/home/ubuntu/.local/lib/python3.8/site-packages/sklearn/base.py:441: UserWarning: X does not have valid feature names, but StandardScaler was fitted with feature names\n",
      "  warnings.warn(\n",
      "/home/ubuntu/.local/lib/python3.8/site-packages/sklearn/base.py:441: UserWarning: X does not have valid feature names, but StandardScaler was fitted with feature names\n",
      "  warnings.warn(\n",
      "/home/ubuntu/.local/lib/python3.8/site-packages/sklearn/base.py:441: UserWarning: X does not have valid feature names, but StandardScaler was fitted with feature names\n",
      "  warnings.warn(\n",
      "/home/ubuntu/.local/lib/python3.8/site-packages/sklearn/base.py:441: UserWarning: X does not have valid feature names, but StandardScaler was fitted with feature names\n",
      "  warnings.warn(\n"
     ]
    },
    {
     "name": "stdout",
     "output_type": "stream",
     "text": [
      "Open\n",
      "Open\n",
      "Open\n",
      "Open\n"
     ]
    },
    {
     "name": "stderr",
     "output_type": "stream",
     "text": [
      "/home/ubuntu/.local/lib/python3.8/site-packages/sklearn/base.py:441: UserWarning: X does not have valid feature names, but StandardScaler was fitted with feature names\n",
      "  warnings.warn(\n",
      "/home/ubuntu/.local/lib/python3.8/site-packages/sklearn/base.py:441: UserWarning: X does not have valid feature names, but StandardScaler was fitted with feature names\n",
      "  warnings.warn(\n",
      "/home/ubuntu/.local/lib/python3.8/site-packages/sklearn/base.py:441: UserWarning: X does not have valid feature names, but StandardScaler was fitted with feature names\n",
      "  warnings.warn(\n",
      "/home/ubuntu/.local/lib/python3.8/site-packages/sklearn/base.py:441: UserWarning: X does not have valid feature names, but StandardScaler was fitted with feature names\n",
      "  warnings.warn(\n"
     ]
    },
    {
     "name": "stdout",
     "output_type": "stream",
     "text": [
      "Open\n",
      "Open\n",
      "Open\n",
      "Open\n"
     ]
    },
    {
     "name": "stderr",
     "output_type": "stream",
     "text": [
      "/home/ubuntu/.local/lib/python3.8/site-packages/sklearn/base.py:441: UserWarning: X does not have valid feature names, but StandardScaler was fitted with feature names\n",
      "  warnings.warn(\n",
      "/home/ubuntu/.local/lib/python3.8/site-packages/sklearn/base.py:441: UserWarning: X does not have valid feature names, but StandardScaler was fitted with feature names\n",
      "  warnings.warn(\n",
      "/home/ubuntu/.local/lib/python3.8/site-packages/sklearn/base.py:441: UserWarning: X does not have valid feature names, but StandardScaler was fitted with feature names\n",
      "  warnings.warn(\n",
      "/home/ubuntu/.local/lib/python3.8/site-packages/sklearn/base.py:441: UserWarning: X does not have valid feature names, but StandardScaler was fitted with feature names\n",
      "  warnings.warn(\n"
     ]
    },
    {
     "name": "stdout",
     "output_type": "stream",
     "text": [
      "Open\n",
      "Open\n",
      "Open\n",
      "Open\n"
     ]
    },
    {
     "name": "stderr",
     "output_type": "stream",
     "text": [
      "/home/ubuntu/.local/lib/python3.8/site-packages/sklearn/base.py:441: UserWarning: X does not have valid feature names, but StandardScaler was fitted with feature names\n",
      "  warnings.warn(\n",
      "/home/ubuntu/.local/lib/python3.8/site-packages/sklearn/base.py:441: UserWarning: X does not have valid feature names, but StandardScaler was fitted with feature names\n",
      "  warnings.warn(\n",
      "/home/ubuntu/.local/lib/python3.8/site-packages/sklearn/base.py:441: UserWarning: X does not have valid feature names, but StandardScaler was fitted with feature names\n",
      "  warnings.warn(\n",
      "/home/ubuntu/.local/lib/python3.8/site-packages/sklearn/base.py:441: UserWarning: X does not have valid feature names, but StandardScaler was fitted with feature names\n",
      "  warnings.warn(\n"
     ]
    },
    {
     "name": "stdout",
     "output_type": "stream",
     "text": [
      "Open\n",
      "Open\n",
      "Open\n",
      "Open\n"
     ]
    },
    {
     "name": "stderr",
     "output_type": "stream",
     "text": [
      "/home/ubuntu/.local/lib/python3.8/site-packages/sklearn/base.py:441: UserWarning: X does not have valid feature names, but StandardScaler was fitted with feature names\n",
      "  warnings.warn(\n",
      "/home/ubuntu/.local/lib/python3.8/site-packages/sklearn/base.py:441: UserWarning: X does not have valid feature names, but StandardScaler was fitted with feature names\n",
      "  warnings.warn(\n",
      "/home/ubuntu/.local/lib/python3.8/site-packages/sklearn/base.py:441: UserWarning: X does not have valid feature names, but StandardScaler was fitted with feature names\n",
      "  warnings.warn(\n",
      "/home/ubuntu/.local/lib/python3.8/site-packages/sklearn/base.py:441: UserWarning: X does not have valid feature names, but StandardScaler was fitted with feature names\n",
      "  warnings.warn(\n"
     ]
    },
    {
     "name": "stdout",
     "output_type": "stream",
     "text": [
      "Open\n",
      "Open\n",
      "Open\n",
      "Open\n"
     ]
    },
    {
     "name": "stderr",
     "output_type": "stream",
     "text": [
      "/home/ubuntu/.local/lib/python3.8/site-packages/sklearn/base.py:441: UserWarning: X does not have valid feature names, but StandardScaler was fitted with feature names\n",
      "  warnings.warn(\n",
      "/home/ubuntu/.local/lib/python3.8/site-packages/sklearn/base.py:441: UserWarning: X does not have valid feature names, but StandardScaler was fitted with feature names\n",
      "  warnings.warn(\n",
      "/home/ubuntu/.local/lib/python3.8/site-packages/sklearn/base.py:441: UserWarning: X does not have valid feature names, but StandardScaler was fitted with feature names\n",
      "  warnings.warn(\n",
      "/home/ubuntu/.local/lib/python3.8/site-packages/sklearn/base.py:441: UserWarning: X does not have valid feature names, but StandardScaler was fitted with feature names\n",
      "  warnings.warn(\n"
     ]
    },
    {
     "name": "stdout",
     "output_type": "stream",
     "text": [
      "Open\n",
      "Open\n",
      "Open\n",
      "Open\n"
     ]
    },
    {
     "name": "stderr",
     "output_type": "stream",
     "text": [
      "/home/ubuntu/.local/lib/python3.8/site-packages/sklearn/base.py:441: UserWarning: X does not have valid feature names, but StandardScaler was fitted with feature names\n",
      "  warnings.warn(\n",
      "/home/ubuntu/.local/lib/python3.8/site-packages/sklearn/base.py:441: UserWarning: X does not have valid feature names, but StandardScaler was fitted with feature names\n",
      "  warnings.warn(\n",
      "/home/ubuntu/.local/lib/python3.8/site-packages/sklearn/base.py:441: UserWarning: X does not have valid feature names, but StandardScaler was fitted with feature names\n",
      "  warnings.warn(\n",
      "/home/ubuntu/.local/lib/python3.8/site-packages/sklearn/base.py:441: UserWarning: X does not have valid feature names, but StandardScaler was fitted with feature names\n",
      "  warnings.warn(\n"
     ]
    },
    {
     "name": "stdout",
     "output_type": "stream",
     "text": [
      "Open\n",
      "Open\n",
      "Open\n",
      "Open\n"
     ]
    },
    {
     "name": "stderr",
     "output_type": "stream",
     "text": [
      "/home/ubuntu/.local/lib/python3.8/site-packages/sklearn/base.py:441: UserWarning: X does not have valid feature names, but StandardScaler was fitted with feature names\n",
      "  warnings.warn(\n",
      "/home/ubuntu/.local/lib/python3.8/site-packages/sklearn/base.py:441: UserWarning: X does not have valid feature names, but StandardScaler was fitted with feature names\n",
      "  warnings.warn(\n",
      "/home/ubuntu/.local/lib/python3.8/site-packages/sklearn/base.py:441: UserWarning: X does not have valid feature names, but StandardScaler was fitted with feature names\n",
      "  warnings.warn(\n",
      "/home/ubuntu/.local/lib/python3.8/site-packages/sklearn/base.py:441: UserWarning: X does not have valid feature names, but StandardScaler was fitted with feature names\n",
      "  warnings.warn(\n"
     ]
    },
    {
     "name": "stdout",
     "output_type": "stream",
     "text": [
      "Open\n",
      "Open\n",
      "Open\n",
      "Open\n"
     ]
    },
    {
     "name": "stderr",
     "output_type": "stream",
     "text": [
      "/home/ubuntu/.local/lib/python3.8/site-packages/sklearn/base.py:441: UserWarning: X does not have valid feature names, but StandardScaler was fitted with feature names\n",
      "  warnings.warn(\n",
      "/home/ubuntu/.local/lib/python3.8/site-packages/sklearn/base.py:441: UserWarning: X does not have valid feature names, but StandardScaler was fitted with feature names\n",
      "  warnings.warn(\n",
      "/home/ubuntu/.local/lib/python3.8/site-packages/sklearn/base.py:441: UserWarning: X does not have valid feature names, but StandardScaler was fitted with feature names\n",
      "  warnings.warn(\n",
      "/home/ubuntu/.local/lib/python3.8/site-packages/sklearn/base.py:441: UserWarning: X does not have valid feature names, but StandardScaler was fitted with feature names\n",
      "  warnings.warn(\n"
     ]
    },
    {
     "name": "stdout",
     "output_type": "stream",
     "text": [
      "Open\n",
      "Open\n",
      "Open\n",
      "Open\n"
     ]
    },
    {
     "name": "stderr",
     "output_type": "stream",
     "text": [
      "/home/ubuntu/.local/lib/python3.8/site-packages/sklearn/base.py:441: UserWarning: X does not have valid feature names, but StandardScaler was fitted with feature names\n",
      "  warnings.warn(\n",
      "/home/ubuntu/.local/lib/python3.8/site-packages/sklearn/base.py:441: UserWarning: X does not have valid feature names, but StandardScaler was fitted with feature names\n",
      "  warnings.warn(\n",
      "/home/ubuntu/.local/lib/python3.8/site-packages/sklearn/base.py:441: UserWarning: X does not have valid feature names, but StandardScaler was fitted with feature names\n",
      "  warnings.warn(\n",
      "/home/ubuntu/.local/lib/python3.8/site-packages/sklearn/base.py:441: UserWarning: X does not have valid feature names, but StandardScaler was fitted with feature names\n",
      "  warnings.warn(\n"
     ]
    },
    {
     "name": "stdout",
     "output_type": "stream",
     "text": [
      "Open\n",
      "Open\n",
      "Open\n",
      "Open\n"
     ]
    },
    {
     "name": "stderr",
     "output_type": "stream",
     "text": [
      "/home/ubuntu/.local/lib/python3.8/site-packages/sklearn/base.py:441: UserWarning: X does not have valid feature names, but StandardScaler was fitted with feature names\n",
      "  warnings.warn(\n",
      "/home/ubuntu/.local/lib/python3.8/site-packages/sklearn/base.py:441: UserWarning: X does not have valid feature names, but StandardScaler was fitted with feature names\n",
      "  warnings.warn(\n",
      "/home/ubuntu/.local/lib/python3.8/site-packages/sklearn/base.py:441: UserWarning: X does not have valid feature names, but StandardScaler was fitted with feature names\n",
      "  warnings.warn(\n",
      "/home/ubuntu/.local/lib/python3.8/site-packages/sklearn/base.py:441: UserWarning: X does not have valid feature names, but StandardScaler was fitted with feature names\n",
      "  warnings.warn(\n"
     ]
    },
    {
     "name": "stdout",
     "output_type": "stream",
     "text": [
      "Open\n",
      "Open\n",
      "Open\n",
      "Open\n"
     ]
    },
    {
     "name": "stderr",
     "output_type": "stream",
     "text": [
      "/home/ubuntu/.local/lib/python3.8/site-packages/sklearn/base.py:441: UserWarning: X does not have valid feature names, but StandardScaler was fitted with feature names\n",
      "  warnings.warn(\n",
      "/home/ubuntu/.local/lib/python3.8/site-packages/sklearn/base.py:441: UserWarning: X does not have valid feature names, but StandardScaler was fitted with feature names\n",
      "  warnings.warn(\n",
      "/home/ubuntu/.local/lib/python3.8/site-packages/sklearn/base.py:441: UserWarning: X does not have valid feature names, but StandardScaler was fitted with feature names\n",
      "  warnings.warn(\n",
      "/home/ubuntu/.local/lib/python3.8/site-packages/sklearn/base.py:441: UserWarning: X does not have valid feature names, but StandardScaler was fitted with feature names\n",
      "  warnings.warn(\n"
     ]
    },
    {
     "name": "stdout",
     "output_type": "stream",
     "text": [
      "Open\n",
      "Open\n",
      "Open\n",
      "Open\n"
     ]
    },
    {
     "name": "stderr",
     "output_type": "stream",
     "text": [
      "/home/ubuntu/.local/lib/python3.8/site-packages/sklearn/base.py:441: UserWarning: X does not have valid feature names, but StandardScaler was fitted with feature names\n",
      "  warnings.warn(\n",
      "/home/ubuntu/.local/lib/python3.8/site-packages/sklearn/base.py:441: UserWarning: X does not have valid feature names, but StandardScaler was fitted with feature names\n",
      "  warnings.warn(\n",
      "/home/ubuntu/.local/lib/python3.8/site-packages/sklearn/base.py:441: UserWarning: X does not have valid feature names, but StandardScaler was fitted with feature names\n",
      "  warnings.warn(\n",
      "/home/ubuntu/.local/lib/python3.8/site-packages/sklearn/base.py:441: UserWarning: X does not have valid feature names, but StandardScaler was fitted with feature names\n",
      "  warnings.warn(\n"
     ]
    },
    {
     "name": "stdout",
     "output_type": "stream",
     "text": [
      "Open\n",
      "Open\n",
      "Open\n",
      "Open\n"
     ]
    },
    {
     "name": "stderr",
     "output_type": "stream",
     "text": [
      "/home/ubuntu/.local/lib/python3.8/site-packages/sklearn/base.py:441: UserWarning: X does not have valid feature names, but StandardScaler was fitted with feature names\n",
      "  warnings.warn(\n",
      "/home/ubuntu/.local/lib/python3.8/site-packages/sklearn/base.py:441: UserWarning: X does not have valid feature names, but StandardScaler was fitted with feature names\n",
      "  warnings.warn(\n",
      "/home/ubuntu/.local/lib/python3.8/site-packages/sklearn/base.py:441: UserWarning: X does not have valid feature names, but StandardScaler was fitted with feature names\n",
      "  warnings.warn(\n",
      "/home/ubuntu/.local/lib/python3.8/site-packages/sklearn/base.py:441: UserWarning: X does not have valid feature names, but StandardScaler was fitted with feature names\n",
      "  warnings.warn(\n"
     ]
    },
    {
     "name": "stdout",
     "output_type": "stream",
     "text": [
      "Open\n",
      "Open\n",
      "Open\n",
      "Open\n"
     ]
    },
    {
     "name": "stderr",
     "output_type": "stream",
     "text": [
      "/home/ubuntu/.local/lib/python3.8/site-packages/sklearn/base.py:441: UserWarning: X does not have valid feature names, but StandardScaler was fitted with feature names\n",
      "  warnings.warn(\n",
      "/home/ubuntu/.local/lib/python3.8/site-packages/sklearn/base.py:441: UserWarning: X does not have valid feature names, but StandardScaler was fitted with feature names\n",
      "  warnings.warn(\n",
      "/home/ubuntu/.local/lib/python3.8/site-packages/sklearn/base.py:441: UserWarning: X does not have valid feature names, but StandardScaler was fitted with feature names\n",
      "  warnings.warn(\n",
      "/home/ubuntu/.local/lib/python3.8/site-packages/sklearn/base.py:441: UserWarning: X does not have valid feature names, but StandardScaler was fitted with feature names\n",
      "  warnings.warn(\n"
     ]
    },
    {
     "name": "stdout",
     "output_type": "stream",
     "text": [
      "Open\n",
      "Open\n",
      "Fist\n",
      "Fist\n"
     ]
    },
    {
     "name": "stderr",
     "output_type": "stream",
     "text": [
      "/home/ubuntu/.local/lib/python3.8/site-packages/sklearn/base.py:441: UserWarning: X does not have valid feature names, but StandardScaler was fitted with feature names\n",
      "  warnings.warn(\n"
     ]
    },
    {
     "name": "stdout",
     "output_type": "stream",
     "text": [
      "Peace\n",
      "(480, 640, 3)\n"
     ]
    }
   ],
   "source": [
    "cap = cv2.VideoCapture(0)\n",
    "\n",
    "detections = 0\n",
    "with mp_hands.Hands(min_detection_confidence=0.8, min_tracking_confidence=0.5) as hands:\n",
    "    while cap.isOpened():\n",
    "        ret, frame = cap.read()\n",
    "        \n",
    "        #BGR to RGB\n",
    "        image = cv2.cvtColor(frame, cv2.COLOR_BGR2RGB)\n",
    "        \n",
    "        #Flip horizontal\n",
    "        image = cv2.flip(image, 1)\n",
    "        \n",
    "        #Set flag\n",
    "        image.flags.writeable = False\n",
    "        \n",
    "        #Detections\n",
    "        results = hands.process(image)\n",
    "        \n",
    "        #Set flag back to True\n",
    "        image.flags.writeable = True\n",
    "        \n",
    "        #RGB to BGR\n",
    "        image = cv2.cvtColor(image, cv2.COLOR_RGB2BGR)\n",
    "        \n",
    "        #print(results)\n",
    "        \n",
    "        #Rendering results\n",
    "        if results.multi_hand_landmarks:\n",
    "            for num, hand in enumerate(results.multi_hand_landmarks):\n",
    "                mp_drawing.draw_landmarks(image, hand, mp_hands.HAND_CONNECTIONS, \n",
    "                                         mp_drawing.DrawingSpec(color=(0,255,0), thickness=2, circle_radius=4), \n",
    "                                         mp_drawing.DrawingSpec(color=(0,0,255), thickness=2, circle_radius=4))\n",
    "                \n",
    "        try:\n",
    "            hand_landmarks = results.multi_hand_landmarks[0].landmark\n",
    "            hand_landmarks_row = list(np.array([[landmark.x, landmark.y, landmark.z] for landmark in hand_landmarks]).flatten())\n",
    "            #hand_landmarks_row.insert(0, class_name)\n",
    "            \n",
    "            #with open('coords.csv', mode='a', newline='') as f:\n",
    "                #csv_writer = csv.writer(f, delimiter=',', quotechar='\"', quoting=csv.QUOTE_MINIMAL)\n",
    "                #csv_writer.writerow(hand_landmarks_row)\n",
    "                #detections += 1\n",
    "                \n",
    "            #Make Detections\n",
    "            x = pd.DataFrame([hand_landmarks_row])\n",
    "            #print(x)\n",
    "            gesture_class = model.predict(x)[0]\n",
    "            #gesture_prob = model.predict_proba(x)[0]\n",
    "            print(gesture_class)\n",
    "            \n",
    "         \n",
    "            \n",
    "            cv2.putText(image, gesture_class, (10,20), cv2.FONT_HERSHEY_SIMPLEX, 1, (255,255,255), 2, cv2.LINE_AA)\n",
    "        except:\n",
    "            pass\n",
    "        \n",
    "        if detections == 500:\n",
    "            break\n",
    "\n",
    "        #image = cv2.flip(image, 0)\n",
    "        cv2.imshow(\"Hand Tracking\", image)\n",
    "\n",
    "        if cv2.waitKey(10) & 0xFF == ord('q'):\n",
    "            break\n",
    "    print(image.shape)\n",
    "\n",
    "    cap.release()\n",
    "    cv2.destroyAllWindows()"
   ]
  },
  {
   "cell_type": "code",
   "execution_count": null,
   "id": "160a1b10",
   "metadata": {},
   "outputs": [],
   "source": []
  }
 ],
 "metadata": {
  "kernelspec": {
   "display_name": "Python 3 (ipykernel)",
   "language": "python",
   "name": "python3"
  },
  "language_info": {
   "codemirror_mode": {
    "name": "ipython",
    "version": 3
   },
   "file_extension": ".py",
   "mimetype": "text/x-python",
   "name": "python",
   "nbconvert_exporter": "python",
   "pygments_lexer": "ipython3",
   "version": "3.8.10"
  }
 },
 "nbformat": 4,
 "nbformat_minor": 5
}
