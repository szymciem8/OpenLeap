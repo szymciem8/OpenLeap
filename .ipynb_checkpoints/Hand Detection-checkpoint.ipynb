{
 "cells": [
  {
   "cell_type": "code",
   "execution_count": 3,
   "id": "62c72f38",
   "metadata": {
    "collapsed": true
   },
   "outputs": [
    {
     "name": "stdout",
     "output_type": "stream",
     "text": [
      "Defaulting to user installation because normal site-packages is not writeable"
     ]
    },
    {
     "name": "stderr",
     "output_type": "stream",
     "text": [
      "WARNING: You are using pip version 21.2.3; however, version 21.2.4 is available."
     ]
    },
    {
     "name": "stdout",
     "output_type": "stream",
     "text": [
      "\n",
      "Requirement already satisfied: mediapipe in c:\\users\\szymon\\appdata\\roaming\\python\\python39\\site-packages (0.8.7.3)\n",
      "Requirement already satisfied: opencv-python in c:\\users\\szymon\\appdata\\roaming\\python\\python39\\site-packages (4.5.3.56)\n",
      "Requirement already satisfied: opencv-contrib-python in c:\\users\\szymon\\appdata\\roaming\\python\\python39\\site-packages (from mediapipe) (4.5.3.56)\n",
      "Requirement already satisfied: matplotlib in c:\\users\\szymon\\appdata\\roaming\\python\\python39\\site-packages (from mediapipe) (3.4.3)\n",
      "Requirement already satisfied: protobuf>=3.11.4 in c:\\users\\szymon\\appdata\\roaming\\python\\python39\\site-packages (from mediapipe) (3.18.0)\n",
      "Requirement already satisfied: attrs>=19.1.0 in c:\\users\\szymon\\appdata\\roaming\\python\\python39\\site-packages (from mediapipe) (21.2.0)\n",
      "Requirement already satisfied: wheel in c:\\users\\szymon\\appdata\\roaming\\python\\python39\\site-packages (from mediapipe) (0.37.0)\n",
      "Requirement already satisfied: numpy in c:\\users\\szymon\\appdata\\roaming\\python\\python39\\site-packages (from mediapipe) (1.21.2)\n",
      "Requirement already satisfied: absl-py in c:\\users\\szymon\\appdata\\roaming\\python\\python39\\site-packages (from mediapipe) (0.14.0)\n",
      "Requirement already satisfied: six in c:\\users\\szymon\\appdata\\roaming\\python\\python39\\site-packages (from mediapipe) (1.16.0)\n",
      "Requirement already satisfied: python-dateutil>=2.7 in c:\\users\\szymon\\appdata\\roaming\\python\\python39\\site-packages (from matplotlib->mediapipe) (2.8.2)\n",
      "Requirement already satisfied: cycler>=0.10 in c:\\users\\szymon\\appdata\\roaming\\python\\python39\\site-packages (from matplotlib->mediapipe) (0.10.0)\n",
      "Requirement already satisfied: kiwisolver>=1.0.1 in c:\\users\\szymon\\appdata\\roaming\\python\\python39\\site-packages (from matplotlib->mediapipe) (1.3.2)\n",
      "Requirement already satisfied: pillow>=6.2.0 in c:\\users\\szymon\\appdata\\roaming\\python\\python39\\site-packages (from matplotlib->mediapipe) (8.3.2)\n",
      "Requirement already satisfied: pyparsing>=2.2.1 in c:\\users\\szymon\\appdata\\roaming\\python\\python39\\site-packages (from matplotlib->mediapipe) (2.4.7)\n"
     ]
    },
    {
     "name": "stderr",
     "output_type": "stream",
     "text": [
      "\n",
      "You should consider upgrading via the 'C:\\Program Files\\Python39\\python.exe -m pip install --upgrade pip' command.\n"
     ]
    }
   ],
   "source": [
    "!pip install mediapipe opencv-python"
   ]
  },
  {
   "cell_type": "code",
   "execution_count": 2,
   "id": "33d5808f",
   "metadata": {},
   "outputs": [],
   "source": [
    "import mediapipe as mp\n",
    "import cv2\n",
    "import numpy as np\n",
    "import uuid\n",
    "import os"
   ]
  },
  {
   "cell_type": "code",
   "execution_count": 3,
   "id": "3c46d7f7",
   "metadata": {},
   "outputs": [],
   "source": [
    "mp_drawing = mp.solutions.drawing_utils\n",
    "mp_hands = mp.solutions.hands"
   ]
  },
  {
   "cell_type": "markdown",
   "id": "f9665cad",
   "metadata": {},
   "source": [
    "# 2. Draw Hands\n",
    "<img src=https://i.imgur.com/qpRACer.png />"
   ]
  },
  {
   "cell_type": "code",
   "execution_count": 4,
   "id": "f7afdaca",
   "metadata": {},
   "outputs": [
    {
     "name": "stdout",
     "output_type": "stream",
     "text": [
      "(480, 640, 3)\n"
     ]
    }
   ],
   "source": [
    "cap = cv2.VideoCapture(0)\n",
    "\n",
    "with mp_hands.Hands(min_detection_confidence=0.8, min_tracking_confidence=0.5) as hands:\n",
    "    while cap.isOpened():\n",
    "        ret, frame = cap.read()\n",
    "        \n",
    "        #BGR to RGB\n",
    "        image = cv2.cvtColor(frame, cv2.COLOR_BGR2RGB)\n",
    "        \n",
    "        #Flip horizontal\n",
    "        image = cv2.flip(image, 1)\n",
    "        \n",
    "        #Set flag\n",
    "        image.flags.writeable = False\n",
    "        \n",
    "        #Detections\n",
    "        results = hands.process(image)\n",
    "        \n",
    "        #Set flag back to True\n",
    "        image.flags.writeable = True\n",
    "        \n",
    "        #RGB to BGR\n",
    "        image = cv2.cvtColor(image, cv2.COLOR_RGB2BGR)\n",
    "        \n",
    "        #print(results)\n",
    "        \n",
    "        #Rendering results\n",
    "        if results.multi_hand_landmarks:\n",
    "            for num, hand in enumerate(results.multi_hand_landmarks):\n",
    "                mp_drawing.draw_landmarks(image, hand, mp_hands.HAND_CONNECTIONS, \n",
    "                                         mp_drawing.DrawingSpec(color=(0,255,0), thickness=2, circle_radius=4), \n",
    "                                         mp_drawing.DrawingSpec(color=(0,0,255), thickness=2, circle_radius=4))\n",
    "\n",
    "        #image = cv2.flip(image, 0)\n",
    "        cv2.imshow(\"Hand Tracking\", image)\n",
    "\n",
    "        if cv2.waitKey(10) & 0xFF == ord('q'):\n",
    "            break\n",
    "    print(image.shape)\n",
    "\n",
    "    cap.release()\n",
    "    cv2.destroyAllWindows()"
   ]
  },
  {
   "cell_type": "code",
   "execution_count": 8,
   "id": "d35fc357",
   "metadata": {
    "collapsed": true
   },
   "outputs": [
    {
     "data": {
      "text/plain": [
       "landmark {\n",
       "  x: 0.7674967646598816\n",
       "  y: 0.715493381023407\n",
       "  z: 0.0\n",
       "}\n",
       "landmark {\n",
       "  x: 0.7056344151496887\n",
       "  y: 0.6646555662155151\n",
       "  z: -0.021259723231196404\n",
       "}\n",
       "landmark {\n",
       "  x: 0.6561721563339233\n",
       "  y: 0.5901217460632324\n",
       "  z: -0.04196333885192871\n",
       "}\n",
       "landmark {\n",
       "  x: 0.6193229556083679\n",
       "  y: 0.5278843641281128\n",
       "  z: -0.0658707395195961\n",
       "}\n",
       "landmark {\n",
       "  x: 0.5796563625335693\n",
       "  y: 0.4834507405757904\n",
       "  z: -0.0910552367568016\n",
       "}\n",
       "landmark {\n",
       "  x: 0.7116186022758484\n",
       "  y: 0.43809929490089417\n",
       "  z: -0.022518789395689964\n",
       "}\n",
       "landmark {\n",
       "  x: 0.6938372850418091\n",
       "  y: 0.3248358964920044\n",
       "  z: -0.05105402320623398\n",
       "}\n",
       "landmark {\n",
       "  x: 0.6871813535690308\n",
       "  y: 0.2531777024269104\n",
       "  z: -0.07303804904222488\n",
       "}\n",
       "landmark {\n",
       "  x: 0.6846256256103516\n",
       "  y: 0.19048205018043518\n",
       "  z: -0.08940228074789047\n",
       "}\n",
       "landmark {\n",
       "  x: 0.764238178730011\n",
       "  y: 0.4334039092063904\n",
       "  z: -0.039719242602586746\n",
       "}\n",
       "landmark {\n",
       "  x: 0.7705498337745667\n",
       "  y: 0.30895882844924927\n",
       "  z: -0.06552886962890625\n",
       "}\n",
       "landmark {\n",
       "  x: 0.7781181931495667\n",
       "  y: 0.23271510004997253\n",
       "  z: -0.08675182610750198\n",
       "}\n",
       "landmark {\n",
       "  x: 0.7878378629684448\n",
       "  y: 0.1689332127571106\n",
       "  z: -0.10411183536052704\n",
       "}\n",
       "landmark {\n",
       "  x: 0.8129209280014038\n",
       "  y: 0.4596215486526489\n",
       "  z: -0.061444517225027084\n",
       "}\n",
       "landmark {\n",
       "  x: 0.8357674479484558\n",
       "  y: 0.34738481044769287\n",
       "  z: -0.09224238246679306\n",
       "}\n",
       "landmark {\n",
       "  x: 0.8465487360954285\n",
       "  y: 0.27813076972961426\n",
       "  z: -0.11310814321041107\n",
       "}\n",
       "landmark {\n",
       "  x: 0.8535492420196533\n",
       "  y: 0.21913310885429382\n",
       "  z: -0.12778712809085846\n",
       "}\n",
       "landmark {\n",
       "  x: 0.858293354511261\n",
       "  y: 0.5108355283737183\n",
       "  z: -0.08617489784955978\n",
       "}\n",
       "landmark {\n",
       "  x: 0.9023135304450989\n",
       "  y: 0.4386202096939087\n",
       "  z: -0.11389683932065964\n",
       "}\n",
       "landmark {\n",
       "  x: 0.9313125610351562\n",
       "  y: 0.386798620223999\n",
       "  z: -0.12790042161941528\n",
       "}\n",
       "landmark {\n",
       "  x: 0.9541688561439514\n",
       "  y: 0.3386804163455963\n",
       "  z: -0.1378621757030487\n",
       "}"
      ]
     },
     "execution_count": 8,
     "metadata": {},
     "output_type": "execute_result"
    }
   ],
   "source": [
    "results.multi_hand_landmarks[0]"
   ]
  },
  {
   "cell_type": "markdown",
   "id": "16fb7533",
   "metadata": {},
   "source": [
    "# Detect Left and Right Hand"
   ]
  },
  {
   "cell_type": "code",
   "execution_count": 1,
   "id": "135be071",
   "metadata": {
    "scrolled": true
   },
   "outputs": [
    {
     "ename": "NameError",
     "evalue": "name 'results' is not defined",
     "output_type": "error",
     "traceback": [
      "\u001b[1;31m---------------------------------------------------------------------------\u001b[0m",
      "\u001b[1;31mNameError\u001b[0m                                 Traceback (most recent call last)",
      "\u001b[1;32m~\\AppData\\Local\\Temp/ipykernel_16180/590749335.py\u001b[0m in \u001b[0;36m<module>\u001b[1;34m\u001b[0m\n\u001b[1;32m----> 1\u001b[1;33m \u001b[0mresults\u001b[0m\u001b[1;33m.\u001b[0m\u001b[0mmulti_hand_landmarks\u001b[0m\u001b[1;33m[\u001b[0m\u001b[1;36m0\u001b[0m\u001b[1;33m]\u001b[0m\u001b[1;33m.\u001b[0m\u001b[0mlandmark\u001b[0m\u001b[1;33m[\u001b[0m\u001b[0mmp_hands\u001b[0m\u001b[1;33m.\u001b[0m\u001b[0mHandLandmark\u001b[0m\u001b[1;33m.\u001b[0m\u001b[0mWRIST\u001b[0m\u001b[1;33m]\u001b[0m\u001b[1;33m\u001b[0m\u001b[1;33m\u001b[0m\u001b[0m\n\u001b[0m",
      "\u001b[1;31mNameError\u001b[0m: name 'results' is not defined"
     ]
    }
   ],
   "source": [
    "results.multi_hand_landmarks[0].landmark[mp_hands.HandLandmark.WRIST]"
   ]
  },
  {
   "cell_type": "code",
   "execution_count": 10,
   "id": "bf24286f",
   "metadata": {},
   "outputs": [
    {
     "data": {
      "text/plain": [
       "index: 1\n",
       "score: 0.9254442453384399\n",
       "label: \"Right\""
      ]
     },
     "execution_count": 10,
     "metadata": {},
     "output_type": "execute_result"
    }
   ],
   "source": [
    "results.multi_handedness[0].classification[0]"
   ]
  },
  {
   "cell_type": "code",
   "execution_count": 3,
   "id": "5b39f572",
   "metadata": {},
   "outputs": [],
   "source": [
    "def get_label(index, hand, results):\n",
    "    output=None\n",
    "    for idx, classification in enumerate(results.multi_handedness):\n",
    "        if classification.classification[0].index == index:\n",
    "            \n",
    "            label = classification.classification[0].label\n",
    "            score = classification.classification[0].score\n",
    "            text = '{} {}'.format(label, round(score, 2))\n",
    "            \n",
    "            coords = tuple(np.multiply(\n",
    "                np.array((hand.landmark[mp_hands.HandLandmark.THUMB_TIP].x, hand.landmark[mp_hands.HandLandmark.THUMB_TIP].y)),\n",
    "                         [640, 480]).astype(int))\n",
    "            \n",
    "            output = text, coords\n",
    "        \n",
    "    return output"
   ]
  },
  {
   "cell_type": "code",
   "execution_count": 11,
   "id": "4f263ea1",
   "metadata": {},
   "outputs": [
    {
     "data": {
      "text/plain": [
       "('Left 0.97', (210, 121))"
      ]
     },
     "execution_count": 11,
     "metadata": {},
     "output_type": "execute_result"
    }
   ],
   "source": [
    "get_label(num, hand, results)"
   ]
  },
  {
   "cell_type": "code",
   "execution_count": 18,
   "id": "9245a8d0",
   "metadata": {},
   "outputs": [],
   "source": [
    "cap = cv2.VideoCapture(0)\n",
    "\n",
    "with mp_hands.Hands(min_detection_confidence=0.8, min_tracking_confidence=0.5) as hands:\n",
    "    while cap.isOpened():\n",
    "        ret, frame = cap.read()\n",
    "        \n",
    "        #BGR to RGB\n",
    "        image = cv2.cvtColor(frame, cv2.COLOR_BGR2RGB)\n",
    "        \n",
    "        #Flip horizontal\n",
    "        image = cv2.flip(image, 1)\n",
    "        \n",
    "        #Set flag\n",
    "        image.flags.writeable = False\n",
    "        \n",
    "        #Detections\n",
    "        results = hands.process(image)\n",
    "        \n",
    "        #Set flag back to True\n",
    "        image.flags.writeable = True\n",
    "        \n",
    "        #RGB to BGR\n",
    "        image = cv2.cvtColor(image, cv2.COLOR_RGB2BGR)\n",
    "        \n",
    "        #print(results)\n",
    "        \n",
    "        #Rendering results\n",
    "        if results.multi_hand_landmarks:\n",
    "            for num, hand in enumerate(results.multi_hand_landmarks):\n",
    "                mp_drawing.draw_landmarks(image, hand, mp_hands.HAND_CONNECTIONS, \n",
    "                                         mp_drawing.DrawingSpec(color=(0,255,0), thickness=2, circle_radius=4), \n",
    "                                         mp_drawing.DrawingSpec(color=(0,0,255), thickness=2, circle_radius=4))\n",
    "                \n",
    "                if get_label(num, hand, results):\n",
    "                    text, coord = get_label(num, hand, results)\n",
    "                    cv2.putText(image, text, coord, cv2.FONT_HERSHEY_SIMPLEX, 1, (255, 0, 0), 2, cv2.LINE_AA)\n",
    "\n",
    "        #image = cv2.flip(image, 0)\n",
    "        cv2.imshow(\"Hand Tracking\", image)\n",
    "\n",
    "        if cv2.waitKey(10) & 0xFF == ord('q'):\n",
    "            break\n",
    "\n",
    "    cap.release()\n",
    "    cv2.destroyAllWindows()"
   ]
  },
  {
   "cell_type": "markdown",
   "id": "93e3376b",
   "metadata": {},
   "source": [
    "# Line Between Fingers"
   ]
  },
  {
   "cell_type": "code",
   "execution_count": 23,
   "id": "0461c930",
   "metadata": {},
   "outputs": [
    {
     "data": {
      "text/plain": [
       "0.4825209379196167"
      ]
     },
     "execution_count": 23,
     "metadata": {},
     "output_type": "execute_result"
    }
   ],
   "source": [
    "x_index_finger = results.multi_hand_landmarks[0].landmark[mp_hands.HandLandmark.INDEX_FINGER_TIP].x\n",
    "y_index_finger = results.multi_hand_landmarks[0].landmark[mp_hands.HandLandmark.INDEX_FINGER_DIP].y\n",
    "\n",
    "x_thumb_finger = results.multi_hand_landmarks[0].landmark[mp_hands.HandLandmark.THUMB_TIP].x\n",
    "y_thumb_finger = results.multi_hand_landmarks[0].landmark[mp_hands.HandLandmark.THUMB_TIP].y"
   ]
  },
  {
   "cell_type": "code",
   "execution_count": 4,
   "id": "defa97e3",
   "metadata": {},
   "outputs": [],
   "source": [
    "def get_position(landmark_idx = mp_hands.HandLandmark.INDEX_FINGER_TIP):\n",
    "    x = int(results.multi_hand_landmarks[0].landmark[landmark_idx].x * 640)\n",
    "    y = int(results.multi_hand_landmarks[0].landmark[landmark_idx].y * 480)\n",
    "    z = results.multi_hand_landmarks[0].landmark[landmark_idx].y\n",
    "    \n",
    "    return x, y, z\n",
    "\n",
    "def get_distance(x1, y1, x2, y2):\n",
    "    distance = ((x1-x2)**2 + (y1-y2)**2)**0.5\n",
    "    return distance\n",
    "    "
   ]
  },
  {
   "cell_type": "code",
   "execution_count": 36,
   "id": "d4f1128a",
   "metadata": {},
   "outputs": [
    {
     "data": {
      "text/plain": [
       "array([3, 3])"
      ]
     },
     "execution_count": 36,
     "metadata": {},
     "output_type": "execute_result"
    }
   ],
   "source": [
    "np.array([3, 3])"
   ]
  },
  {
   "cell_type": "code",
   "execution_count": 5,
   "id": "c87ea422",
   "metadata": {},
   "outputs": [],
   "source": [
    "cap = cv2.VideoCapture(0)\n",
    "\n",
    "with mp_hands.Hands(min_detection_confidence=0.8, min_tracking_confidence=0.5) as hands:\n",
    "    while cap.isOpened():\n",
    "        ret, frame = cap.read()\n",
    "        \n",
    "        #BGR to RGB\n",
    "        image = cv2.cvtColor(frame, cv2.COLOR_BGR2RGB)\n",
    "        \n",
    "        #Flip horizontal\n",
    "        image = cv2.flip(image, 1)\n",
    "        \n",
    "        #Set flag\n",
    "        image.flags.writeable = False\n",
    "        \n",
    "        #Detections\n",
    "        results = hands.process(image)\n",
    "        \n",
    "        #Set flag back to True\n",
    "        image.flags.writeable = True\n",
    "        \n",
    "        #RGB to BGR\n",
    "        image = cv2.cvtColor(image, cv2.COLOR_RGB2BGR)\n",
    "        \n",
    "\n",
    "        #Rendering results\n",
    "        if results.multi_hand_landmarks:\n",
    "            for num, hand in enumerate(results.multi_hand_landmarks):\n",
    "                mp_drawing.draw_landmarks(image, hand, mp_hands.HAND_CONNECTIONS, \n",
    "                                         mp_drawing.DrawingSpec(color=(0,255,0), thickness=2, circle_radius=4), \n",
    "                                         mp_drawing.DrawingSpec(color=(0,0,255), thickness=2, circle_radius=4))\n",
    "                \n",
    "                \n",
    "            x1, y1, z1 = get_position(mp_hands.HandLandmark.INDEX_FINGER_MCP)\n",
    "            x2, y2, z2 = get_position(mp_hands.HandLandmark.WRIST)\n",
    "            base = int(get_distance(x1, y1, x2, y2))\n",
    "                \n",
    "            x1, y1, z1 = get_position(mp_hands.HandLandmark.INDEX_FINGER_TIP)\n",
    "            #cv2.putText(image, 'INDEX', (x1, y1), cv2.FONT_HERSHEY_SIMPLEX, 1, (255, 0, 0), 2, cv2.LINE_AA)\n",
    "            \n",
    "            x2, y2, z2 = get_position(mp_hands.HandLandmark.THUMB_TIP)\n",
    "            #cv2.putText(image, 'THUMB', (x2, y2), cv2.FONT_HERSHEY_SIMPLEX, 1, (255, 0, 0), 2, cv2.LINE_AA)\n",
    "            \n",
    "            cv2.line(image, (x1, y1), (x2, y2), (255, 125, 100), 2)\n",
    "            \n",
    "            dist = str(int(100*get_distance(x1, y1, x2, y2)/base)) \n",
    "            cv2.putText(image, dist, (x2, y2), cv2.FONT_HERSHEY_SIMPLEX, 1, (255, 0, 0), 2, cv2.LINE_AA)\n",
    "            #cv2.putText(image, str(z1), (x1, y1), cv2.FONT_HERSHEY_SIMPLEX, 1, (255, 0, 0), 2, cv2.LINE_AA)\n",
    "            \n",
    "        #image = cv2.flip(image, 0)\n",
    "        cv2.imshow(\"Hand Tracking\", image)\n",
    "\n",
    "        if cv2.waitKey(10) & 0xFF == ord('q'):\n",
    "            break\n",
    "\n",
    "    cap.release()\n",
    "    cv2.destroyAllWindows()"
   ]
  }
 ],
 "metadata": {
  "interpreter": {
   "hash": "ac59ebe37160ed0dfa835113d9b8498d9f09ceb179beaac4002f036b9467c963"
  },
  "kernelspec": {
   "display_name": "Python 3 (ipykernel)",
   "language": "python",
   "name": "python3"
  },
  "language_info": {
   "codemirror_mode": {
    "name": "ipython",
    "version": 3
   },
   "file_extension": ".py",
   "mimetype": "text/x-python",
   "name": "python",
   "nbconvert_exporter": "python",
   "pygments_lexer": "ipython3",
   "version": "3.9.7"
  }
 },
 "nbformat": 4,
 "nbformat_minor": 5
}
